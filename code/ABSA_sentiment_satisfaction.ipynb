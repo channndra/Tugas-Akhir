{
  "cells": [
    {
      "cell_type": "code",
      "execution_count": null,
      "metadata": {
        "colab": {
          "base_uri": "https://localhost:8080/"
        },
        "id": "_BBW-nJeEMNK",
        "outputId": "adc1e2d0-c84c-455b-ad01-9821b61c36c7"
      },
      "outputs": [
        {
          "output_type": "stream",
          "name": "stdout",
          "text": [
            "Mounted at /content/gdrive\n"
          ]
        }
      ],
      "source": [
        "from google.colab import drive\n",
        "drive.mount('/content/gdrive')"
      ]
    },
    {
      "cell_type": "markdown",
      "metadata": {
        "id": "RmMRW-PwDQsY"
      },
      "source": [
        "## **Data Initializing**"
      ]
    },
    {
      "cell_type": "code",
      "execution_count": null,
      "metadata": {
        "colab": {
          "base_uri": "https://localhost:8080/",
          "height": 206
        },
        "id": "i1h8MzCQcVMk",
        "outputId": "fe5ce82c-7153-4cd5-ae38-f1bd1a2b9421"
      },
      "outputs": [
        {
          "output_type": "execute_result",
          "data": {
            "text/plain": [
              "                                        review_token  Satisfaction\n",
              "0  [7, 36, 62, 27, 269, 26, 6, 97, 334, 7, 288, 2...             0\n",
              "1  [293, 74, 1, 913, 107, 80, 4, 19, 186, 15, 198...             0\n",
              "2  [2, 87, 17, 107, 137, 213, 89, 2, 82, 6, 53, 3...             0\n",
              "3  [2, 14, 12, 33, 519, 41, 4, 50, 25, 19, 68, 68...             1\n",
              "4  [74, 6, 53, 25, 61, 144, 4, 28, 797, 65, 218, ...             0"
            ],
            "text/html": [
              "\n",
              "  <div id=\"df-0ed02840-6bfe-4b3c-a9bb-517231eeb25b\" class=\"colab-df-container\">\n",
              "    <div>\n",
              "<style scoped>\n",
              "    .dataframe tbody tr th:only-of-type {\n",
              "        vertical-align: middle;\n",
              "    }\n",
              "\n",
              "    .dataframe tbody tr th {\n",
              "        vertical-align: top;\n",
              "    }\n",
              "\n",
              "    .dataframe thead th {\n",
              "        text-align: right;\n",
              "    }\n",
              "</style>\n",
              "<table border=\"1\" class=\"dataframe\">\n",
              "  <thead>\n",
              "    <tr style=\"text-align: right;\">\n",
              "      <th></th>\n",
              "      <th>review_token</th>\n",
              "      <th>Satisfaction</th>\n",
              "    </tr>\n",
              "  </thead>\n",
              "  <tbody>\n",
              "    <tr>\n",
              "      <th>0</th>\n",
              "      <td>[7, 36, 62, 27, 269, 26, 6, 97, 334, 7, 288, 2...</td>\n",
              "      <td>0</td>\n",
              "    </tr>\n",
              "    <tr>\n",
              "      <th>1</th>\n",
              "      <td>[293, 74, 1, 913, 107, 80, 4, 19, 186, 15, 198...</td>\n",
              "      <td>0</td>\n",
              "    </tr>\n",
              "    <tr>\n",
              "      <th>2</th>\n",
              "      <td>[2, 87, 17, 107, 137, 213, 89, 2, 82, 6, 53, 3...</td>\n",
              "      <td>0</td>\n",
              "    </tr>\n",
              "    <tr>\n",
              "      <th>3</th>\n",
              "      <td>[2, 14, 12, 33, 519, 41, 4, 50, 25, 19, 68, 68...</td>\n",
              "      <td>1</td>\n",
              "    </tr>\n",
              "    <tr>\n",
              "      <th>4</th>\n",
              "      <td>[74, 6, 53, 25, 61, 144, 4, 28, 797, 65, 218, ...</td>\n",
              "      <td>0</td>\n",
              "    </tr>\n",
              "  </tbody>\n",
              "</table>\n",
              "</div>\n",
              "    <div class=\"colab-df-buttons\">\n",
              "\n",
              "  <div class=\"colab-df-container\">\n",
              "    <button class=\"colab-df-convert\" onclick=\"convertToInteractive('df-0ed02840-6bfe-4b3c-a9bb-517231eeb25b')\"\n",
              "            title=\"Convert this dataframe to an interactive table.\"\n",
              "            style=\"display:none;\">\n",
              "\n",
              "  <svg xmlns=\"http://www.w3.org/2000/svg\" height=\"24px\" viewBox=\"0 -960 960 960\">\n",
              "    <path d=\"M120-120v-720h720v720H120Zm60-500h600v-160H180v160Zm220 220h160v-160H400v160Zm0 220h160v-160H400v160ZM180-400h160v-160H180v160Zm440 0h160v-160H620v160ZM180-180h160v-160H180v160Zm440 0h160v-160H620v160Z\"/>\n",
              "  </svg>\n",
              "    </button>\n",
              "\n",
              "  <style>\n",
              "    .colab-df-container {\n",
              "      display:flex;\n",
              "      gap: 12px;\n",
              "    }\n",
              "\n",
              "    .colab-df-convert {\n",
              "      background-color: #E8F0FE;\n",
              "      border: none;\n",
              "      border-radius: 50%;\n",
              "      cursor: pointer;\n",
              "      display: none;\n",
              "      fill: #1967D2;\n",
              "      height: 32px;\n",
              "      padding: 0 0 0 0;\n",
              "      width: 32px;\n",
              "    }\n",
              "\n",
              "    .colab-df-convert:hover {\n",
              "      background-color: #E2EBFA;\n",
              "      box-shadow: 0px 1px 2px rgba(60, 64, 67, 0.3), 0px 1px 3px 1px rgba(60, 64, 67, 0.15);\n",
              "      fill: #174EA6;\n",
              "    }\n",
              "\n",
              "    .colab-df-buttons div {\n",
              "      margin-bottom: 4px;\n",
              "    }\n",
              "\n",
              "    [theme=dark] .colab-df-convert {\n",
              "      background-color: #3B4455;\n",
              "      fill: #D2E3FC;\n",
              "    }\n",
              "\n",
              "    [theme=dark] .colab-df-convert:hover {\n",
              "      background-color: #434B5C;\n",
              "      box-shadow: 0px 1px 3px 1px rgba(0, 0, 0, 0.15);\n",
              "      filter: drop-shadow(0px 1px 2px rgba(0, 0, 0, 0.3));\n",
              "      fill: #FFFFFF;\n",
              "    }\n",
              "  </style>\n",
              "\n",
              "    <script>\n",
              "      const buttonEl =\n",
              "        document.querySelector('#df-0ed02840-6bfe-4b3c-a9bb-517231eeb25b button.colab-df-convert');\n",
              "      buttonEl.style.display =\n",
              "        google.colab.kernel.accessAllowed ? 'block' : 'none';\n",
              "\n",
              "      async function convertToInteractive(key) {\n",
              "        const element = document.querySelector('#df-0ed02840-6bfe-4b3c-a9bb-517231eeb25b');\n",
              "        const dataTable =\n",
              "          await google.colab.kernel.invokeFunction('convertToInteractive',\n",
              "                                                    [key], {});\n",
              "        if (!dataTable) return;\n",
              "\n",
              "        const docLinkHtml = 'Like what you see? Visit the ' +\n",
              "          '<a target=\"_blank\" href=https://colab.research.google.com/notebooks/data_table.ipynb>data table notebook</a>'\n",
              "          + ' to learn more about interactive tables.';\n",
              "        element.innerHTML = '';\n",
              "        dataTable['output_type'] = 'display_data';\n",
              "        await google.colab.output.renderOutput(dataTable, element);\n",
              "        const docLink = document.createElement('div');\n",
              "        docLink.innerHTML = docLinkHtml;\n",
              "        element.appendChild(docLink);\n",
              "      }\n",
              "    </script>\n",
              "  </div>\n",
              "\n",
              "\n",
              "<div id=\"df-6f336876-e903-41f6-accc-454c741e52db\">\n",
              "  <button class=\"colab-df-quickchart\" onclick=\"quickchart('df-6f336876-e903-41f6-accc-454c741e52db')\"\n",
              "            title=\"Suggest charts.\"\n",
              "            style=\"display:none;\">\n",
              "\n",
              "<svg xmlns=\"http://www.w3.org/2000/svg\" height=\"24px\"viewBox=\"0 0 24 24\"\n",
              "     width=\"24px\">\n",
              "    <g>\n",
              "        <path d=\"M19 3H5c-1.1 0-2 .9-2 2v14c0 1.1.9 2 2 2h14c1.1 0 2-.9 2-2V5c0-1.1-.9-2-2-2zM9 17H7v-7h2v7zm4 0h-2V7h2v10zm4 0h-2v-4h2v4z\"/>\n",
              "    </g>\n",
              "</svg>\n",
              "  </button>\n",
              "\n",
              "<style>\n",
              "  .colab-df-quickchart {\n",
              "      --bg-color: #E8F0FE;\n",
              "      --fill-color: #1967D2;\n",
              "      --hover-bg-color: #E2EBFA;\n",
              "      --hover-fill-color: #174EA6;\n",
              "      --disabled-fill-color: #AAA;\n",
              "      --disabled-bg-color: #DDD;\n",
              "  }\n",
              "\n",
              "  [theme=dark] .colab-df-quickchart {\n",
              "      --bg-color: #3B4455;\n",
              "      --fill-color: #D2E3FC;\n",
              "      --hover-bg-color: #434B5C;\n",
              "      --hover-fill-color: #FFFFFF;\n",
              "      --disabled-bg-color: #3B4455;\n",
              "      --disabled-fill-color: #666;\n",
              "  }\n",
              "\n",
              "  .colab-df-quickchart {\n",
              "    background-color: var(--bg-color);\n",
              "    border: none;\n",
              "    border-radius: 50%;\n",
              "    cursor: pointer;\n",
              "    display: none;\n",
              "    fill: var(--fill-color);\n",
              "    height: 32px;\n",
              "    padding: 0;\n",
              "    width: 32px;\n",
              "  }\n",
              "\n",
              "  .colab-df-quickchart:hover {\n",
              "    background-color: var(--hover-bg-color);\n",
              "    box-shadow: 0 1px 2px rgba(60, 64, 67, 0.3), 0 1px 3px 1px rgba(60, 64, 67, 0.15);\n",
              "    fill: var(--button-hover-fill-color);\n",
              "  }\n",
              "\n",
              "  .colab-df-quickchart-complete:disabled,\n",
              "  .colab-df-quickchart-complete:disabled:hover {\n",
              "    background-color: var(--disabled-bg-color);\n",
              "    fill: var(--disabled-fill-color);\n",
              "    box-shadow: none;\n",
              "  }\n",
              "\n",
              "  .colab-df-spinner {\n",
              "    border: 2px solid var(--fill-color);\n",
              "    border-color: transparent;\n",
              "    border-bottom-color: var(--fill-color);\n",
              "    animation:\n",
              "      spin 1s steps(1) infinite;\n",
              "  }\n",
              "\n",
              "  @keyframes spin {\n",
              "    0% {\n",
              "      border-color: transparent;\n",
              "      border-bottom-color: var(--fill-color);\n",
              "      border-left-color: var(--fill-color);\n",
              "    }\n",
              "    20% {\n",
              "      border-color: transparent;\n",
              "      border-left-color: var(--fill-color);\n",
              "      border-top-color: var(--fill-color);\n",
              "    }\n",
              "    30% {\n",
              "      border-color: transparent;\n",
              "      border-left-color: var(--fill-color);\n",
              "      border-top-color: var(--fill-color);\n",
              "      border-right-color: var(--fill-color);\n",
              "    }\n",
              "    40% {\n",
              "      border-color: transparent;\n",
              "      border-right-color: var(--fill-color);\n",
              "      border-top-color: var(--fill-color);\n",
              "    }\n",
              "    60% {\n",
              "      border-color: transparent;\n",
              "      border-right-color: var(--fill-color);\n",
              "    }\n",
              "    80% {\n",
              "      border-color: transparent;\n",
              "      border-right-color: var(--fill-color);\n",
              "      border-bottom-color: var(--fill-color);\n",
              "    }\n",
              "    90% {\n",
              "      border-color: transparent;\n",
              "      border-bottom-color: var(--fill-color);\n",
              "    }\n",
              "  }\n",
              "</style>\n",
              "\n",
              "  <script>\n",
              "    async function quickchart(key) {\n",
              "      const quickchartButtonEl =\n",
              "        document.querySelector('#' + key + ' button');\n",
              "      quickchartButtonEl.disabled = true;  // To prevent multiple clicks.\n",
              "      quickchartButtonEl.classList.add('colab-df-spinner');\n",
              "      try {\n",
              "        const charts = await google.colab.kernel.invokeFunction(\n",
              "            'suggestCharts', [key], {});\n",
              "      } catch (error) {\n",
              "        console.error('Error during call to suggestCharts:', error);\n",
              "      }\n",
              "      quickchartButtonEl.classList.remove('colab-df-spinner');\n",
              "      quickchartButtonEl.classList.add('colab-df-quickchart-complete');\n",
              "    }\n",
              "    (() => {\n",
              "      let quickchartButtonEl =\n",
              "        document.querySelector('#df-6f336876-e903-41f6-accc-454c741e52db button');\n",
              "      quickchartButtonEl.style.display =\n",
              "        google.colab.kernel.accessAllowed ? 'block' : 'none';\n",
              "    })();\n",
              "  </script>\n",
              "</div>\n",
              "    </div>\n",
              "  </div>\n"
            ]
          },
          "metadata": {},
          "execution_count": 2
        }
      ],
      "source": [
        "import pandas as pd\n",
        "\n",
        "df = pd.read_csv('/content/gdrive/MyDrive/skripsi_chandra/ABSA_satisfaction.csv')\n",
        "df.head()"
      ]
    },
    {
      "cell_type": "code",
      "execution_count": null,
      "metadata": {
        "colab": {
          "base_uri": "https://localhost:8080/"
        },
        "id": "rKgWCTqH1RGB",
        "outputId": "12878fc7-c460-43e5-a4c4-2ee72b5dc20e"
      },
      "outputs": [
        {
          "output_type": "stream",
          "name": "stdout",
          "text": [
            "<class 'numpy.int64'>\n",
            "<class 'str'>\n"
          ]
        }
      ],
      "source": [
        "print(type(df['Satisfaction'][0]))\n",
        "print(type(df['review_token'][0]))"
      ]
    },
    {
      "cell_type": "code",
      "execution_count": null,
      "metadata": {
        "id": "DiLw6n3b10EJ"
      },
      "outputs": [],
      "source": [
        "df['review_token'] = df['review_token'].map(lambda x: list(map(int, x[1:-1].split(', '))))"
      ]
    },
    {
      "cell_type": "code",
      "execution_count": null,
      "metadata": {
        "colab": {
          "base_uri": "https://localhost:8080/"
        },
        "id": "5FxxiPotEyyu",
        "outputId": "83008f95-9aa1-4487-adb5-497b755b58de"
      },
      "outputs": [
        {
          "output_type": "stream",
          "name": "stdout",
          "text": [
            "<class 'numpy.int64'>\n",
            "<class 'list'>\n"
          ]
        }
      ],
      "source": [
        "print(type(df['Satisfaction'][0]))\n",
        "print(type(df['review_token'][0]))"
      ]
    },
    {
      "cell_type": "code",
      "execution_count": null,
      "metadata": {
        "id": "5_-E0-F6JmOr"
      },
      "outputs": [],
      "source": [
        "reviews = df[['review_token']]\n",
        "labels = df['Satisfaction']"
      ]
    },
    {
      "cell_type": "markdown",
      "metadata": {
        "id": "6TdmSEMdGXqy"
      },
      "source": [
        "## **Splitting Data and Applying Padding**"
      ]
    },
    {
      "cell_type": "code",
      "execution_count": null,
      "metadata": {
        "colab": {
          "base_uri": "https://localhost:8080/"
        },
        "id": "e_Nyqm1c7mhu",
        "outputId": "1c3c0cf4-7d79-4cf8-c768-90007b4469fc"
      },
      "outputs": [
        {
          "output_type": "stream",
          "name": "stdout",
          "text": [
            "(4536, 1) (972, 1) (972, 1) (4536,) (972,) (972,)\n"
          ]
        }
      ],
      "source": [
        "from sklearn.model_selection import train_test_split\n",
        "\n",
        "x_train, x_temp, y_train, y_temp = train_test_split(reviews, labels, test_size=0.3, random_state=42, stratify=labels)\n",
        "x_val, x_test, y_val, y_test = train_test_split(x_temp, y_temp, test_size=0.5, random_state=42, stratify=y_temp)\n",
        "\n",
        "print(x_train.shape, x_val.shape, x_test.shape, y_train.shape, y_val.shape, y_test.shape)"
      ]
    },
    {
      "cell_type": "code",
      "execution_count": null,
      "metadata": {
        "id": "VLbuZdw7h_n5"
      },
      "outputs": [],
      "source": [
        "x_train_pad = x_train['review_token']\n",
        "x_val_pad = x_val['review_token']\n",
        "x_test_pad = x_test['review_token']"
      ]
    },
    {
      "cell_type": "code",
      "execution_count": null,
      "metadata": {
        "id": "QkM6T_FHrmga"
      },
      "outputs": [],
      "source": [
        "from keras.preprocessing import sequence\n",
        "from keras.utils import pad_sequences\n",
        "\n",
        "x_train = pad_sequences(x_train_pad, maxlen=100)\n",
        "x_val = pad_sequences(x_val_pad, maxlen=100)\n",
        "x_test = pad_sequences(x_test_pad, maxlen=100)"
      ]
    },
    {
      "cell_type": "markdown",
      "metadata": {
        "id": "M7re-QixGAIk"
      },
      "source": [
        "## **Modeling Initialization**"
      ]
    },
    {
      "cell_type": "code",
      "execution_count": null,
      "metadata": {
        "colab": {
          "base_uri": "https://localhost:8080/"
        },
        "id": "siZKHKdg5CjJ",
        "outputId": "eee0d01b-4f58-499f-abca-2755e4a8456e"
      },
      "outputs": [
        {
          "output_type": "stream",
          "name": "stdout",
          "text": [
            "Collecting keras-tuner\n",
            "  Downloading keras_tuner-1.3.5-py3-none-any.whl (176 kB)\n",
            "\u001b[2K     \u001b[90m━━━━━━━━━━━━━━━━━━━━━━━━━━━━━━━━━━━━━━━\u001b[0m \u001b[32m176.1/176.1 kB\u001b[0m \u001b[31m4.7 MB/s\u001b[0m eta \u001b[36m0:00:00\u001b[0m\n",
            "\u001b[?25hRequirement already satisfied: packaging in /usr/local/lib/python3.10/dist-packages (from keras-tuner) (23.1)\n",
            "Requirement already satisfied: requests in /usr/local/lib/python3.10/dist-packages (from keras-tuner) (2.31.0)\n",
            "Collecting kt-legacy (from keras-tuner)\n",
            "  Downloading kt_legacy-1.0.5-py3-none-any.whl (9.6 kB)\n",
            "Requirement already satisfied: charset-normalizer<4,>=2 in /usr/local/lib/python3.10/dist-packages (from requests->keras-tuner) (3.2.0)\n",
            "Requirement already satisfied: idna<4,>=2.5 in /usr/local/lib/python3.10/dist-packages (from requests->keras-tuner) (3.4)\n",
            "Requirement already satisfied: urllib3<3,>=1.21.1 in /usr/local/lib/python3.10/dist-packages (from requests->keras-tuner) (2.0.4)\n",
            "Requirement already satisfied: certifi>=2017.4.17 in /usr/local/lib/python3.10/dist-packages (from requests->keras-tuner) (2023.7.22)\n",
            "Installing collected packages: kt-legacy, keras-tuner\n",
            "Successfully installed keras-tuner-1.3.5 kt-legacy-1.0.5\n"
          ]
        }
      ],
      "source": [
        "pip install keras-tuner"
      ]
    },
    {
      "cell_type": "code",
      "execution_count": null,
      "metadata": {
        "id": "bRqcTRY2eYSs"
      },
      "outputs": [],
      "source": [
        "import numpy as np\n",
        "\n",
        "embedding_matrix = np.load('/content/gdrive/MyDrive/skripsi_chandra/embedding_matrix.npy')"
      ]
    },
    {
      "cell_type": "code",
      "execution_count": null,
      "metadata": {
        "id": "sopVXijz6igS"
      },
      "outputs": [],
      "source": [
        "from tensorflow.keras.callbacks import EarlyStopping\n",
        "\n",
        "early_stopping = EarlyStopping(restore_best_weights=True, patience=3,\n",
        "                               min_delta=0.01, monitor='val_loss')"
      ]
    },
    {
      "cell_type": "markdown",
      "metadata": {
        "id": "NVOPkfGPITO9"
      },
      "source": [
        "**Hyperparameter tuning**\n",
        "1. Filter Size [2], [2,3,4]\n",
        "3. Dropout Rate [0.25, 0.5]\n",
        "4. Learning Rate [0.001, 0.0001]"
      ]
    },
    {
      "cell_type": "markdown",
      "metadata": {
        "id": "_uxLmezcdG9w"
      },
      "source": [
        "## **CNN**"
      ]
    },
    {
      "cell_type": "code",
      "execution_count": null,
      "metadata": {
        "id": "vQerBsBydLFj"
      },
      "outputs": [],
      "source": [
        "from tensorflow.keras.models import Sequential\n",
        "from tensorflow.keras.layers import Dense, Conv1D, Dropout, Activation, MaxPooling1D, Flatten, Embedding\n",
        "from tensorflow.keras import optimizers, regularizers\n",
        "\n",
        "def build_CNN(hp):\n",
        "  model = Sequential()\n",
        "  model.add(Embedding(input_dim=2500, output_dim=300,\n",
        "                      weights=[embedding_matrix], input_length=100))\n",
        "\n",
        "  filter_sizes = hp.Choice('filter size', values=['2', '2,3,4'])\n",
        "  filter_sizes_list = [int(x) for x in filter_sizes.split(',')]\n",
        "  dropout_rate = hp.Choice('dropout rate', values=[0.25, 0.5])\n",
        "  learn_rate = hp.Choice('learning rate', values=[0.001, 0.0001])\n",
        "\n",
        "  conv_layers = []\n",
        "  for filter_size in filter_sizes_list:\n",
        "    conv_layer = Conv1D(filters=200, kernel_size=filter_size,\n",
        "                        padding='valid', activation='relu', strides=1)\n",
        "    conv_layers.append(conv_layer)\n",
        "\n",
        "  for conv_layer in conv_layers:\n",
        "    model.add(conv_layer)\n",
        "\n",
        "  model.add(MaxPooling1D())\n",
        "  model.add(Dense(128, activation='relu', kernel_regularizer=regularizers.l2(0.01)))\n",
        "  model.add(Dropout(dropout_rate))\n",
        "  model.add(Flatten())\n",
        "  model.add(Dense(1, activation='sigmoid'))\n",
        "  model.compile(optimizer=optimizers.Adam(learning_rate=learn_rate), loss='binary_crossentropy', metrics=['accuracy'])\n",
        "  return model"
      ]
    },
    {
      "cell_type": "code",
      "execution_count": null,
      "metadata": {
        "colab": {
          "base_uri": "https://localhost:8080/"
        },
        "id": "tQKZPXIU3wSB",
        "outputId": "0096d98c-a598-4c29-979e-fae46640bf8e"
      },
      "outputs": [
        {
          "output_type": "stream",
          "name": "stdout",
          "text": [
            "Trial 8 Complete [00h 00m 30s]\n",
            "val_accuracy: 0.9423868060112\n",
            "\n",
            "Best val_accuracy So Far: 0.951646089553833\n",
            "Total elapsed time: 00h 03m 41s\n",
            "Results summary\n",
            "Results in satisfaction_CNN/satisfaction\n",
            "Showing 10 best trials\n",
            "Objective(name=\"val_accuracy\", direction=\"max\")\n",
            "\n",
            "Trial 0006 summary\n",
            "Hyperparameters:\n",
            "filter size: 2,3,4\n",
            "dropout rate: 0.5\n",
            "learning rate: 0.001\n",
            "Score: 0.951646089553833\n",
            "\n",
            "Trial 0004 summary\n",
            "Hyperparameters:\n",
            "filter size: 2,3,4\n",
            "dropout rate: 0.25\n",
            "learning rate: 0.001\n",
            "Score: 0.9495884776115417\n",
            "\n",
            "Trial 0005 summary\n",
            "Hyperparameters:\n",
            "filter size: 2,3,4\n",
            "dropout rate: 0.25\n",
            "learning rate: 0.0001\n",
            "Score: 0.9444444179534912\n",
            "\n",
            "Trial 0003 summary\n",
            "Hyperparameters:\n",
            "filter size: 2\n",
            "dropout rate: 0.5\n",
            "learning rate: 0.0001\n",
            "Score: 0.9423868060112\n",
            "\n",
            "Trial 0007 summary\n",
            "Hyperparameters:\n",
            "filter size: 2,3,4\n",
            "dropout rate: 0.5\n",
            "learning rate: 0.0001\n",
            "Score: 0.9423868060112\n",
            "\n",
            "Trial 0000 summary\n",
            "Hyperparameters:\n",
            "filter size: 2\n",
            "dropout rate: 0.25\n",
            "learning rate: 0.001\n",
            "Score: 0.9403291940689087\n",
            "\n",
            "Trial 0002 summary\n",
            "Hyperparameters:\n",
            "filter size: 2\n",
            "dropout rate: 0.5\n",
            "learning rate: 0.001\n",
            "Score: 0.9403291940689087\n",
            "\n",
            "Trial 0001 summary\n",
            "Hyperparameters:\n",
            "filter size: 2\n",
            "dropout rate: 0.25\n",
            "learning rate: 0.0001\n",
            "Score: 0.9393004179000854\n"
          ]
        }
      ],
      "source": [
        "from keras_tuner import GridSearch\n",
        "from kerastuner.engine.hyperparameters import HyperParameters\n",
        "\n",
        "tuner = GridSearch(\n",
        "    build_CNN,\n",
        "    objective='val_accuracy',\n",
        "    directory='satisfaction_CNN',\n",
        "    project_name='satisfaction'\n",
        ")\n",
        "\n",
        "tuner.search(x_train, y_train, epochs=50, batch_size=64, verbose=1, validation_data=(x_val,y_val), callbacks=[early_stopping])\n",
        "tuner.results_summary()"
      ]
    },
    {
      "cell_type": "code",
      "execution_count": null,
      "metadata": {
        "colab": {
          "base_uri": "https://localhost:8080/"
        },
        "id": "CGkeZnTd8-qG",
        "outputId": "865d951a-a786-469b-b001-e22863e69d0f"
      },
      "outputs": [
        {
          "output_type": "execute_result",
          "data": {
            "text/plain": [
              "{'filter size': '2,3,4', 'dropout rate': 0.5, 'learning rate': 0.001}"
            ]
          },
          "metadata": {},
          "execution_count": 15
        }
      ],
      "source": [
        "best_hp = tuner.get_best_hyperparameters(num_trials=1)[0]\n",
        "best_hp.values"
      ]
    },
    {
      "cell_type": "code",
      "execution_count": null,
      "metadata": {
        "colab": {
          "base_uri": "https://localhost:8080/"
        },
        "id": "veMkd7JZ1dMn",
        "outputId": "88dc2948-3308-41ae-fbe8-6539a1faa562"
      },
      "outputs": [
        {
          "output_type": "stream",
          "name": "stdout",
          "text": [
            "Epoch 1/50\n",
            "71/71 [==============================] - 10s 109ms/step - loss: 1.2337 - accuracy: 0.7665 - val_loss: 0.5115 - val_accuracy: 0.9259\n",
            "Epoch 2/50\n",
            "71/71 [==============================] - 4s 52ms/step - loss: 0.3183 - accuracy: 0.9429 - val_loss: 0.2619 - val_accuracy: 0.9372\n",
            "Epoch 3/50\n",
            "71/71 [==============================] - 2s 26ms/step - loss: 0.1622 - accuracy: 0.9614 - val_loss: 0.2062 - val_accuracy: 0.9444\n",
            "Epoch 4/50\n",
            "71/71 [==============================] - 2s 26ms/step - loss: 0.0972 - accuracy: 0.9764 - val_loss: 0.1800 - val_accuracy: 0.9465\n",
            "Epoch 5/50\n",
            "71/71 [==============================] - 1s 14ms/step - loss: 0.0732 - accuracy: 0.9826 - val_loss: 0.1953 - val_accuracy: 0.9414\n",
            "Epoch 6/50\n",
            "71/71 [==============================] - 1s 15ms/step - loss: 0.0628 - accuracy: 0.9835 - val_loss: 0.2105 - val_accuracy: 0.9465\n",
            "Epoch 7/50\n",
            "71/71 [==============================] - 1s 15ms/step - loss: 0.0470 - accuracy: 0.9892 - val_loss: 0.2246 - val_accuracy: 0.9475\n",
            "Model: \"sequential_1\"\n",
            "_________________________________________________________________\n",
            " Layer (type)                Output Shape              Param #   \n",
            "=================================================================\n",
            " embedding_1 (Embedding)     (None, 100, 300)          750000    \n",
            "                                                                 \n",
            " conv1d_3 (Conv1D)           (None, 99, 200)           120200    \n",
            "                                                                 \n",
            " conv1d_4 (Conv1D)           (None, 97, 200)           120200    \n",
            "                                                                 \n",
            " conv1d_5 (Conv1D)           (None, 94, 200)           160200    \n",
            "                                                                 \n",
            " max_pooling1d_1 (MaxPoolin  (None, 47, 200)           0         \n",
            " g1D)                                                            \n",
            "                                                                 \n",
            " dense_2 (Dense)             (None, 47, 128)           25728     \n",
            "                                                                 \n",
            " dropout_1 (Dropout)         (None, 47, 128)           0         \n",
            "                                                                 \n",
            " flatten_1 (Flatten)         (None, 6016)              0         \n",
            "                                                                 \n",
            " dense_3 (Dense)             (None, 1)                 6017      \n",
            "                                                                 \n",
            "=================================================================\n",
            "Total params: 1182345 (4.51 MB)\n",
            "Trainable params: 1182345 (4.51 MB)\n",
            "Non-trainable params: 0 (0.00 Byte)\n",
            "_________________________________________________________________\n"
          ]
        }
      ],
      "source": [
        "model = build_CNN(best_hp)\n",
        "history = model.fit(x_train, y_train,\n",
        "                    epochs=50, batch_size=64,\n",
        "                    validation_data=(x_val, y_val),\n",
        "                    callbacks=[early_stopping])\n",
        "model.summary()"
      ]
    },
    {
      "cell_type": "code",
      "execution_count": null,
      "metadata": {
        "colab": {
          "base_uri": "https://localhost:8080/",
          "height": 333
        },
        "id": "dRCxmCPuEQjo",
        "outputId": "796439d1-3ae0-4f05-ec78-998c70245c84"
      },
      "outputs": [
        {
          "output_type": "display_data",
          "data": {
            "text/plain": [
              "<Figure size 1000x300 with 2 Axes>"
            ],
            "image/png": "[encoded data removed]"
          },
          "metadata": {}
        }
      ],
      "source": [
        "import matplotlib.pyplot as plt\n",
        "\n",
        "fig, (ax1, ax2) = plt.subplots(1, 2, figsize=(10, 3))\n",
        "ax1.plot(history.history['accuracy'], label='Train')\n",
        "ax1.plot(history.history['val_accuracy'], label='Val')\n",
        "ax1.set_title('Model Accuracy')\n",
        "ax1.set_xlabel('Epoch')\n",
        "ax1.set_ylabel('Accuracy')\n",
        "ax1.legend(loc='upper left')\n",
        "\n",
        "ax2.plot(history.history['loss'], label='Train')\n",
        "ax2.plot(history.history['val_loss'], label='Val')\n",
        "ax2.set_title('Model Loss')\n",
        "ax2.set_xlabel('Epoch')\n",
        "ax2.set_ylabel('Loss')\n",
        "ax2.legend(loc='upper left')\n",
        "\n",
        "plt.show()"
      ]
    },
    {
      "cell_type": "code",
      "execution_count": null,
      "metadata": {
        "colab": {
          "base_uri": "https://localhost:8080/"
        },
        "id": "juQhPQtGzSCZ",
        "outputId": "30bfaacc-3237-4349-f25a-6af2c56dffe8"
      },
      "outputs": [
        {
          "output_type": "stream",
          "name": "stderr",
          "text": [
            "/usr/local/lib/python3.10/dist-packages/keras/src/engine/training.py:3000: UserWarning: You are saving your model as an HDF5 file via `model.save()`. This file format is considered legacy. We recommend using instead the native Keras format, e.g. `model.save('my_model.keras')`.\n",
            "  saving_api.save_model(\n"
          ]
        }
      ],
      "source": [
        "model.save('satisfaction_CNN.h5')"
      ]
    },
    {
      "cell_type": "code",
      "execution_count": null,
      "metadata": {
        "colab": {
          "base_uri": "https://localhost:8080/"
        },
        "id": "UKpiBmfiza6v",
        "outputId": "ccb46149-8583-4de8-f1b4-54b48ba161ed"
      },
      "outputs": [
        {
          "output_type": "stream",
          "name": "stdout",
          "text": [
            "31/31 [==============================] - 0s 2ms/step\n"
          ]
        }
      ],
      "source": [
        "predictions = model.predict(x_test)"
      ]
    },
    {
      "cell_type": "code",
      "source": [
        "y_pred = predictions >= 0.5"
      ],
      "metadata": {
        "id": "E9ovD2z37cPU"
      },
      "execution_count": null,
      "outputs": []
    },
    {
      "cell_type": "code",
      "source": [
        "from sklearn.metrics import precision_score, recall_score, f1_score\n",
        "\n",
        "macro_precision = precision_score(y_test, y_pred, average='macro')\n",
        "macro_recall = recall_score(y_test, y_pred, average='macro')\n",
        "macro_f1 = f1_score(y_test, y_pred, average='macro')\n",
        "\n",
        "print(f\"Macro-Average Precision: {macro_precision}\")\n",
        "print(f\"Macro-Average Recall: {macro_recall}\")\n",
        "print(f\"Macro-Average F1 Score: {macro_f1}\")"
      ],
      "metadata": {
        "colab": {
          "base_uri": "https://localhost:8080/"
        },
        "id": "4oA9XI7T7a49",
        "outputId": "eb1fa95d-761a-4dcf-d03f-1e9a01d533f7"
      },
      "execution_count": null,
      "outputs": [
        {
          "output_type": "stream",
          "name": "stdout",
          "text": [
            "Macro-Average Precision: 0.9537073257467994\n",
            "Macro-Average Recall: 0.9464302116547914\n",
            "Macro-Average F1 Score: 0.9496614455640829\n"
          ]
        }
      ]
    },
    {
      "cell_type": "code",
      "execution_count": null,
      "metadata": {
        "colab": {
          "base_uri": "https://localhost:8080/"
        },
        "id": "Q4tdr70Yzfi-",
        "outputId": "86435977-2806-40df-939f-390c349ba270"
      },
      "outputs": [
        {
          "output_type": "stream",
          "name": "stdout",
          "text": [
            "              precision    recall  f1-score   support\n",
            "\n",
            "           0       0.94      0.98      0.96       573\n",
            "           1       0.96      0.92      0.94       399\n",
            "\n",
            "    accuracy                           0.95       972\n",
            "   macro avg       0.95      0.95      0.95       972\n",
            "weighted avg       0.95      0.95      0.95       972\n",
            "\n"
          ]
        }
      ],
      "source": [
        "from sklearn.metrics import classification_report\n",
        "\n",
        "labels = [\"Negative\", \"Positive\"]\n",
        "report = classification_report(y_test, y_pred)\n",
        "print(report)"
      ]
    },
    {
      "cell_type": "code",
      "execution_count": null,
      "metadata": {
        "colab": {
          "base_uri": "https://localhost:8080/",
          "height": 388
        },
        "id": "r0lKzWsqzhuW",
        "outputId": "c1719595-3ce7-4a2d-8719-89949408661b"
      },
      "outputs": [
        {
          "output_type": "display_data",
          "data": {
            "text/plain": [
              "<Figure size 600x400 with 2 Axes>"
            ],
            "image/png": "[encoded data removed]"
          },
          "metadata": {}
        }
      ],
      "source": [
        "import seaborn as sns\n",
        "import matplotlib.pyplot as plt\n",
        "from sklearn.metrics import confusion_matrix\n",
        "\n",
        "cm = confusion_matrix(y_test, y_pred)\n",
        "\n",
        "plt.figure(figsize=(6, 4))\n",
        "ax = sns.heatmap(cm, annot=True, xticklabels=labels, yticklabels=labels, cmap='flare', fmt='d')\n",
        "plt.xlabel(\"Predicted label\")\n",
        "plt.ylabel(\"Actual label\")\n",
        "plt.show()"
      ]
    },
    {
      "cell_type": "markdown",
      "metadata": {
        "id": "vXLkiM8MEpji"
      },
      "source": [
        "# **CNN-LSTM**"
      ]
    },
    {
      "cell_type": "code",
      "execution_count": null,
      "metadata": {
        "id": "vFcRCr9BEsa7"
      },
      "outputs": [],
      "source": [
        "from tensorflow.keras.models import Sequential\n",
        "from tensorflow.keras.layers import LSTM, Dense, Conv1D, Dropout, Activation, MaxPooling1D, Flatten, Embedding\n",
        "from tensorflow.keras import optimizers, regularizers\n",
        "\n",
        "def build_CNNLSTM(hp):\n",
        "  model = Sequential()\n",
        "  model.add(Embedding(input_dim=2500, output_dim=300,\n",
        "                      weights=[embedding_matrix], input_length=100))\n",
        "\n",
        "  filter_sizes = hp.Choice('filter size', values=['2', '2,3,4'])\n",
        "  filter_sizes_list = [int(x) for x in filter_sizes.split(',')]\n",
        "  dropout_rate = hp.Choice('dropout rate', values=[0.25, 0.5])\n",
        "  learn_rate = hp.Choice('learning rate', values=[0.001, 0.0001])\n",
        "\n",
        "  conv_layers = []\n",
        "  for filter_size in filter_sizes_list:\n",
        "    conv_layer = Conv1D(filters=200, kernel_size=filter_size,\n",
        "                        padding='valid', activation='relu', strides=1)\n",
        "    conv_layers.append(conv_layer)\n",
        "\n",
        "  for conv_layer in conv_layers:\n",
        "    model.add(conv_layer)\n",
        "\n",
        "  model.add(MaxPooling1D())\n",
        "  model.add(Dense(128, activation='relu', kernel_regularizer=regularizers.l2(0.01)))\n",
        "  model.add(Dropout(dropout_rate))\n",
        "  model.add(LSTM(64))\n",
        "  model.add(Dense(1, activation='sigmoid'))\n",
        "  model.compile(optimizer=optimizers.Adam(learning_rate=learn_rate), loss='binary_crossentropy', metrics=['accuracy'])\n",
        "  return model"
      ]
    },
    {
      "cell_type": "code",
      "execution_count": null,
      "metadata": {
        "colab": {
          "base_uri": "https://localhost:8080/"
        },
        "id": "5kduer4BEy6v",
        "outputId": "bb8a26a9-b9ed-47bd-f91f-718fd009c6d9"
      },
      "outputs": [
        {
          "output_type": "stream",
          "name": "stdout",
          "text": [
            "Trial 8 Complete [00h 00m 41s]\n",
            "val_accuracy: 0.9495884776115417\n",
            "\n",
            "Best val_accuracy So Far: 0.9557613134384155\n",
            "Total elapsed time: 00h 04m 48s\n",
            "Results summary\n",
            "Results in satisfaction_CNNLSTM/satisfaction\n",
            "Showing 10 best trials\n",
            "Objective(name=\"val_accuracy\", direction=\"max\")\n",
            "\n",
            "Trial 0006 summary\n",
            "Hyperparameters:\n",
            "filter size: 2,3,4\n",
            "dropout rate: 0.5\n",
            "learning rate: 0.001\n",
            "Score: 0.9557613134384155\n",
            "\n",
            "Trial 0001 summary\n",
            "Hyperparameters:\n",
            "filter size: 2\n",
            "dropout rate: 0.25\n",
            "learning rate: 0.0001\n",
            "Score: 0.9537037014961243\n",
            "\n",
            "Trial 0004 summary\n",
            "Hyperparameters:\n",
            "filter size: 2,3,4\n",
            "dropout rate: 0.25\n",
            "learning rate: 0.001\n",
            "Score: 0.9537037014961243\n",
            "\n",
            "Trial 0002 summary\n",
            "Hyperparameters:\n",
            "filter size: 2\n",
            "dropout rate: 0.5\n",
            "learning rate: 0.001\n",
            "Score: 0.951646089553833\n",
            "\n",
            "Trial 0003 summary\n",
            "Hyperparameters:\n",
            "filter size: 2\n",
            "dropout rate: 0.5\n",
            "learning rate: 0.0001\n",
            "Score: 0.951646089553833\n",
            "\n",
            "Trial 0005 summary\n",
            "Hyperparameters:\n",
            "filter size: 2,3,4\n",
            "dropout rate: 0.25\n",
            "learning rate: 0.0001\n",
            "Score: 0.9506173133850098\n",
            "\n",
            "Trial 0007 summary\n",
            "Hyperparameters:\n",
            "filter size: 2,3,4\n",
            "dropout rate: 0.5\n",
            "learning rate: 0.0001\n",
            "Score: 0.9495884776115417\n",
            "\n",
            "Trial 0000 summary\n",
            "Hyperparameters:\n",
            "filter size: 2\n",
            "dropout rate: 0.25\n",
            "learning rate: 0.001\n",
            "Score: 0.9465020298957825\n"
          ]
        }
      ],
      "source": [
        "from keras_tuner import GridSearch\n",
        "from kerastuner.engine.hyperparameters import HyperParameters\n",
        "\n",
        "tuner = GridSearch(\n",
        "    build_CNNLSTM,\n",
        "    objective='val_accuracy',\n",
        "    directory='satisfaction_CNNLSTM',\n",
        "    project_name='satisfaction'\n",
        ")\n",
        "\n",
        "tuner.search(x_train, y_train, epochs=50, batch_size=64, verbose=1, validation_data=(x_val,y_val), callbacks=[early_stopping])\n",
        "tuner.results_summary()"
      ]
    },
    {
      "cell_type": "code",
      "execution_count": null,
      "metadata": {
        "colab": {
          "base_uri": "https://localhost:8080/"
        },
        "id": "WAo0Y9VAEy9R",
        "outputId": "02d2f4e3-ee59-4441-8758-5d2dc73b4d1a"
      },
      "outputs": [
        {
          "output_type": "execute_result",
          "data": {
            "text/plain": [
              "{'filter size': '2,3,4', 'dropout rate': 0.5, 'learning rate': 0.001}"
            ]
          },
          "metadata": {},
          "execution_count": 15
        }
      ],
      "source": [
        "best_hp = tuner.get_best_hyperparameters(num_trials=1)[0]\n",
        "best_hp.values"
      ]
    },
    {
      "cell_type": "code",
      "execution_count": null,
      "metadata": {
        "colab": {
          "base_uri": "https://localhost:8080/"
        },
        "id": "vy-lj-OMEy_h",
        "outputId": "19e53972-7f3d-45bd-fa47-09628d988bb9"
      },
      "outputs": [
        {
          "output_type": "stream",
          "name": "stdout",
          "text": [
            "Epoch 1/50\n",
            "71/71 [==============================] - 11s 108ms/step - loss: 1.1765 - accuracy: 0.8062 - val_loss: 0.4649 - val_accuracy: 0.9362\n",
            "Epoch 2/50\n",
            "71/71 [==============================] - 4s 59ms/step - loss: 0.2888 - accuracy: 0.9504 - val_loss: 0.2031 - val_accuracy: 0.9465\n",
            "Epoch 3/50\n",
            "71/71 [==============================] - 3s 47ms/step - loss: 0.1269 - accuracy: 0.9696 - val_loss: 0.1630 - val_accuracy: 0.9516\n",
            "Epoch 4/50\n",
            "71/71 [==============================] - 2s 32ms/step - loss: 0.0859 - accuracy: 0.9784 - val_loss: 0.1899 - val_accuracy: 0.9434\n",
            "Epoch 5/50\n",
            "71/71 [==============================] - 1s 18ms/step - loss: 0.0688 - accuracy: 0.9808 - val_loss: 0.1788 - val_accuracy: 0.9444\n",
            "Epoch 6/50\n",
            "71/71 [==============================] - 1s 20ms/step - loss: 0.0554 - accuracy: 0.9857 - val_loss: 0.1978 - val_accuracy: 0.9475\n",
            "Model: \"sequential_2\"\n",
            "_________________________________________________________________\n",
            " Layer (type)                Output Shape              Param #   \n",
            "=================================================================\n",
            " embedding_2 (Embedding)     (None, 100, 300)          750000    \n",
            "                                                                 \n",
            " conv1d_6 (Conv1D)           (None, 99, 200)           120200    \n",
            "                                                                 \n",
            " conv1d_7 (Conv1D)           (None, 97, 200)           120200    \n",
            "                                                                 \n",
            " conv1d_8 (Conv1D)           (None, 94, 200)           160200    \n",
            "                                                                 \n",
            " max_pooling1d_2 (MaxPoolin  (None, 47, 200)           0         \n",
            " g1D)                                                            \n",
            "                                                                 \n",
            " dense_4 (Dense)             (None, 47, 128)           25728     \n",
            "                                                                 \n",
            " dropout_2 (Dropout)         (None, 47, 128)           0         \n",
            "                                                                 \n",
            " lstm_2 (LSTM)               (None, 64)                49408     \n",
            "                                                                 \n",
            " dense_5 (Dense)             (None, 1)                 65        \n",
            "                                                                 \n",
            "=================================================================\n",
            "Total params: 1225801 (4.68 MB)\n",
            "Trainable params: 1225801 (4.68 MB)\n",
            "Non-trainable params: 0 (0.00 Byte)\n",
            "_________________________________________________________________\n"
          ]
        }
      ],
      "source": [
        "model = build_CNNLSTM(best_hp)\n",
        "history = model.fit(x_train, y_train,\n",
        "                    epochs=50, batch_size=64,\n",
        "                    validation_data=(x_val, y_val),\n",
        "                    callbacks=[early_stopping])\n",
        "model.summary()"
      ]
    },
    {
      "cell_type": "code",
      "execution_count": null,
      "metadata": {
        "colab": {
          "base_uri": "https://localhost:8080/",
          "height": 333
        },
        "id": "58b8VosoHZqW",
        "outputId": "5b99dec8-acf8-44ad-cbaa-295d1094c6ce"
      },
      "outputs": [
        {
          "output_type": "display_data",
          "data": {
            "text/plain": [
              "<Figure size 1000x300 with 2 Axes>"
            ],
            "image/png": "[encoded data removed]"
          },
          "metadata": {}
        }
      ],
      "source": [
        "import matplotlib.pyplot as plt\n",
        "\n",
        "fig, (ax1, ax2) = plt.subplots(1, 2, figsize=(10, 3))\n",
        "ax1.plot(history.history['accuracy'], label='Train')\n",
        "ax1.plot(history.history['val_accuracy'], label='Val')\n",
        "ax1.set_title('Model Accuracy')\n",
        "ax1.set_xlabel('Epoch')\n",
        "ax1.set_ylabel('Accuracy')\n",
        "ax1.legend(loc='upper left')\n",
        "\n",
        "ax2.plot(history.history['loss'], label='Train')\n",
        "ax2.plot(history.history['val_loss'], label='Val')\n",
        "ax2.set_title('Model Loss')\n",
        "ax2.set_xlabel('Epoch')\n",
        "ax2.set_ylabel('Loss')\n",
        "ax2.legend(loc='upper left')\n",
        "\n",
        "plt.show()"
      ]
    },
    {
      "cell_type": "code",
      "execution_count": null,
      "metadata": {
        "colab": {
          "base_uri": "https://localhost:8080/"
        },
        "id": "hfMalbeREzCF",
        "outputId": "5daafa7e-1308-4616-c1b4-f5a19a47cf22"
      },
      "outputs": [
        {
          "output_type": "stream",
          "name": "stderr",
          "text": [
            "/usr/local/lib/python3.10/dist-packages/keras/src/engine/training.py:3000: UserWarning: You are saving your model as an HDF5 file via `model.save()`. This file format is considered legacy. We recommend using instead the native Keras format, e.g. `model.save('my_model.keras')`.\n",
            "  saving_api.save_model(\n"
          ]
        }
      ],
      "source": [
        "model.save('satisfaction_CNNLSTM.h5')"
      ]
    },
    {
      "cell_type": "code",
      "execution_count": null,
      "metadata": {
        "colab": {
          "base_uri": "https://localhost:8080/"
        },
        "id": "7Ptrx1aPEzEg",
        "outputId": "b5090381-6b1a-4633-95f2-44231ef08e33"
      },
      "outputs": [
        {
          "output_type": "stream",
          "name": "stdout",
          "text": [
            "31/31 [==============================] - 1s 3ms/step\n"
          ]
        }
      ],
      "source": [
        "predictions = model.predict(x_test)"
      ]
    },
    {
      "cell_type": "code",
      "source": [
        "y_pred = predictions >= 0.5"
      ],
      "metadata": {
        "id": "OOgZ2y7q7fYK"
      },
      "execution_count": null,
      "outputs": []
    },
    {
      "cell_type": "code",
      "source": [
        "from sklearn.metrics import precision_score, recall_score, f1_score\n",
        "\n",
        "macro_precision = precision_score(y_test, y_pred, average='macro')\n",
        "macro_recall = recall_score(y_test, y_pred, average='macro')\n",
        "macro_f1 = f1_score(y_test, y_pred, average='macro')\n",
        "\n",
        "print(f\"Macro-Average Precision: {macro_precision}\")\n",
        "print(f\"Macro-Average Recall: {macro_recall}\")\n",
        "print(f\"Macro-Average F1 Score: {macro_f1}\")"
      ],
      "metadata": {
        "colab": {
          "base_uri": "https://localhost:8080/"
        },
        "id": "eWeEtBxf7e5A",
        "outputId": "022f941a-f8f2-440a-94b4-a374b2e2c4d8"
      },
      "execution_count": null,
      "outputs": [
        {
          "output_type": "stream",
          "name": "stdout",
          "text": [
            "Macro-Average Precision: 0.9627813155084444\n",
            "Macro-Average Recall: 0.9605952052907136\n",
            "Macro-Average F1 Score: 0.9616477272727273\n"
          ]
        }
      ]
    },
    {
      "cell_type": "code",
      "execution_count": null,
      "metadata": {
        "colab": {
          "base_uri": "https://localhost:8080/"
        },
        "id": "gtvGrqSkEzGv",
        "outputId": "e2ba14c4-17f0-4bd2-9bed-318c90f4f635"
      },
      "outputs": [
        {
          "output_type": "stream",
          "name": "stdout",
          "text": [
            "              precision    recall  f1-score   support\n",
            "\n",
            "           0       0.96      0.97      0.97       573\n",
            "           1       0.96      0.95      0.95       399\n",
            "\n",
            "    accuracy                           0.96       972\n",
            "   macro avg       0.96      0.96      0.96       972\n",
            "weighted avg       0.96      0.96      0.96       972\n",
            "\n"
          ]
        }
      ],
      "source": [
        "from sklearn.metrics import classification_report\n",
        "\n",
        "labels = [\"Negative\", \"Positive\"]\n",
        "report = classification_report(y_test, y_pred)\n",
        "print(report)"
      ]
    },
    {
      "cell_type": "code",
      "execution_count": null,
      "metadata": {
        "colab": {
          "base_uri": "https://localhost:8080/",
          "height": 388
        },
        "id": "gRCSHhP_EzJd",
        "outputId": "6afe5c5f-fddb-46ef-cfb8-932ff9e6fe0d"
      },
      "outputs": [
        {
          "output_type": "display_data",
          "data": {
            "text/plain": [
              "<Figure size 600x400 with 2 Axes>"
            ],
            "image/png": "[encoded data removed]"
          },
          "metadata": {}
        }
      ],
      "source": [
        "import seaborn as sns\n",
        "import matplotlib.pyplot as plt\n",
        "from sklearn.metrics import confusion_matrix\n",
        "\n",
        "cm = confusion_matrix(y_test, y_pred)\n",
        "\n",
        "plt.figure(figsize=(6, 4))\n",
        "ax = sns.heatmap(cm, annot=True, xticklabels=labels, yticklabels=labels, cmap='flare', fmt='d')\n",
        "plt.xlabel(\"Predicted label\")\n",
        "plt.ylabel(\"Actual label\")\n",
        "plt.show()"
      ]
    }
  ],
  "metadata": {
    "accelerator": "GPU",
    "colab": {
      "machine_shape": "hm",
      "provenance": [],
      "gpuType": "V100"
    },
    "kernelspec": {
      "display_name": "Python 3",
      "name": "python3"
    },
    "language_info": {
      "name": "python"
    }
  },
  "nbformat": 4,
  "nbformat_minor": 0
}