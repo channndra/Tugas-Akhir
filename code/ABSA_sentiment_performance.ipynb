{
  "cells": [
    {
      "cell_type": "code",
      "execution_count": null,
      "metadata": {
        "colab": {
          "base_uri": "https://localhost:8080/"
        },
        "id": "_BBW-nJeEMNK",
        "outputId": "e80d90c6-bc4e-4f70-9528-f7b2e78ea4aa"
      },
      "outputs": [
        {
          "output_type": "stream",
          "name": "stdout",
          "text": [
            "Mounted at /content/gdrive\n"
          ]
        }
      ],
      "source": [
        "from google.colab import drive\n",
        "drive.mount('/content/gdrive')"
      ]
    },
    {
      "cell_type": "markdown",
      "metadata": {
        "id": "RmMRW-PwDQsY"
      },
      "source": [
        "## **Data Initializing**"
      ]
    },
    {
      "cell_type": "code",
      "execution_count": null,
      "metadata": {
        "colab": {
          "base_uri": "https://localhost:8080/",
          "height": 206
        },
        "id": "i1h8MzCQcVMk",
        "outputId": "538bbb39-029d-431c-9106-bca634faf38b"
      },
      "outputs": [
        {
          "output_type": "execute_result",
          "data": {
            "text/plain": [
              "                                        review_token  \\\n",
              "0  [7, 36, 62, 27, 269, 26, 6, 97, 334, 7, 288, 2...   \n",
              "1  [293, 74, 1, 913, 107, 80, 4, 19, 186, 15, 198...   \n",
              "2  [2, 87, 17, 107, 137, 213, 89, 2, 82, 6, 53, 3...   \n",
              "3  [328, 32, 186, 329, 820, 1178, 2402, 326, 2403...   \n",
              "4  [2, 14, 12, 33, 519, 41, 4, 50, 25, 19, 68, 68...   \n",
              "\n",
              "   Performance and Stability  \n",
              "0                          0  \n",
              "1                          0  \n",
              "2                          0  \n",
              "3                          0  \n",
              "4                          1  "
            ],
            "text/html": [
              "\n",
              "  <div id=\"df-088a1e77-b51c-4023-a475-29cd8e03bd35\" class=\"colab-df-container\">\n",
              "    <div>\n",
              "<style scoped>\n",
              "    .dataframe tbody tr th:only-of-type {\n",
              "        vertical-align: middle;\n",
              "    }\n",
              "\n",
              "    .dataframe tbody tr th {\n",
              "        vertical-align: top;\n",
              "    }\n",
              "\n",
              "    .dataframe thead th {\n",
              "        text-align: right;\n",
              "    }\n",
              "</style>\n",
              "<table border=\"1\" class=\"dataframe\">\n",
              "  <thead>\n",
              "    <tr style=\"text-align: right;\">\n",
              "      <th></th>\n",
              "      <th>review_token</th>\n",
              "      <th>Performance and Stability</th>\n",
              "    </tr>\n",
              "  </thead>\n",
              "  <tbody>\n",
              "    <tr>\n",
              "      <th>0</th>\n",
              "      <td>[7, 36, 62, 27, 269, 26, 6, 97, 334, 7, 288, 2...</td>\n",
              "      <td>0</td>\n",
              "    </tr>\n",
              "    <tr>\n",
              "      <th>1</th>\n",
              "      <td>[293, 74, 1, 913, 107, 80, 4, 19, 186, 15, 198...</td>\n",
              "      <td>0</td>\n",
              "    </tr>\n",
              "    <tr>\n",
              "      <th>2</th>\n",
              "      <td>[2, 87, 17, 107, 137, 213, 89, 2, 82, 6, 53, 3...</td>\n",
              "      <td>0</td>\n",
              "    </tr>\n",
              "    <tr>\n",
              "      <th>3</th>\n",
              "      <td>[328, 32, 186, 329, 820, 1178, 2402, 326, 2403...</td>\n",
              "      <td>0</td>\n",
              "    </tr>\n",
              "    <tr>\n",
              "      <th>4</th>\n",
              "      <td>[2, 14, 12, 33, 519, 41, 4, 50, 25, 19, 68, 68...</td>\n",
              "      <td>1</td>\n",
              "    </tr>\n",
              "  </tbody>\n",
              "</table>\n",
              "</div>\n",
              "    <div class=\"colab-df-buttons\">\n",
              "\n",
              "  <div class=\"colab-df-container\">\n",
              "    <button class=\"colab-df-convert\" onclick=\"convertToInteractive('df-088a1e77-b51c-4023-a475-29cd8e03bd35')\"\n",
              "            title=\"Convert this dataframe to an interactive table.\"\n",
              "            style=\"display:none;\">\n",
              "\n",
              "  <svg xmlns=\"http://www.w3.org/2000/svg\" height=\"24px\" viewBox=\"0 -960 960 960\">\n",
              "    <path d=\"M120-120v-720h720v720H120Zm60-500h600v-160H180v160Zm220 220h160v-160H400v160Zm0 220h160v-160H400v160ZM180-400h160v-160H180v160Zm440 0h160v-160H620v160ZM180-180h160v-160H180v160Zm440 0h160v-160H620v160Z\"/>\n",
              "  </svg>\n",
              "    </button>\n",
              "\n",
              "  <style>\n",
              "    .colab-df-container {\n",
              "      display:flex;\n",
              "      gap: 12px;\n",
              "    }\n",
              "\n",
              "    .colab-df-convert {\n",
              "      background-color: #E8F0FE;\n",
              "      border: none;\n",
              "      border-radius: 50%;\n",
              "      cursor: pointer;\n",
              "      display: none;\n",
              "      fill: #1967D2;\n",
              "      height: 32px;\n",
              "      padding: 0 0 0 0;\n",
              "      width: 32px;\n",
              "    }\n",
              "\n",
              "    .colab-df-convert:hover {\n",
              "      background-color: #E2EBFA;\n",
              "      box-shadow: 0px 1px 2px rgba(60, 64, 67, 0.3), 0px 1px 3px 1px rgba(60, 64, 67, 0.15);\n",
              "      fill: #174EA6;\n",
              "    }\n",
              "\n",
              "    .colab-df-buttons div {\n",
              "      margin-bottom: 4px;\n",
              "    }\n",
              "\n",
              "    [theme=dark] .colab-df-convert {\n",
              "      background-color: #3B4455;\n",
              "      fill: #D2E3FC;\n",
              "    }\n",
              "\n",
              "    [theme=dark] .colab-df-convert:hover {\n",
              "      background-color: #434B5C;\n",
              "      box-shadow: 0px 1px 3px 1px rgba(0, 0, 0, 0.15);\n",
              "      filter: drop-shadow(0px 1px 2px rgba(0, 0, 0, 0.3));\n",
              "      fill: #FFFFFF;\n",
              "    }\n",
              "  </style>\n",
              "\n",
              "    <script>\n",
              "      const buttonEl =\n",
              "        document.querySelector('#df-088a1e77-b51c-4023-a475-29cd8e03bd35 button.colab-df-convert');\n",
              "      buttonEl.style.display =\n",
              "        google.colab.kernel.accessAllowed ? 'block' : 'none';\n",
              "\n",
              "      async function convertToInteractive(key) {\n",
              "        const element = document.querySelector('#df-088a1e77-b51c-4023-a475-29cd8e03bd35');\n",
              "        const dataTable =\n",
              "          await google.colab.kernel.invokeFunction('convertToInteractive',\n",
              "                                                    [key], {});\n",
              "        if (!dataTable) return;\n",
              "\n",
              "        const docLinkHtml = 'Like what you see? Visit the ' +\n",
              "          '<a target=\"_blank\" href=https://colab.research.google.com/notebooks/data_table.ipynb>data table notebook</a>'\n",
              "          + ' to learn more about interactive tables.';\n",
              "        element.innerHTML = '';\n",
              "        dataTable['output_type'] = 'display_data';\n",
              "        await google.colab.output.renderOutput(dataTable, element);\n",
              "        const docLink = document.createElement('div');\n",
              "        docLink.innerHTML = docLinkHtml;\n",
              "        element.appendChild(docLink);\n",
              "      }\n",
              "    </script>\n",
              "  </div>\n",
              "\n",
              "\n",
              "<div id=\"df-29a84baf-cc07-46af-b4d1-1617c0bcb70c\">\n",
              "  <button class=\"colab-df-quickchart\" onclick=\"quickchart('df-29a84baf-cc07-46af-b4d1-1617c0bcb70c')\"\n",
              "            title=\"Suggest charts.\"\n",
              "            style=\"display:none;\">\n",
              "\n",
              "<svg xmlns=\"http://www.w3.org/2000/svg\" height=\"24px\"viewBox=\"0 0 24 24\"\n",
              "     width=\"24px\">\n",
              "    <g>\n",
              "        <path d=\"M19 3H5c-1.1 0-2 .9-2 2v14c0 1.1.9 2 2 2h14c1.1 0 2-.9 2-2V5c0-1.1-.9-2-2-2zM9 17H7v-7h2v7zm4 0h-2V7h2v10zm4 0h-2v-4h2v4z\"/>\n",
              "    </g>\n",
              "</svg>\n",
              "  </button>\n",
              "\n",
              "<style>\n",
              "  .colab-df-quickchart {\n",
              "      --bg-color: #E8F0FE;\n",
              "      --fill-color: #1967D2;\n",
              "      --hover-bg-color: #E2EBFA;\n",
              "      --hover-fill-color: #174EA6;\n",
              "      --disabled-fill-color: #AAA;\n",
              "      --disabled-bg-color: #DDD;\n",
              "  }\n",
              "\n",
              "  [theme=dark] .colab-df-quickchart {\n",
              "      --bg-color: #3B4455;\n",
              "      --fill-color: #D2E3FC;\n",
              "      --hover-bg-color: #434B5C;\n",
              "      --hover-fill-color: #FFFFFF;\n",
              "      --disabled-bg-color: #3B4455;\n",
              "      --disabled-fill-color: #666;\n",
              "  }\n",
              "\n",
              "  .colab-df-quickchart {\n",
              "    background-color: var(--bg-color);\n",
              "    border: none;\n",
              "    border-radius: 50%;\n",
              "    cursor: pointer;\n",
              "    display: none;\n",
              "    fill: var(--fill-color);\n",
              "    height: 32px;\n",
              "    padding: 0;\n",
              "    width: 32px;\n",
              "  }\n",
              "\n",
              "  .colab-df-quickchart:hover {\n",
              "    background-color: var(--hover-bg-color);\n",
              "    box-shadow: 0 1px 2px rgba(60, 64, 67, 0.3), 0 1px 3px 1px rgba(60, 64, 67, 0.15);\n",
              "    fill: var(--button-hover-fill-color);\n",
              "  }\n",
              "\n",
              "  .colab-df-quickchart-complete:disabled,\n",
              "  .colab-df-quickchart-complete:disabled:hover {\n",
              "    background-color: var(--disabled-bg-color);\n",
              "    fill: var(--disabled-fill-color);\n",
              "    box-shadow: none;\n",
              "  }\n",
              "\n",
              "  .colab-df-spinner {\n",
              "    border: 2px solid var(--fill-color);\n",
              "    border-color: transparent;\n",
              "    border-bottom-color: var(--fill-color);\n",
              "    animation:\n",
              "      spin 1s steps(1) infinite;\n",
              "  }\n",
              "\n",
              "  @keyframes spin {\n",
              "    0% {\n",
              "      border-color: transparent;\n",
              "      border-bottom-color: var(--fill-color);\n",
              "      border-left-color: var(--fill-color);\n",
              "    }\n",
              "    20% {\n",
              "      border-color: transparent;\n",
              "      border-left-color: var(--fill-color);\n",
              "      border-top-color: var(--fill-color);\n",
              "    }\n",
              "    30% {\n",
              "      border-color: transparent;\n",
              "      border-left-color: var(--fill-color);\n",
              "      border-top-color: var(--fill-color);\n",
              "      border-right-color: var(--fill-color);\n",
              "    }\n",
              "    40% {\n",
              "      border-color: transparent;\n",
              "      border-right-color: var(--fill-color);\n",
              "      border-top-color: var(--fill-color);\n",
              "    }\n",
              "    60% {\n",
              "      border-color: transparent;\n",
              "      border-right-color: var(--fill-color);\n",
              "    }\n",
              "    80% {\n",
              "      border-color: transparent;\n",
              "      border-right-color: var(--fill-color);\n",
              "      border-bottom-color: var(--fill-color);\n",
              "    }\n",
              "    90% {\n",
              "      border-color: transparent;\n",
              "      border-bottom-color: var(--fill-color);\n",
              "    }\n",
              "  }\n",
              "</style>\n",
              "\n",
              "  <script>\n",
              "    async function quickchart(key) {\n",
              "      const quickchartButtonEl =\n",
              "        document.querySelector('#' + key + ' button');\n",
              "      quickchartButtonEl.disabled = true;  // To prevent multiple clicks.\n",
              "      quickchartButtonEl.classList.add('colab-df-spinner');\n",
              "      try {\n",
              "        const charts = await google.colab.kernel.invokeFunction(\n",
              "            'suggestCharts', [key], {});\n",
              "      } catch (error) {\n",
              "        console.error('Error during call to suggestCharts:', error);\n",
              "      }\n",
              "      quickchartButtonEl.classList.remove('colab-df-spinner');\n",
              "      quickchartButtonEl.classList.add('colab-df-quickchart-complete');\n",
              "    }\n",
              "    (() => {\n",
              "      let quickchartButtonEl =\n",
              "        document.querySelector('#df-29a84baf-cc07-46af-b4d1-1617c0bcb70c button');\n",
              "      quickchartButtonEl.style.display =\n",
              "        google.colab.kernel.accessAllowed ? 'block' : 'none';\n",
              "    })();\n",
              "  </script>\n",
              "</div>\n",
              "    </div>\n",
              "  </div>\n"
            ]
          },
          "metadata": {},
          "execution_count": 2
        }
      ],
      "source": [
        "import pandas as pd\n",
        "\n",
        "df = pd.read_csv('/content/gdrive/MyDrive/skripsi_chandra/ABSA_performance.csv')\n",
        "df.head()"
      ]
    },
    {
      "cell_type": "code",
      "execution_count": null,
      "metadata": {
        "colab": {
          "base_uri": "https://localhost:8080/"
        },
        "id": "rKgWCTqH1RGB",
        "outputId": "c891fcdf-bd0a-4f42-9788-e4c13e5844d6"
      },
      "outputs": [
        {
          "output_type": "stream",
          "name": "stdout",
          "text": [
            "<class 'numpy.int64'>\n",
            "<class 'str'>\n"
          ]
        }
      ],
      "source": [
        "print(type(df['Performance and Stability'][0]))\n",
        "print(type(df['review_token'][0]))"
      ]
    },
    {
      "cell_type": "code",
      "execution_count": null,
      "metadata": {
        "id": "DiLw6n3b10EJ"
      },
      "outputs": [],
      "source": [
        "df['review_token'] = df['review_token'].map(lambda x: list(map(int, x[1:-1].split(', '))))"
      ]
    },
    {
      "cell_type": "code",
      "source": [
        "print(type(df['Performance and Stability'][0]))\n",
        "print(type(df['review_token'][0]))"
      ],
      "metadata": {
        "colab": {
          "base_uri": "https://localhost:8080/"
        },
        "id": "5FxxiPotEyyu",
        "outputId": "20f35cd8-3847-4b85-9bda-8d7a104e3eab"
      },
      "execution_count": null,
      "outputs": [
        {
          "output_type": "stream",
          "name": "stdout",
          "text": [
            "<class 'numpy.int64'>\n",
            "<class 'list'>\n"
          ]
        }
      ]
    },
    {
      "cell_type": "code",
      "execution_count": null,
      "metadata": {
        "id": "5_-E0-F6JmOr"
      },
      "outputs": [],
      "source": [
        "reviews = df[['review_token']]\n",
        "labels = df['Performance and Stability']"
      ]
    },
    {
      "cell_type": "markdown",
      "metadata": {
        "id": "6TdmSEMdGXqy"
      },
      "source": [
        "## **Splitting Data and Applying Padding**"
      ]
    },
    {
      "cell_type": "code",
      "source": [
        "from sklearn.model_selection import train_test_split\n",
        "\n",
        "x_train, x_temp, y_train, y_temp = train_test_split(reviews, labels, test_size=0.3, random_state=42, stratify=labels)\n",
        "x_val, x_test, y_val, y_test = train_test_split(x_temp, y_temp, test_size=0.5, random_state=42, stratify=y_temp)\n",
        "\n",
        "print(x_train.shape, x_val.shape, x_test.shape, y_train.shape, y_val.shape, y_test.shape)"
      ],
      "metadata": {
        "colab": {
          "base_uri": "https://localhost:8080/"
        },
        "id": "e_Nyqm1c7mhu",
        "outputId": "834fec71-036b-49f0-ef37-0d528cb83878"
      },
      "execution_count": null,
      "outputs": [
        {
          "output_type": "stream",
          "name": "stdout",
          "text": [
            "(2538, 1) (544, 1) (544, 1) (2538,) (544,) (544,)\n"
          ]
        }
      ]
    },
    {
      "cell_type": "code",
      "execution_count": null,
      "metadata": {
        "id": "VLbuZdw7h_n5"
      },
      "outputs": [],
      "source": [
        "x_train_pad = x_train['review_token']\n",
        "x_val_pad = x_val['review_token']\n",
        "x_test_pad = x_test['review_token']"
      ]
    },
    {
      "cell_type": "code",
      "execution_count": null,
      "metadata": {
        "id": "QkM6T_FHrmga"
      },
      "outputs": [],
      "source": [
        "from keras.preprocessing import sequence\n",
        "from keras.utils import pad_sequences\n",
        "\n",
        "x_train = pad_sequences(x_train_pad, maxlen=100)\n",
        "x_val = pad_sequences(x_val_pad, maxlen=100)\n",
        "x_test = pad_sequences(x_test_pad, maxlen=100)"
      ]
    },
    {
      "cell_type": "markdown",
      "metadata": {
        "id": "M7re-QixGAIk"
      },
      "source": [
        "## **Modeling Initialization**"
      ]
    },
    {
      "cell_type": "code",
      "source": [
        "pip install keras-tuner"
      ],
      "metadata": {
        "colab": {
          "base_uri": "https://localhost:8080/"
        },
        "id": "siZKHKdg5CjJ",
        "outputId": "7503c6ff-ee75-4726-8bad-4a3dc3f1c01b"
      },
      "execution_count": null,
      "outputs": [
        {
          "output_type": "stream",
          "name": "stdout",
          "text": [
            "Collecting keras-tuner\n",
            "  Downloading keras_tuner-1.3.5-py3-none-any.whl (176 kB)\n",
            "\u001b[2K     \u001b[90m━━━━━━━━━━━━━━━━━━━━━━━━━━━━━━━━━━━━━━━\u001b[0m \u001b[32m176.1/176.1 kB\u001b[0m \u001b[31m3.8 MB/s\u001b[0m eta \u001b[36m0:00:00\u001b[0m\n",
            "\u001b[?25hRequirement already satisfied: packaging in /usr/local/lib/python3.10/dist-packages (from keras-tuner) (23.1)\n",
            "Requirement already satisfied: requests in /usr/local/lib/python3.10/dist-packages (from keras-tuner) (2.31.0)\n",
            "Collecting kt-legacy (from keras-tuner)\n",
            "  Downloading kt_legacy-1.0.5-py3-none-any.whl (9.6 kB)\n",
            "Requirement already satisfied: charset-normalizer<4,>=2 in /usr/local/lib/python3.10/dist-packages (from requests->keras-tuner) (3.2.0)\n",
            "Requirement already satisfied: idna<4,>=2.5 in /usr/local/lib/python3.10/dist-packages (from requests->keras-tuner) (3.4)\n",
            "Requirement already satisfied: urllib3<3,>=1.21.1 in /usr/local/lib/python3.10/dist-packages (from requests->keras-tuner) (2.0.4)\n",
            "Requirement already satisfied: certifi>=2017.4.17 in /usr/local/lib/python3.10/dist-packages (from requests->keras-tuner) (2023.7.22)\n",
            "Installing collected packages: kt-legacy, keras-tuner\n",
            "Successfully installed keras-tuner-1.3.5 kt-legacy-1.0.5\n"
          ]
        }
      ]
    },
    {
      "cell_type": "code",
      "source": [
        "import numpy as np\n",
        "\n",
        "embedding_matrix = np.load('/content/gdrive/MyDrive/skripsi_chandra/embedding_matrix.npy')"
      ],
      "metadata": {
        "id": "bRqcTRY2eYSs"
      },
      "execution_count": null,
      "outputs": []
    },
    {
      "cell_type": "code",
      "execution_count": null,
      "metadata": {
        "id": "sopVXijz6igS"
      },
      "outputs": [],
      "source": [
        "from tensorflow.keras.callbacks import EarlyStopping\n",
        "\n",
        "early_stopping = EarlyStopping(restore_best_weights=True, patience=3,\n",
        "                               min_delta=0.01, monitor='val_loss')"
      ]
    },
    {
      "cell_type": "markdown",
      "source": [
        "**Hyperparameter tuning**\n",
        "1. Filter Size [2], [2,3,4]\n",
        "3. Dropout Rate [0.25, 0.5]\n",
        "4. Learning Rate [0.001, 0.0001]"
      ],
      "metadata": {
        "id": "NVOPkfGPITO9"
      }
    },
    {
      "cell_type": "markdown",
      "metadata": {
        "id": "_uxLmezcdG9w"
      },
      "source": [
        "## **CNN**"
      ]
    },
    {
      "cell_type": "code",
      "execution_count": null,
      "metadata": {
        "id": "vQerBsBydLFj"
      },
      "outputs": [],
      "source": [
        "from tensorflow.keras.models import Sequential\n",
        "from tensorflow.keras.layers import Dense, Conv1D, Dropout, Activation, MaxPooling1D, Flatten, Embedding\n",
        "from tensorflow.keras import optimizers, regularizers\n",
        "\n",
        "def build_CNN(hp):\n",
        "  model = Sequential()\n",
        "  model.add(Embedding(input_dim=2500, output_dim=300,\n",
        "                      weights=[embedding_matrix], input_length=100))\n",
        "\n",
        "  filter_sizes = hp.Choice('filter size', values=['2', '2,3,4'])\n",
        "  filter_sizes_list = [int(x) for x in filter_sizes.split(',')]\n",
        "  dropout_rate = hp.Choice('dropout rate', values=[0.25, 0.5])\n",
        "  learn_rate = hp.Choice('learning rate', values=[0.001, 0.0001])\n",
        "\n",
        "  conv_layers = []\n",
        "  for filter_size in filter_sizes_list:\n",
        "    conv_layer = Conv1D(filters=200, kernel_size=filter_size,\n",
        "                        padding='valid', activation='relu', strides=1)\n",
        "    conv_layers.append(conv_layer)\n",
        "\n",
        "  for conv_layer in conv_layers:\n",
        "    model.add(conv_layer)\n",
        "\n",
        "  model.add(MaxPooling1D())\n",
        "  model.add(Dense(128, activation='relu', kernel_regularizer=regularizers.l2(0.01)))\n",
        "  model.add(Dropout(dropout_rate))\n",
        "  model.add(Flatten())\n",
        "  model.add(Dense(1, activation='sigmoid'))\n",
        "  model.compile(optimizer=optimizers.Adam(learning_rate=learn_rate), loss='binary_crossentropy', metrics=['accuracy'])\n",
        "  return model"
      ]
    },
    {
      "cell_type": "code",
      "source": [
        "from keras_tuner import GridSearch\n",
        "from kerastuner.engine.hyperparameters import HyperParameters\n",
        "\n",
        "tuner = GridSearch(\n",
        "    build_CNN,\n",
        "    objective='val_accuracy',\n",
        "    directory='performance_CNN',\n",
        "    project_name='performance'\n",
        ")\n",
        "\n",
        "tuner.search(x_train, y_train, epochs=50, batch_size=64, verbose=1, validation_data=(x_val,y_val), callbacks=[early_stopping])\n",
        "tuner.results_summary()"
      ],
      "metadata": {
        "id": "tQKZPXIU3wSB",
        "colab": {
          "base_uri": "https://localhost:8080/"
        },
        "outputId": "399dd9e4-0cd5-423f-9033-b1463dd8beb9"
      },
      "execution_count": null,
      "outputs": [
        {
          "output_type": "stream",
          "name": "stdout",
          "text": [
            "Trial 8 Complete [00h 00m 30s]\n",
            "val_accuracy: 0.9485294222831726\n",
            "\n",
            "Best val_accuracy So Far: 0.9595588445663452\n",
            "Total elapsed time: 00h 03m 39s\n",
            "Results summary\n",
            "Results in performance_CNN/performance\n",
            "Showing 10 best trials\n",
            "Objective(name=\"val_accuracy\", direction=\"max\")\n",
            "\n",
            "Trial 0004 summary\n",
            "Hyperparameters:\n",
            "filter size: 2,3,4\n",
            "dropout rate: 0.25\n",
            "learning rate: 0.001\n",
            "Score: 0.9595588445663452\n",
            "\n",
            "Trial 0001 summary\n",
            "Hyperparameters:\n",
            "filter size: 2\n",
            "dropout rate: 0.25\n",
            "learning rate: 0.0001\n",
            "Score: 0.9577205777168274\n",
            "\n",
            "Trial 0000 summary\n",
            "Hyperparameters:\n",
            "filter size: 2\n",
            "dropout rate: 0.25\n",
            "learning rate: 0.001\n",
            "Score: 0.9522058963775635\n",
            "\n",
            "Trial 0002 summary\n",
            "Hyperparameters:\n",
            "filter size: 2\n",
            "dropout rate: 0.5\n",
            "learning rate: 0.001\n",
            "Score: 0.9522058963775635\n",
            "\n",
            "Trial 0006 summary\n",
            "Hyperparameters:\n",
            "filter size: 2,3,4\n",
            "dropout rate: 0.5\n",
            "learning rate: 0.001\n",
            "Score: 0.9522058963775635\n",
            "\n",
            "Trial 0003 summary\n",
            "Hyperparameters:\n",
            "filter size: 2\n",
            "dropout rate: 0.5\n",
            "learning rate: 0.0001\n",
            "Score: 0.9503676295280457\n",
            "\n",
            "Trial 0005 summary\n",
            "Hyperparameters:\n",
            "filter size: 2,3,4\n",
            "dropout rate: 0.25\n",
            "learning rate: 0.0001\n",
            "Score: 0.9485294222831726\n",
            "\n",
            "Trial 0007 summary\n",
            "Hyperparameters:\n",
            "filter size: 2,3,4\n",
            "dropout rate: 0.5\n",
            "learning rate: 0.0001\n",
            "Score: 0.9485294222831726\n"
          ]
        }
      ]
    },
    {
      "cell_type": "code",
      "source": [
        "best_hp = tuner.get_best_hyperparameters(num_trials=1)[0]\n",
        "best_hp.values"
      ],
      "metadata": {
        "id": "CGkeZnTd8-qG",
        "colab": {
          "base_uri": "https://localhost:8080/"
        },
        "outputId": "5fee4d53-63d3-4bca-851b-29ac297f2b9f"
      },
      "execution_count": null,
      "outputs": [
        {
          "output_type": "execute_result",
          "data": {
            "text/plain": [
              "{'filter size': '2,3,4', 'dropout rate': 0.25, 'learning rate': 0.001}"
            ]
          },
          "metadata": {},
          "execution_count": 15
        }
      ]
    },
    {
      "cell_type": "code",
      "source": [
        "model = build_CNN(best_hp)\n",
        "history = model.fit(x_train, y_train,\n",
        "                    epochs=50, batch_size=64,\n",
        "                    validation_data=(x_val, y_val),\n",
        "                    callbacks=[early_stopping])\n",
        "model.summary()"
      ],
      "metadata": {
        "id": "veMkd7JZ1dMn",
        "colab": {
          "base_uri": "https://localhost:8080/"
        },
        "outputId": "7f0b5db0-41cb-47bb-e542-9f367e2b3648"
      },
      "execution_count": null,
      "outputs": [
        {
          "output_type": "stream",
          "name": "stdout",
          "text": [
            "Epoch 1/50\n",
            "40/40 [==============================] - 7s 122ms/step - loss: 1.3775 - accuracy: 0.9259 - val_loss: 0.9029 - val_accuracy: 0.9283\n",
            "Epoch 2/50\n",
            "40/40 [==============================] - 3s 75ms/step - loss: 0.6234 - accuracy: 0.9279 - val_loss: 0.4389 - val_accuracy: 0.9283\n",
            "Epoch 3/50\n",
            "40/40 [==============================] - 2s 55ms/step - loss: 0.3000 - accuracy: 0.9460 - val_loss: 0.2773 - val_accuracy: 0.9449\n",
            "Epoch 4/50\n",
            "40/40 [==============================] - 2s 43ms/step - loss: 0.1471 - accuracy: 0.9748 - val_loss: 0.2519 - val_accuracy: 0.9540\n",
            "Epoch 5/50\n",
            "40/40 [==============================] - 2s 43ms/step - loss: 0.0724 - accuracy: 0.9890 - val_loss: 0.1986 - val_accuracy: 0.9540\n",
            "Epoch 6/50\n",
            "40/40 [==============================] - 1s 25ms/step - loss: 0.0397 - accuracy: 0.9921 - val_loss: 0.2424 - val_accuracy: 0.9485\n",
            "Epoch 7/50\n",
            "40/40 [==============================] - 1s 18ms/step - loss: 0.0313 - accuracy: 0.9941 - val_loss: 0.2563 - val_accuracy: 0.9559\n",
            "Epoch 8/50\n",
            "40/40 [==============================] - 1s 18ms/step - loss: 0.0197 - accuracy: 0.9968 - val_loss: 0.4129 - val_accuracy: 0.9577\n",
            "Model: \"sequential_4\"\n",
            "_________________________________________________________________\n",
            " Layer (type)                Output Shape              Param #   \n",
            "=================================================================\n",
            " embedding_4 (Embedding)     (None, 100, 300)          750000    \n",
            "                                                                 \n",
            " conv1d_12 (Conv1D)          (None, 99, 200)           120200    \n",
            "                                                                 \n",
            " conv1d_13 (Conv1D)          (None, 97, 200)           120200    \n",
            "                                                                 \n",
            " conv1d_14 (Conv1D)          (None, 94, 200)           160200    \n",
            "                                                                 \n",
            " max_pooling1d_4 (MaxPoolin  (None, 47, 200)           0         \n",
            " g1D)                                                            \n",
            "                                                                 \n",
            " dense_8 (Dense)             (None, 47, 128)           25728     \n",
            "                                                                 \n",
            " dropout_4 (Dropout)         (None, 47, 128)           0         \n",
            "                                                                 \n",
            " flatten_4 (Flatten)         (None, 6016)              0         \n",
            "                                                                 \n",
            " dense_9 (Dense)             (None, 1)                 6017      \n",
            "                                                                 \n",
            "=================================================================\n",
            "Total params: 1182345 (4.51 MB)\n",
            "Trainable params: 1182345 (4.51 MB)\n",
            "Non-trainable params: 0 (0.00 Byte)\n",
            "_________________________________________________________________\n"
          ]
        }
      ]
    },
    {
      "cell_type": "code",
      "source": [
        "import matplotlib.pyplot as plt\n",
        "\n",
        "fig, (ax1, ax2) = plt.subplots(1, 2, figsize=(10, 3))\n",
        "ax1.plot(history.history['accuracy'], label='Train')\n",
        "ax1.plot(history.history['val_accuracy'], label='Val')\n",
        "ax1.set_title('Model Accuracy')\n",
        "ax1.set_xlabel('Epoch')\n",
        "ax1.set_ylabel('Accuracy')\n",
        "ax1.legend(loc='upper left')\n",
        "\n",
        "ax2.plot(history.history['loss'], label='Train')\n",
        "ax2.plot(history.history['val_loss'], label='Val')\n",
        "ax2.set_title('Model Loss')\n",
        "ax2.set_xlabel('Epoch')\n",
        "ax2.set_ylabel('Loss')\n",
        "ax2.legend(loc='upper left')\n",
        "\n",
        "plt.show()"
      ],
      "metadata": {
        "id": "dRCxmCPuEQjo",
        "colab": {
          "base_uri": "https://localhost:8080/",
          "height": 333
        },
        "outputId": "3885a01f-04da-4aa4-c05a-6a6afaa0855c"
      },
      "execution_count": null,
      "outputs": [
        {
          "output_type": "display_data",
          "data": {
            "text/plain": [
              "<Figure size 1000x300 with 2 Axes>"
            ],
            "image/png": "[encoded data removed]"
          },
          "metadata": {}
        }
      ]
    },
    {
      "cell_type": "code",
      "source": [
        "model.save('performance_CNN.h5')"
      ],
      "metadata": {
        "id": "juQhPQtGzSCZ",
        "colab": {
          "base_uri": "https://localhost:8080/"
        },
        "outputId": "6b27cd2e-e922-4d60-bb6c-e129697172a1"
      },
      "execution_count": null,
      "outputs": [
        {
          "output_type": "stream",
          "name": "stderr",
          "text": [
            "/usr/local/lib/python3.10/dist-packages/keras/src/engine/training.py:3000: UserWarning: You are saving your model as an HDF5 file via `model.save()`. This file format is considered legacy. We recommend using instead the native Keras format, e.g. `model.save('my_model.keras')`.\n",
            "  saving_api.save_model(\n"
          ]
        }
      ]
    },
    {
      "cell_type": "code",
      "source": [
        "predictions = model.predict(x_test)"
      ],
      "metadata": {
        "id": "UKpiBmfiza6v",
        "colab": {
          "base_uri": "https://localhost:8080/"
        },
        "outputId": "6c86a354-08de-4c5a-fb56-c52e95c02dc8"
      },
      "execution_count": null,
      "outputs": [
        {
          "output_type": "stream",
          "name": "stdout",
          "text": [
            "17/17 [==============================] - 0s 2ms/step\n"
          ]
        }
      ]
    },
    {
      "cell_type": "code",
      "source": [
        "y_pred = predictions >= 0.5"
      ],
      "metadata": {
        "id": "T71XysRfRncL"
      },
      "execution_count": null,
      "outputs": []
    },
    {
      "cell_type": "code",
      "source": [
        "from sklearn.metrics import precision_score, recall_score, f1_score\n",
        "\n",
        "macro_precision = precision_score(y_test, y_pred, average='macro')\n",
        "macro_recall = recall_score(y_test, y_pred, average='macro')\n",
        "macro_f1 = f1_score(y_test, y_pred, average='macro')\n",
        "\n",
        "print(f'Macro-Average Precision: {macro_precision}')\n",
        "print(f'Macro-Average Recall: {macro_recall}')\n",
        "print(f'Macro-Average F1 Score: {macro_f1}')"
      ],
      "metadata": {
        "colab": {
          "base_uri": "https://localhost:8080/"
        },
        "id": "rzi-locORpkC",
        "outputId": "de0682a5-6772-4868-a616-234032d22162"
      },
      "execution_count": null,
      "outputs": [
        {
          "output_type": "stream",
          "name": "stdout",
          "text": [
            "Macro-Average Precision: 0.7645832323134365\n",
            "Macro-Average Recall: 0.7770500126935771\n",
            "Macro-Average F1 Score: 0.7706349206349206\n"
          ]
        }
      ]
    },
    {
      "cell_type": "code",
      "source": [
        "from sklearn.metrics import classification_report\n",
        "\n",
        "labels = ['Negative', 'Positive']\n",
        "report = classification_report(y_test, y_pred)\n",
        "print(report)"
      ],
      "metadata": {
        "id": "Q4tdr70Yzfi-",
        "colab": {
          "base_uri": "https://localhost:8080/"
        },
        "outputId": "4e9e94bc-02bb-407c-8979-01c2a5a6c8e0"
      },
      "execution_count": null,
      "outputs": [
        {
          "output_type": "stream",
          "name": "stdout",
          "text": [
            "              precision    recall  f1-score   support\n",
            "\n",
            "           0       0.97      0.96      0.97       505\n",
            "           1       0.56      0.59      0.57        39\n",
            "\n",
            "    accuracy                           0.94       544\n",
            "   macro avg       0.76      0.78      0.77       544\n",
            "weighted avg       0.94      0.94      0.94       544\n",
            "\n"
          ]
        }
      ]
    },
    {
      "cell_type": "code",
      "source": [
        "import seaborn as sns\n",
        "import matplotlib.pyplot as plt\n",
        "from sklearn.metrics import confusion_matrix\n",
        "\n",
        "cm = confusion_matrix(y_test, y_pred)\n",
        "\n",
        "plt.figure(figsize=(6, 4))\n",
        "ax = sns.heatmap(cm, annot=True, xticklabels=labels, yticklabels=labels, cmap='flare', fmt='d')\n",
        "plt.xlabel('Predicted label')\n",
        "plt.ylabel('Actual label')\n",
        "plt.show()"
      ],
      "metadata": {
        "id": "r0lKzWsqzhuW",
        "colab": {
          "base_uri": "https://localhost:8080/",
          "height": 388
        },
        "outputId": "2441d2c8-d006-4fd1-a091-dd5c9980cd62"
      },
      "execution_count": null,
      "outputs": [
        {
          "output_type": "display_data",
          "data": {
            "text/plain": [
              "<Figure size 600x400 with 2 Axes>"
            ],
            "image/png": "[encoded data removed]"
          },
          "metadata": {}
        }
      ]
    },
    {
      "cell_type": "markdown",
      "source": [
        "# **CNN-LSTM**"
      ],
      "metadata": {
        "id": "vXLkiM8MEpji"
      }
    },
    {
      "cell_type": "code",
      "source": [
        "from tensorflow.keras.models import Sequential\n",
        "from tensorflow.keras.layers import LSTM, Dense, Conv1D, Dropout, Activation, MaxPooling1D, Embedding\n",
        "from tensorflow.keras import optimizers, regularizers\n",
        "\n",
        "def build_CNNLSTM(hp):\n",
        "  model = Sequential()\n",
        "  model.add(Embedding(input_dim=2500, output_dim=300,\n",
        "                      weights=[embedding_matrix], input_length=100))\n",
        "\n",
        "  filter_sizes = hp.Choice('filter size', values=['2', '2,3,4'])\n",
        "  filter_sizes_list = [int(x) for x in filter_sizes.split(',')]\n",
        "  dropout_rate = hp.Choice('dropout rate', values=[0.25, 0.5])\n",
        "  learn_rate = hp.Choice('learning rate', values=[0.001, 0.0001])\n",
        "\n",
        "  conv_layers = []\n",
        "  for filter_size in filter_sizes_list:\n",
        "    conv_layer = Conv1D(filters=200, kernel_size=filter_size,\n",
        "                        padding='valid', activation='relu', strides=1)\n",
        "    conv_layers.append(conv_layer)\n",
        "\n",
        "  for conv_layer in conv_layers:\n",
        "    model.add(conv_layer)\n",
        "\n",
        "  model.add(MaxPooling1D())\n",
        "  model.add(Dense(128, activation='relu', kernel_regularizer=regularizers.l2(0.01)))\n",
        "  model.add(Dropout(dropout_rate))\n",
        "  model.add(LSTM(64))\n",
        "  model.add(Dense(1, activation='sigmoid'))\n",
        "  model.compile(optimizer=optimizers.Adam(learning_rate=learn_rate), loss='binary_crossentropy', metrics=['accuracy'])\n",
        "  return model"
      ],
      "metadata": {
        "id": "vFcRCr9BEsa7"
      },
      "execution_count": null,
      "outputs": []
    },
    {
      "cell_type": "code",
      "source": [
        "from keras_tuner import GridSearch\n",
        "from kerastuner.engine.hyperparameters import HyperParameters\n",
        "\n",
        "tuner = GridSearch(\n",
        "    build_CNNLSTM,\n",
        "    objective='val_accuracy',\n",
        "    directory='performance_CNNLSTM',\n",
        "    project_name='performance'\n",
        ")\n",
        "\n",
        "tuner.search(x_train, y_train, epochs=50, batch_size=64, verbose=1, validation_data=(x_val,y_val), callbacks=[early_stopping])\n",
        "tuner.results_summary()"
      ],
      "metadata": {
        "id": "5kduer4BEy6v",
        "colab": {
          "base_uri": "https://localhost:8080/"
        },
        "outputId": "6b461424-2984-4df4-e54e-2eded6ceb669"
      },
      "execution_count": null,
      "outputs": [
        {
          "output_type": "stream",
          "name": "stdout",
          "text": [
            "Trial 8 Complete [00h 00m 51s]\n",
            "val_accuracy: 0.9595588445663452\n",
            "\n",
            "Best val_accuracy So Far: 0.9632353186607361\n",
            "Total elapsed time: 00h 05m 02s\n",
            "Results summary\n",
            "Results in performance_CNNLSTM/performance\n",
            "Showing 10 best trials\n",
            "Objective(name=\"val_accuracy\", direction=\"max\")\n",
            "\n",
            "Trial 0003 summary\n",
            "Hyperparameters:\n",
            "filter size: 2\n",
            "dropout rate: 0.5\n",
            "learning rate: 0.0001\n",
            "Score: 0.9632353186607361\n",
            "\n",
            "Trial 0000 summary\n",
            "Hyperparameters:\n",
            "filter size: 2\n",
            "dropout rate: 0.25\n",
            "learning rate: 0.001\n",
            "Score: 0.9613970518112183\n",
            "\n",
            "Trial 0001 summary\n",
            "Hyperparameters:\n",
            "filter size: 2\n",
            "dropout rate: 0.25\n",
            "learning rate: 0.0001\n",
            "Score: 0.9613970518112183\n",
            "\n",
            "Trial 0005 summary\n",
            "Hyperparameters:\n",
            "filter size: 2,3,4\n",
            "dropout rate: 0.25\n",
            "learning rate: 0.0001\n",
            "Score: 0.9613970518112183\n",
            "\n",
            "Trial 0007 summary\n",
            "Hyperparameters:\n",
            "filter size: 2,3,4\n",
            "dropout rate: 0.5\n",
            "learning rate: 0.0001\n",
            "Score: 0.9595588445663452\n",
            "\n",
            "Trial 0002 summary\n",
            "Hyperparameters:\n",
            "filter size: 2\n",
            "dropout rate: 0.5\n",
            "learning rate: 0.001\n",
            "Score: 0.9540441036224365\n",
            "\n",
            "Trial 0004 summary\n",
            "Hyperparameters:\n",
            "filter size: 2,3,4\n",
            "dropout rate: 0.25\n",
            "learning rate: 0.001\n",
            "Score: 0.9522058963775635\n",
            "\n",
            "Trial 0006 summary\n",
            "Hyperparameters:\n",
            "filter size: 2,3,4\n",
            "dropout rate: 0.5\n",
            "learning rate: 0.001\n",
            "Score: 0.9466911554336548\n"
          ]
        }
      ]
    },
    {
      "cell_type": "code",
      "source": [
        "best_hp = tuner.get_best_hyperparameters(num_trials=1)[0]\n",
        "best_hp.values"
      ],
      "metadata": {
        "colab": {
          "base_uri": "https://localhost:8080/"
        },
        "id": "WAo0Y9VAEy9R",
        "outputId": "ab149167-75fc-451e-a543-9f879e4fe73a"
      },
      "execution_count": null,
      "outputs": [
        {
          "output_type": "execute_result",
          "data": {
            "text/plain": [
              "{'filter size': '2', 'dropout rate': 0.5, 'learning rate': 0.0001}"
            ]
          },
          "metadata": {},
          "execution_count": 15
        }
      ]
    },
    {
      "cell_type": "code",
      "source": [
        "# Training and Validation\n",
        "model = build_CNNLSTM(best_hp)\n",
        "history = model.fit(x_train, y_train,\n",
        "                    epochs=50, batch_size=64,\n",
        "                    validation_data=(x_val, y_val),\n",
        "                    callbacks=[early_stopping])\n",
        "model.summary()"
      ],
      "metadata": {
        "colab": {
          "base_uri": "https://localhost:8080/"
        },
        "id": "vy-lj-OMEy_h",
        "outputId": "7fcc0a62-6760-403d-ff82-0739210a3f0c"
      },
      "execution_count": null,
      "outputs": [
        {
          "output_type": "stream",
          "name": "stdout",
          "text": [
            "Epoch 1/50\n",
            "40/40 [==============================] - 9s 160ms/step - loss: 2.0881 - accuracy: 0.8952 - val_loss: 1.8739 - val_accuracy: 0.9283\n",
            "Epoch 2/50\n",
            "40/40 [==============================] - 3s 80ms/step - loss: 1.7107 - accuracy: 0.9283 - val_loss: 1.5998 - val_accuracy: 0.9283\n",
            "Epoch 3/50\n",
            "40/40 [==============================] - 3s 66ms/step - loss: 1.5343 - accuracy: 0.9283 - val_loss: 1.4809 - val_accuracy: 0.9283\n",
            "Epoch 4/50\n",
            "40/40 [==============================] - 2s 58ms/step - loss: 1.4210 - accuracy: 0.9283 - val_loss: 1.3727 - val_accuracy: 0.9283\n",
            "Epoch 5/50\n",
            "40/40 [==============================] - 2s 45ms/step - loss: 1.3139 - accuracy: 0.9283 - val_loss: 1.2713 - val_accuracy: 0.9283\n",
            "Epoch 6/50\n",
            "40/40 [==============================] - 1s 37ms/step - loss: 1.2135 - accuracy: 0.9283 - val_loss: 1.1750 - val_accuracy: 0.9283\n",
            "Epoch 7/50\n",
            "40/40 [==============================] - 1s 30ms/step - loss: 1.1173 - accuracy: 0.9283 - val_loss: 1.0804 - val_accuracy: 0.9283\n",
            "Epoch 8/50\n",
            "40/40 [==============================] - 1s 26ms/step - loss: 1.0208 - accuracy: 0.9283 - val_loss: 0.9925 - val_accuracy: 0.9283\n",
            "Epoch 9/50\n",
            "40/40 [==============================] - 1s 26ms/step - loss: 0.9330 - accuracy: 0.9283 - val_loss: 0.9062 - val_accuracy: 0.9283\n",
            "Epoch 10/50\n",
            "40/40 [==============================] - 1s 22ms/step - loss: 0.8463 - accuracy: 0.9307 - val_loss: 0.8271 - val_accuracy: 0.9283\n",
            "Epoch 11/50\n",
            "40/40 [==============================] - 1s 18ms/step - loss: 0.7674 - accuracy: 0.9389 - val_loss: 0.7509 - val_accuracy: 0.9393\n",
            "Epoch 12/50\n",
            "40/40 [==============================] - 1s 26ms/step - loss: 0.6933 - accuracy: 0.9531 - val_loss: 0.6857 - val_accuracy: 0.9522\n",
            "Epoch 13/50\n",
            "40/40 [==============================] - 1s 22ms/step - loss: 0.6308 - accuracy: 0.9661 - val_loss: 0.6302 - val_accuracy: 0.9577\n",
            "Epoch 14/50\n",
            "40/40 [==============================] - 1s 22ms/step - loss: 0.5717 - accuracy: 0.9716 - val_loss: 0.5831 - val_accuracy: 0.9540\n",
            "Epoch 15/50\n",
            "40/40 [==============================] - 1s 14ms/step - loss: 0.5177 - accuracy: 0.9756 - val_loss: 0.5455 - val_accuracy: 0.9577\n",
            "Epoch 16/50\n",
            "40/40 [==============================] - 1s 15ms/step - loss: 0.4735 - accuracy: 0.9787 - val_loss: 0.5136 - val_accuracy: 0.9577\n",
            "Epoch 17/50\n",
            "40/40 [==============================] - 0s 9ms/step - loss: 0.4303 - accuracy: 0.9823 - val_loss: 0.4772 - val_accuracy: 0.9559\n",
            "Epoch 18/50\n",
            "40/40 [==============================] - 0s 10ms/step - loss: 0.3945 - accuracy: 0.9823 - val_loss: 0.4492 - val_accuracy: 0.9485\n",
            "Epoch 19/50\n",
            "40/40 [==============================] - 1s 13ms/step - loss: 0.3595 - accuracy: 0.9870 - val_loss: 0.4211 - val_accuracy: 0.9504\n",
            "Epoch 20/50\n",
            "40/40 [==============================] - 1s 17ms/step - loss: 0.3281 - accuracy: 0.9886 - val_loss: 0.4057 - val_accuracy: 0.9577\n",
            "Epoch 21/50\n",
            "40/40 [==============================] - 1s 14ms/step - loss: 0.3020 - accuracy: 0.9878 - val_loss: 0.3802 - val_accuracy: 0.9559\n",
            "Epoch 22/50\n",
            "40/40 [==============================] - 0s 10ms/step - loss: 0.2762 - accuracy: 0.9901 - val_loss: 0.3567 - val_accuracy: 0.9522\n",
            "Epoch 23/50\n",
            "40/40 [==============================] - 1s 13ms/step - loss: 0.2555 - accuracy: 0.9901 - val_loss: 0.3398 - val_accuracy: 0.9522\n",
            "Epoch 24/50\n",
            "40/40 [==============================] - 1s 13ms/step - loss: 0.2319 - accuracy: 0.9905 - val_loss: 0.3313 - val_accuracy: 0.9577\n",
            "Epoch 25/50\n",
            "40/40 [==============================] - 1s 17ms/step - loss: 0.2146 - accuracy: 0.9901 - val_loss: 0.3121 - val_accuracy: 0.9485\n",
            "Epoch 26/50\n",
            "40/40 [==============================] - 1s 19ms/step - loss: 0.1971 - accuracy: 0.9933 - val_loss: 0.3015 - val_accuracy: 0.9540\n",
            "Epoch 27/50\n",
            "40/40 [==============================] - 1s 18ms/step - loss: 0.1773 - accuracy: 0.9945 - val_loss: 0.2922 - val_accuracy: 0.9540\n",
            "Epoch 28/50\n",
            "40/40 [==============================] - 1s 14ms/step - loss: 0.1636 - accuracy: 0.9941 - val_loss: 0.2781 - val_accuracy: 0.9540\n",
            "Epoch 29/50\n",
            "40/40 [==============================] - 1s 14ms/step - loss: 0.1521 - accuracy: 0.9941 - val_loss: 0.2739 - val_accuracy: 0.9522\n",
            "Epoch 30/50\n",
            "40/40 [==============================] - 0s 10ms/step - loss: 0.1414 - accuracy: 0.9945 - val_loss: 0.2548 - val_accuracy: 0.9559\n",
            "Epoch 31/50\n",
            "40/40 [==============================] - 0s 10ms/step - loss: 0.1285 - accuracy: 0.9961 - val_loss: 0.2580 - val_accuracy: 0.9540\n",
            "Epoch 32/50\n",
            "40/40 [==============================] - 0s 10ms/step - loss: 0.1169 - accuracy: 0.9961 - val_loss: 0.2567 - val_accuracy: 0.9559\n",
            "Epoch 33/50\n",
            "40/40 [==============================] - 0s 10ms/step - loss: 0.1097 - accuracy: 0.9957 - val_loss: 0.2395 - val_accuracy: 0.9596\n",
            "Epoch 34/50\n",
            "40/40 [==============================] - 1s 14ms/step - loss: 0.1005 - accuracy: 0.9972 - val_loss: 0.2426 - val_accuracy: 0.9596\n",
            "Epoch 35/50\n",
            "40/40 [==============================] - 1s 18ms/step - loss: 0.0953 - accuracy: 0.9957 - val_loss: 0.2773 - val_accuracy: 0.9577\n",
            "Epoch 36/50\n",
            "40/40 [==============================] - 1s 14ms/step - loss: 0.0906 - accuracy: 0.9953 - val_loss: 0.2235 - val_accuracy: 0.9559\n",
            "Epoch 37/50\n",
            "40/40 [==============================] - 1s 14ms/step - loss: 0.0819 - accuracy: 0.9968 - val_loss: 0.2329 - val_accuracy: 0.9596\n",
            "Epoch 38/50\n",
            "40/40 [==============================] - 1s 14ms/step - loss: 0.0752 - accuracy: 0.9972 - val_loss: 0.2211 - val_accuracy: 0.9614\n",
            "Epoch 39/50\n",
            "40/40 [==============================] - 0s 10ms/step - loss: 0.0702 - accuracy: 0.9965 - val_loss: 0.2134 - val_accuracy: 0.9559\n",
            "Epoch 40/50\n",
            "40/40 [==============================] - 0s 10ms/step - loss: 0.0653 - accuracy: 0.9968 - val_loss: 0.2154 - val_accuracy: 0.9614\n",
            "Epoch 41/50\n",
            "40/40 [==============================] - 1s 14ms/step - loss: 0.0617 - accuracy: 0.9972 - val_loss: 0.2203 - val_accuracy: 0.9596\n",
            "Epoch 42/50\n",
            "40/40 [==============================] - 0s 10ms/step - loss: 0.0584 - accuracy: 0.9972 - val_loss: 0.2277 - val_accuracy: 0.9559\n",
            "Model: \"sequential_4\"\n",
            "_________________________________________________________________\n",
            " Layer (type)                Output Shape              Param #   \n",
            "=================================================================\n",
            " embedding_4 (Embedding)     (None, 100, 300)          750000    \n",
            "                                                                 \n",
            " conv1d_6 (Conv1D)           (None, 99, 200)           120200    \n",
            "                                                                 \n",
            " max_pooling1d_4 (MaxPoolin  (None, 49, 200)           0         \n",
            " g1D)                                                            \n",
            "                                                                 \n",
            " dense_8 (Dense)             (None, 49, 128)           25728     \n",
            "                                                                 \n",
            " dropout_4 (Dropout)         (None, 49, 128)           0         \n",
            "                                                                 \n",
            " lstm_4 (LSTM)               (None, 64)                49408     \n",
            "                                                                 \n",
            " dense_9 (Dense)             (None, 1)                 65        \n",
            "                                                                 \n",
            "=================================================================\n",
            "Total params: 945401 (3.61 MB)\n",
            "Trainable params: 945401 (3.61 MB)\n",
            "Non-trainable params: 0 (0.00 Byte)\n",
            "_________________________________________________________________\n"
          ]
        }
      ]
    },
    {
      "cell_type": "code",
      "source": [
        "import matplotlib.pyplot as plt\n",
        "\n",
        "fig, (ax1, ax2) = plt.subplots(1, 2, figsize=(10, 3))\n",
        "ax1.plot(history.history['accuracy'], label='Train')\n",
        "ax1.plot(history.history['val_accuracy'], label='Val')\n",
        "ax1.set_title('Model Accuracy')\n",
        "ax1.set_xlabel('Epoch')\n",
        "ax1.set_ylabel('Accuracy')\n",
        "ax1.legend(loc='upper left')\n",
        "\n",
        "ax2.plot(history.history['loss'], label='Train')\n",
        "ax2.plot(history.history['val_loss'], label='Val')\n",
        "ax2.set_title('Model Loss')\n",
        "ax2.set_xlabel('Epoch')\n",
        "ax2.set_ylabel('Loss')\n",
        "ax2.legend(loc='upper left')\n",
        "\n",
        "plt.show()"
      ],
      "metadata": {
        "colab": {
          "base_uri": "https://localhost:8080/",
          "height": 333
        },
        "id": "58b8VosoHZqW",
        "outputId": "9ca330e3-f8f5-47ac-8370-f0938d32b684"
      },
      "execution_count": null,
      "outputs": [
        {
          "output_type": "display_data",
          "data": {
            "text/plain": [
              "<Figure size 1000x300 with 2 Axes>"
            ],
            "image/png": "[encoded data removed]"
          },
          "metadata": {}
        }
      ]
    },
    {
      "cell_type": "code",
      "source": [
        "model.save('performance_CNNLSTM.h5')"
      ],
      "metadata": {
        "id": "hfMalbeREzCF",
        "colab": {
          "base_uri": "https://localhost:8080/"
        },
        "outputId": "f9e02d58-0b8e-4ba6-c93f-69db26afbe76"
      },
      "execution_count": null,
      "outputs": [
        {
          "output_type": "stream",
          "name": "stderr",
          "text": [
            "/usr/local/lib/python3.10/dist-packages/keras/src/engine/training.py:3000: UserWarning: You are saving your model as an HDF5 file via `model.save()`. This file format is considered legacy. We recommend using instead the native Keras format, e.g. `model.save('my_model.keras')`.\n",
            "  saving_api.save_model(\n"
          ]
        }
      ]
    },
    {
      "cell_type": "code",
      "source": [
        "predictions = model.predict(x_test)"
      ],
      "metadata": {
        "colab": {
          "base_uri": "https://localhost:8080/"
        },
        "id": "7Ptrx1aPEzEg",
        "outputId": "6542fbb5-6f43-4b3e-eb71-543513652902"
      },
      "execution_count": null,
      "outputs": [
        {
          "output_type": "stream",
          "name": "stdout",
          "text": [
            "17/17 [==============================] - 0s 3ms/step\n"
          ]
        }
      ]
    },
    {
      "cell_type": "code",
      "source": [
        "y_pred = predictions >= 0.5"
      ],
      "metadata": {
        "id": "th6n1KbORtZk"
      },
      "execution_count": null,
      "outputs": []
    },
    {
      "cell_type": "code",
      "source": [
        "from sklearn.metrics import precision_score, recall_score, f1_score\n",
        "\n",
        "macro_precision = precision_score(y_test, y_pred, average='macro')\n",
        "macro_recall = recall_score(y_test, y_pred, average='macro')\n",
        "macro_f1 = f1_score(y_test, y_pred, average='macro')\n",
        "\n",
        "print(f\"Macro-Average Precision: {macro_precision}\")\n",
        "print(f\"Macro-Average Recall: {macro_recall}\")\n",
        "print(f\"Macro-Average F1 Score: {macro_f1}\")"
      ],
      "metadata": {
        "id": "ZF0zznHCRsGl",
        "colab": {
          "base_uri": "https://localhost:8080/"
        },
        "outputId": "7a6bcd65-e356-43d4-8e4e-2b2526825393"
      },
      "execution_count": null,
      "outputs": [
        {
          "output_type": "stream",
          "name": "stdout",
          "text": [
            "Macro-Average Precision: 0.7814300680984809\n",
            "Macro-Average Recall: 0.8273419649657273\n",
            "Macro-Average F1 Score: 0.8021934197407776\n"
          ]
        }
      ]
    },
    {
      "cell_type": "code",
      "source": [
        "from sklearn.metrics import classification_report\n",
        "\n",
        "labels = [\"Negative\", \"Positive\"]\n",
        "report = classification_report(y_test, y_pred)\n",
        "print(report)"
      ],
      "metadata": {
        "colab": {
          "base_uri": "https://localhost:8080/"
        },
        "id": "gtvGrqSkEzGv",
        "outputId": "ca830a5e-a00c-4a14-d7c2-7d333ca16327"
      },
      "execution_count": null,
      "outputs": [
        {
          "output_type": "stream",
          "name": "stdout",
          "text": [
            "              precision    recall  f1-score   support\n",
            "\n",
            "           0       0.98      0.96      0.97       505\n",
            "           1       0.59      0.69      0.64        39\n",
            "\n",
            "    accuracy                           0.94       544\n",
            "   macro avg       0.78      0.83      0.80       544\n",
            "weighted avg       0.95      0.94      0.95       544\n",
            "\n"
          ]
        }
      ]
    },
    {
      "cell_type": "code",
      "source": [
        "import seaborn as sns\n",
        "import matplotlib.pyplot as plt\n",
        "from sklearn.metrics import confusion_matrix\n",
        "\n",
        "cm = confusion_matrix(y_test, y_pred)\n",
        "\n",
        "plt.figure(figsize=(6, 4))\n",
        "ax = sns.heatmap(cm, annot=True, xticklabels=labels, yticklabels=labels, cmap='flare', fmt='d')\n",
        "plt.xlabel(\"Predicted label\")\n",
        "plt.ylabel(\"Actual label\")\n",
        "plt.show()"
      ],
      "metadata": {
        "colab": {
          "base_uri": "https://localhost:8080/",
          "height": 388
        },
        "id": "gRCSHhP_EzJd",
        "outputId": "196bb9a4-90f1-42bc-a718-385510b0c0a9"
      },
      "execution_count": null,
      "outputs": [
        {
          "output_type": "display_data",
          "data": {
            "text/plain": [
              "<Figure size 600x400 with 2 Axes>"
            ],
            "image/png": "[encoded data removed]"
          },
          "metadata": {}
        }
      ]
    }
  ],
  "metadata": {
    "colab": {
      "provenance": [],
      "gpuClass": "premium",
      "machine_shape": "hm",
      "gpuType": "V100"
    },
    "kernelspec": {
      "display_name": "Python 3",
      "name": "python3"
    },
    "language_info": {
      "name": "python"
    },
    "accelerator": "GPU"
  },
  "nbformat": 4,
  "nbformat_minor": 0
}