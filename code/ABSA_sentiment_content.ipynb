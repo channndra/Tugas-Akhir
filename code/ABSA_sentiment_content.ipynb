{
  "cells": [
    {
      "cell_type": "code",
      "execution_count": null,
      "metadata": {
        "id": "_BBW-nJeEMNK",
        "colab": {
          "base_uri": "https://localhost:8080/"
        },
        "outputId": "b44a3973-e9ff-4402-8190-34bb5e3f05b9"
      },
      "outputs": [
        {
          "output_type": "stream",
          "name": "stdout",
          "text": [
            "Mounted at /content/gdrive\n"
          ]
        }
      ],
      "source": [
        "from google.colab import drive\n",
        "drive.mount('/content/gdrive')"
      ]
    },
    {
      "cell_type": "markdown",
      "metadata": {
        "id": "RmMRW-PwDQsY"
      },
      "source": [
        "## **Data Initializing**"
      ]
    },
    {
      "cell_type": "code",
      "execution_count": null,
      "metadata": {
        "id": "i1h8MzCQcVMk",
        "colab": {
          "base_uri": "https://localhost:8080/",
          "height": 206
        },
        "outputId": "ec61aca2-c560-447b-d42c-aa69a5d121c0"
      },
      "outputs": [
        {
          "output_type": "execute_result",
          "data": {
            "text/plain": [
              "                                        review_token  Content\n",
              "0  [7, 36, 62, 27, 269, 26, 6, 97, 334, 7, 288, 2...        0\n",
              "1  [293, 74, 1, 913, 107, 80, 4, 19, 186, 15, 198...        0\n",
              "2  [22, 17, 15, 67, 17, 330, 6, 148, 186, 28, 107...        0\n",
              "3  [122, 44, 1096, 21, 152, 35, 27, 167, 121, 109...        0\n",
              "4  [33, 225, 121, 90, 204, 120, 157, 604, 120, 5,...        0"
            ],
            "text/html": [
              "\n",
              "  <div id=\"df-0b2c9320-766d-4a17-9677-85947d898831\" class=\"colab-df-container\">\n",
              "    <div>\n",
              "<style scoped>\n",
              "    .dataframe tbody tr th:only-of-type {\n",
              "        vertical-align: middle;\n",
              "    }\n",
              "\n",
              "    .dataframe tbody tr th {\n",
              "        vertical-align: top;\n",
              "    }\n",
              "\n",
              "    .dataframe thead th {\n",
              "        text-align: right;\n",
              "    }\n",
              "</style>\n",
              "<table border=\"1\" class=\"dataframe\">\n",
              "  <thead>\n",
              "    <tr style=\"text-align: right;\">\n",
              "      <th></th>\n",
              "      <th>review_token</th>\n",
              "      <th>Content</th>\n",
              "    </tr>\n",
              "  </thead>\n",
              "  <tbody>\n",
              "    <tr>\n",
              "      <th>0</th>\n",
              "      <td>[7, 36, 62, 27, 269, 26, 6, 97, 334, 7, 288, 2...</td>\n",
              "      <td>0</td>\n",
              "    </tr>\n",
              "    <tr>\n",
              "      <th>1</th>\n",
              "      <td>[293, 74, 1, 913, 107, 80, 4, 19, 186, 15, 198...</td>\n",
              "      <td>0</td>\n",
              "    </tr>\n",
              "    <tr>\n",
              "      <th>2</th>\n",
              "      <td>[22, 17, 15, 67, 17, 330, 6, 148, 186, 28, 107...</td>\n",
              "      <td>0</td>\n",
              "    </tr>\n",
              "    <tr>\n",
              "      <th>3</th>\n",
              "      <td>[122, 44, 1096, 21, 152, 35, 27, 167, 121, 109...</td>\n",
              "      <td>0</td>\n",
              "    </tr>\n",
              "    <tr>\n",
              "      <th>4</th>\n",
              "      <td>[33, 225, 121, 90, 204, 120, 157, 604, 120, 5,...</td>\n",
              "      <td>0</td>\n",
              "    </tr>\n",
              "  </tbody>\n",
              "</table>\n",
              "</div>\n",
              "    <div class=\"colab-df-buttons\">\n",
              "\n",
              "  <div class=\"colab-df-container\">\n",
              "    <button class=\"colab-df-convert\" onclick=\"convertToInteractive('df-0b2c9320-766d-4a17-9677-85947d898831')\"\n",
              "            title=\"Convert this dataframe to an interactive table.\"\n",
              "            style=\"display:none;\">\n",
              "\n",
              "  <svg xmlns=\"http://www.w3.org/2000/svg\" height=\"24px\" viewBox=\"0 -960 960 960\">\n",
              "    <path d=\"M120-120v-720h720v720H120Zm60-500h600v-160H180v160Zm220 220h160v-160H400v160Zm0 220h160v-160H400v160ZM180-400h160v-160H180v160Zm440 0h160v-160H620v160ZM180-180h160v-160H180v160Zm440 0h160v-160H620v160Z\"/>\n",
              "  </svg>\n",
              "    </button>\n",
              "\n",
              "  <style>\n",
              "    .colab-df-container {\n",
              "      display:flex;\n",
              "      gap: 12px;\n",
              "    }\n",
              "\n",
              "    .colab-df-convert {\n",
              "      background-color: #E8F0FE;\n",
              "      border: none;\n",
              "      border-radius: 50%;\n",
              "      cursor: pointer;\n",
              "      display: none;\n",
              "      fill: #1967D2;\n",
              "      height: 32px;\n",
              "      padding: 0 0 0 0;\n",
              "      width: 32px;\n",
              "    }\n",
              "\n",
              "    .colab-df-convert:hover {\n",
              "      background-color: #E2EBFA;\n",
              "      box-shadow: 0px 1px 2px rgba(60, 64, 67, 0.3), 0px 1px 3px 1px rgba(60, 64, 67, 0.15);\n",
              "      fill: #174EA6;\n",
              "    }\n",
              "\n",
              "    .colab-df-buttons div {\n",
              "      margin-bottom: 4px;\n",
              "    }\n",
              "\n",
              "    [theme=dark] .colab-df-convert {\n",
              "      background-color: #3B4455;\n",
              "      fill: #D2E3FC;\n",
              "    }\n",
              "\n",
              "    [theme=dark] .colab-df-convert:hover {\n",
              "      background-color: #434B5C;\n",
              "      box-shadow: 0px 1px 3px 1px rgba(0, 0, 0, 0.15);\n",
              "      filter: drop-shadow(0px 1px 2px rgba(0, 0, 0, 0.3));\n",
              "      fill: #FFFFFF;\n",
              "    }\n",
              "  </style>\n",
              "\n",
              "    <script>\n",
              "      const buttonEl =\n",
              "        document.querySelector('#df-0b2c9320-766d-4a17-9677-85947d898831 button.colab-df-convert');\n",
              "      buttonEl.style.display =\n",
              "        google.colab.kernel.accessAllowed ? 'block' : 'none';\n",
              "\n",
              "      async function convertToInteractive(key) {\n",
              "        const element = document.querySelector('#df-0b2c9320-766d-4a17-9677-85947d898831');\n",
              "        const dataTable =\n",
              "          await google.colab.kernel.invokeFunction('convertToInteractive',\n",
              "                                                    [key], {});\n",
              "        if (!dataTable) return;\n",
              "\n",
              "        const docLinkHtml = 'Like what you see? Visit the ' +\n",
              "          '<a target=\"_blank\" href=https://colab.research.google.com/notebooks/data_table.ipynb>data table notebook</a>'\n",
              "          + ' to learn more about interactive tables.';\n",
              "        element.innerHTML = '';\n",
              "        dataTable['output_type'] = 'display_data';\n",
              "        await google.colab.output.renderOutput(dataTable, element);\n",
              "        const docLink = document.createElement('div');\n",
              "        docLink.innerHTML = docLinkHtml;\n",
              "        element.appendChild(docLink);\n",
              "      }\n",
              "    </script>\n",
              "  </div>\n",
              "\n",
              "\n",
              "<div id=\"df-69333f7f-57c4-4f12-add7-cc5130193a38\">\n",
              "  <button class=\"colab-df-quickchart\" onclick=\"quickchart('df-69333f7f-57c4-4f12-add7-cc5130193a38')\"\n",
              "            title=\"Suggest charts.\"\n",
              "            style=\"display:none;\">\n",
              "\n",
              "<svg xmlns=\"http://www.w3.org/2000/svg\" height=\"24px\"viewBox=\"0 0 24 24\"\n",
              "     width=\"24px\">\n",
              "    <g>\n",
              "        <path d=\"M19 3H5c-1.1 0-2 .9-2 2v14c0 1.1.9 2 2 2h14c1.1 0 2-.9 2-2V5c0-1.1-.9-2-2-2zM9 17H7v-7h2v7zm4 0h-2V7h2v10zm4 0h-2v-4h2v4z\"/>\n",
              "    </g>\n",
              "</svg>\n",
              "  </button>\n",
              "\n",
              "<style>\n",
              "  .colab-df-quickchart {\n",
              "      --bg-color: #E8F0FE;\n",
              "      --fill-color: #1967D2;\n",
              "      --hover-bg-color: #E2EBFA;\n",
              "      --hover-fill-color: #174EA6;\n",
              "      --disabled-fill-color: #AAA;\n",
              "      --disabled-bg-color: #DDD;\n",
              "  }\n",
              "\n",
              "  [theme=dark] .colab-df-quickchart {\n",
              "      --bg-color: #3B4455;\n",
              "      --fill-color: #D2E3FC;\n",
              "      --hover-bg-color: #434B5C;\n",
              "      --hover-fill-color: #FFFFFF;\n",
              "      --disabled-bg-color: #3B4455;\n",
              "      --disabled-fill-color: #666;\n",
              "  }\n",
              "\n",
              "  .colab-df-quickchart {\n",
              "    background-color: var(--bg-color);\n",
              "    border: none;\n",
              "    border-radius: 50%;\n",
              "    cursor: pointer;\n",
              "    display: none;\n",
              "    fill: var(--fill-color);\n",
              "    height: 32px;\n",
              "    padding: 0;\n",
              "    width: 32px;\n",
              "  }\n",
              "\n",
              "  .colab-df-quickchart:hover {\n",
              "    background-color: var(--hover-bg-color);\n",
              "    box-shadow: 0 1px 2px rgba(60, 64, 67, 0.3), 0 1px 3px 1px rgba(60, 64, 67, 0.15);\n",
              "    fill: var(--button-hover-fill-color);\n",
              "  }\n",
              "\n",
              "  .colab-df-quickchart-complete:disabled,\n",
              "  .colab-df-quickchart-complete:disabled:hover {\n",
              "    background-color: var(--disabled-bg-color);\n",
              "    fill: var(--disabled-fill-color);\n",
              "    box-shadow: none;\n",
              "  }\n",
              "\n",
              "  .colab-df-spinner {\n",
              "    border: 2px solid var(--fill-color);\n",
              "    border-color: transparent;\n",
              "    border-bottom-color: var(--fill-color);\n",
              "    animation:\n",
              "      spin 1s steps(1) infinite;\n",
              "  }\n",
              "\n",
              "  @keyframes spin {\n",
              "    0% {\n",
              "      border-color: transparent;\n",
              "      border-bottom-color: var(--fill-color);\n",
              "      border-left-color: var(--fill-color);\n",
              "    }\n",
              "    20% {\n",
              "      border-color: transparent;\n",
              "      border-left-color: var(--fill-color);\n",
              "      border-top-color: var(--fill-color);\n",
              "    }\n",
              "    30% {\n",
              "      border-color: transparent;\n",
              "      border-left-color: var(--fill-color);\n",
              "      border-top-color: var(--fill-color);\n",
              "      border-right-color: var(--fill-color);\n",
              "    }\n",
              "    40% {\n",
              "      border-color: transparent;\n",
              "      border-right-color: var(--fill-color);\n",
              "      border-top-color: var(--fill-color);\n",
              "    }\n",
              "    60% {\n",
              "      border-color: transparent;\n",
              "      border-right-color: var(--fill-color);\n",
              "    }\n",
              "    80% {\n",
              "      border-color: transparent;\n",
              "      border-right-color: var(--fill-color);\n",
              "      border-bottom-color: var(--fill-color);\n",
              "    }\n",
              "    90% {\n",
              "      border-color: transparent;\n",
              "      border-bottom-color: var(--fill-color);\n",
              "    }\n",
              "  }\n",
              "</style>\n",
              "\n",
              "  <script>\n",
              "    async function quickchart(key) {\n",
              "      const quickchartButtonEl =\n",
              "        document.querySelector('#' + key + ' button');\n",
              "      quickchartButtonEl.disabled = true;  // To prevent multiple clicks.\n",
              "      quickchartButtonEl.classList.add('colab-df-spinner');\n",
              "      try {\n",
              "        const charts = await google.colab.kernel.invokeFunction(\n",
              "            'suggestCharts', [key], {});\n",
              "      } catch (error) {\n",
              "        console.error('Error during call to suggestCharts:', error);\n",
              "      }\n",
              "      quickchartButtonEl.classList.remove('colab-df-spinner');\n",
              "      quickchartButtonEl.classList.add('colab-df-quickchart-complete');\n",
              "    }\n",
              "    (() => {\n",
              "      let quickchartButtonEl =\n",
              "        document.querySelector('#df-69333f7f-57c4-4f12-add7-cc5130193a38 button');\n",
              "      quickchartButtonEl.style.display =\n",
              "        google.colab.kernel.accessAllowed ? 'block' : 'none';\n",
              "    })();\n",
              "  </script>\n",
              "</div>\n",
              "    </div>\n",
              "  </div>\n"
            ]
          },
          "metadata": {},
          "execution_count": 2
        }
      ],
      "source": [
        "import pandas as pd\n",
        "\n",
        "df = pd.read_csv('/content/gdrive/MyDrive/skripsi_chandra/ABSA_content.csv')\n",
        "df.head()"
      ]
    },
    {
      "cell_type": "code",
      "execution_count": null,
      "metadata": {
        "id": "rKgWCTqH1RGB",
        "colab": {
          "base_uri": "https://localhost:8080/"
        },
        "outputId": "6ec4fbdb-e736-48c4-83d1-35b500af73ab"
      },
      "outputs": [
        {
          "output_type": "stream",
          "name": "stdout",
          "text": [
            "<class 'numpy.int64'>\n",
            "<class 'str'>\n"
          ]
        }
      ],
      "source": [
        "print(type(df['Content'][0]))\n",
        "print(type(df['review_token'][0]))"
      ]
    },
    {
      "cell_type": "code",
      "execution_count": null,
      "metadata": {
        "id": "DiLw6n3b10EJ"
      },
      "outputs": [],
      "source": [
        "df['review_token'] = df['review_token'].map(lambda x: list(map(int, x[1:-1].split(', '))))"
      ]
    },
    {
      "cell_type": "code",
      "source": [
        "print(type(df['Content'][0]))\n",
        "print(type(df['review_token'][0]))"
      ],
      "metadata": {
        "id": "5FxxiPotEyyu",
        "colab": {
          "base_uri": "https://localhost:8080/"
        },
        "outputId": "f5392dc8-2b10-44b5-b6b3-3764a3077162"
      },
      "execution_count": null,
      "outputs": [
        {
          "output_type": "stream",
          "name": "stdout",
          "text": [
            "<class 'numpy.int64'>\n",
            "<class 'list'>\n"
          ]
        }
      ]
    },
    {
      "cell_type": "code",
      "execution_count": null,
      "metadata": {
        "id": "5_-E0-F6JmOr"
      },
      "outputs": [],
      "source": [
        "reviews = df[['review_token']]\n",
        "labels = df['Content']"
      ]
    },
    {
      "cell_type": "markdown",
      "metadata": {
        "id": "6TdmSEMdGXqy"
      },
      "source": [
        "## **Splitting Data and Applying Padding**"
      ]
    },
    {
      "cell_type": "code",
      "source": [
        "from sklearn.model_selection import train_test_split\n",
        "\n",
        "x_train, x_temp, y_train, y_temp = train_test_split(reviews, labels, test_size=0.3, random_state=42, stratify=labels)\n",
        "x_val, x_test, y_val, y_test = train_test_split(x_temp, y_temp, test_size=0.5, random_state=42, stratify=y_temp)\n",
        "\n",
        "print(x_train.shape, x_val.shape, x_test.shape, y_train.shape, y_val.shape, y_test.shape)"
      ],
      "metadata": {
        "id": "e_Nyqm1c7mhu",
        "colab": {
          "base_uri": "https://localhost:8080/"
        },
        "outputId": "8d9506f9-3e66-4619-c7ff-12a8caa97437"
      },
      "execution_count": null,
      "outputs": [
        {
          "output_type": "stream",
          "name": "stdout",
          "text": [
            "(2030, 1) (435, 1) (435, 1) (2030,) (435,) (435,)\n"
          ]
        }
      ]
    },
    {
      "cell_type": "code",
      "execution_count": null,
      "metadata": {
        "id": "VLbuZdw7h_n5"
      },
      "outputs": [],
      "source": [
        "x_train_pad = x_train['review_token']\n",
        "x_val_pad = x_val['review_token']\n",
        "x_test_pad = x_test['review_token']"
      ]
    },
    {
      "cell_type": "code",
      "execution_count": null,
      "metadata": {
        "id": "QkM6T_FHrmga"
      },
      "outputs": [],
      "source": [
        "from keras.preprocessing import sequence\n",
        "from keras.utils import pad_sequences\n",
        "\n",
        "x_train = pad_sequences(x_train_pad, maxlen=100)\n",
        "x_val = pad_sequences(x_val_pad, maxlen=100)\n",
        "x_test = pad_sequences(x_test_pad, maxlen=100)"
      ]
    },
    {
      "cell_type": "markdown",
      "metadata": {
        "id": "M7re-QixGAIk"
      },
      "source": [
        "## **Modeling Initialization**"
      ]
    },
    {
      "cell_type": "code",
      "source": [
        "pip install keras-tuner"
      ],
      "metadata": {
        "id": "siZKHKdg5CjJ",
        "colab": {
          "base_uri": "https://localhost:8080/"
        },
        "outputId": "c2f73ac4-331c-4cb7-fa18-4481e2bfc40d"
      },
      "execution_count": null,
      "outputs": [
        {
          "output_type": "stream",
          "name": "stdout",
          "text": [
            "Collecting keras-tuner\n",
            "  Downloading keras_tuner-1.3.5-py3-none-any.whl (176 kB)\n",
            "\u001b[2K     \u001b[90m━━━━━━━━━━━━━━━━━━━━━━━━━━━━━━━━━━━━━━━\u001b[0m \u001b[32m176.1/176.1 kB\u001b[0m \u001b[31m4.2 MB/s\u001b[0m eta \u001b[36m0:00:00\u001b[0m\n",
            "\u001b[?25hRequirement already satisfied: packaging in /usr/local/lib/python3.10/dist-packages (from keras-tuner) (23.1)\n",
            "Requirement already satisfied: requests in /usr/local/lib/python3.10/dist-packages (from keras-tuner) (2.31.0)\n",
            "Collecting kt-legacy (from keras-tuner)\n",
            "  Downloading kt_legacy-1.0.5-py3-none-any.whl (9.6 kB)\n",
            "Requirement already satisfied: charset-normalizer<4,>=2 in /usr/local/lib/python3.10/dist-packages (from requests->keras-tuner) (3.2.0)\n",
            "Requirement already satisfied: idna<4,>=2.5 in /usr/local/lib/python3.10/dist-packages (from requests->keras-tuner) (3.4)\n",
            "Requirement already satisfied: urllib3<3,>=1.21.1 in /usr/local/lib/python3.10/dist-packages (from requests->keras-tuner) (2.0.4)\n",
            "Requirement already satisfied: certifi>=2017.4.17 in /usr/local/lib/python3.10/dist-packages (from requests->keras-tuner) (2023.7.22)\n",
            "Installing collected packages: kt-legacy, keras-tuner\n",
            "Successfully installed keras-tuner-1.3.5 kt-legacy-1.0.5\n"
          ]
        }
      ]
    },
    {
      "cell_type": "code",
      "source": [
        "import numpy as np\n",
        "\n",
        "embedding_matrix = np.load('/content/gdrive/MyDrive/skripsi_chandra/embedding_matrix.npy')"
      ],
      "metadata": {
        "id": "bRqcTRY2eYSs"
      },
      "execution_count": null,
      "outputs": []
    },
    {
      "cell_type": "code",
      "execution_count": null,
      "metadata": {
        "id": "sopVXijz6igS"
      },
      "outputs": [],
      "source": [
        "from tensorflow.keras.callbacks import EarlyStopping\n",
        "\n",
        "early_stopping = EarlyStopping(restore_best_weights=True, patience=3,\n",
        "                               min_delta=0.01, monitor='val_loss')"
      ]
    },
    {
      "cell_type": "markdown",
      "source": [
        "**Hyperparameter tuning**\n",
        "1. Filter Size [2], [2,3,4]\n",
        "3. Dropout Rate [0.25, 0.5]\n",
        "4. Learning Rate [0.001, 0.0001]"
      ],
      "metadata": {
        "id": "NVOPkfGPITO9"
      }
    },
    {
      "cell_type": "markdown",
      "metadata": {
        "id": "_uxLmezcdG9w"
      },
      "source": [
        "## **CNN**"
      ]
    },
    {
      "cell_type": "code",
      "execution_count": null,
      "metadata": {
        "id": "vQerBsBydLFj"
      },
      "outputs": [],
      "source": [
        "from tensorflow.keras.models import Sequential\n",
        "from tensorflow.keras.layers import Dense, Conv1D, Dropout, Activation, MaxPooling1D, Flatten, Embedding\n",
        "from tensorflow.keras import optimizers, regularizers\n",
        "\n",
        "def build_CNN(hp):\n",
        "  model = Sequential()\n",
        "  model.add(Embedding(input_dim=2500, output_dim=300,\n",
        "                      weights=[embedding_matrix], input_length=100))\n",
        "\n",
        "  filter_sizes = hp.Choice('filter size', values=['2', '2,3,4'])\n",
        "  filter_sizes_list = [int(x) for x in filter_sizes.split(',')]\n",
        "  dropout_rate = hp.Choice('dropout rate', values=[0.25, 0.5])\n",
        "  learn_rate = hp.Choice('learning rate', values=[0.001, 0.0001])\n",
        "\n",
        "  conv_layers = []\n",
        "  for filter_size in filter_sizes_list:\n",
        "    conv_layer = Conv1D(filters=200, kernel_size=filter_size,\n",
        "                        padding='valid', activation='relu', strides=1)\n",
        "    conv_layers.append(conv_layer)\n",
        "\n",
        "  for conv_layer in conv_layers:\n",
        "    model.add(conv_layer)\n",
        "\n",
        "  model.add(MaxPooling1D())\n",
        "  model.add(Dense(128, activation='relu', kernel_regularizer=regularizers.l2(0.01)))\n",
        "  model.add(Dropout(dropout_rate))\n",
        "  model.add(Flatten())\n",
        "  model.add(Dense(1, activation='sigmoid'))\n",
        "  model.compile(optimizer=optimizers.Adam(learning_rate=learn_rate), loss='binary_crossentropy', metrics=['accuracy'])\n",
        "  return model"
      ]
    },
    {
      "cell_type": "code",
      "source": [
        "from keras_tuner import GridSearch\n",
        "from kerastuner.engine.hyperparameters import HyperParameters\n",
        "\n",
        "tuner = GridSearch(\n",
        "    build_CNN,\n",
        "    objective='val_accuracy',\n",
        "    directory='content_CNN',\n",
        "    project_name='content'\n",
        ")\n",
        "\n",
        "tuner.search(x_train, y_train, epochs=50, batch_size=64, verbose=1, validation_data=(x_val,y_val), callbacks=[early_stopping])\n",
        "tuner.results_summary()"
      ],
      "metadata": {
        "id": "tQKZPXIU3wSB",
        "colab": {
          "base_uri": "https://localhost:8080/"
        },
        "outputId": "d259c9a1-d4b7-4a39-b7cf-85596ac28c3e"
      },
      "execution_count": null,
      "outputs": [
        {
          "output_type": "stream",
          "name": "stdout",
          "text": [
            "Trial 8 Complete [00h 00m 30s]\n",
            "val_accuracy: 0.9172413945198059\n",
            "\n",
            "Best val_accuracy So Far: 0.9218390583992004\n",
            "Total elapsed time: 00h 03m 24s\n",
            "Results summary\n",
            "Results in content_CNN/content\n",
            "Showing 10 best trials\n",
            "Objective(name=\"val_accuracy\", direction=\"max\")\n",
            "\n",
            "Trial 0003 summary\n",
            "Hyperparameters:\n",
            "filter size: 2\n",
            "dropout rate: 0.5\n",
            "learning rate: 0.0001\n",
            "Score: 0.9218390583992004\n",
            "\n",
            "Trial 0005 summary\n",
            "Hyperparameters:\n",
            "filter size: 2,3,4\n",
            "dropout rate: 0.25\n",
            "learning rate: 0.0001\n",
            "Score: 0.9195402264595032\n",
            "\n",
            "Trial 0006 summary\n",
            "Hyperparameters:\n",
            "filter size: 2,3,4\n",
            "dropout rate: 0.5\n",
            "learning rate: 0.001\n",
            "Score: 0.9195402264595032\n",
            "\n",
            "Trial 0001 summary\n",
            "Hyperparameters:\n",
            "filter size: 2\n",
            "dropout rate: 0.25\n",
            "learning rate: 0.0001\n",
            "Score: 0.9172413945198059\n",
            "\n",
            "Trial 0007 summary\n",
            "Hyperparameters:\n",
            "filter size: 2,3,4\n",
            "dropout rate: 0.5\n",
            "learning rate: 0.0001\n",
            "Score: 0.9172413945198059\n",
            "\n",
            "Trial 0004 summary\n",
            "Hyperparameters:\n",
            "filter size: 2,3,4\n",
            "dropout rate: 0.25\n",
            "learning rate: 0.001\n",
            "Score: 0.9149425029754639\n",
            "\n",
            "Trial 0000 summary\n",
            "Hyperparameters:\n",
            "filter size: 2\n",
            "dropout rate: 0.25\n",
            "learning rate: 0.001\n",
            "Score: 0.9103448390960693\n",
            "\n",
            "Trial 0002 summary\n",
            "Hyperparameters:\n",
            "filter size: 2\n",
            "dropout rate: 0.5\n",
            "learning rate: 0.001\n",
            "Score: 0.9103448390960693\n"
          ]
        }
      ]
    },
    {
      "cell_type": "code",
      "source": [
        "best_hp = tuner.get_best_hyperparameters(num_trials=1)[0]\n",
        "best_hp.values"
      ],
      "metadata": {
        "colab": {
          "base_uri": "https://localhost:8080/"
        },
        "id": "CGkeZnTd8-qG",
        "outputId": "efb5f296-61d8-4a38-f5dd-3f104abe562d"
      },
      "execution_count": null,
      "outputs": [
        {
          "output_type": "execute_result",
          "data": {
            "text/plain": [
              "{'filter size': '2', 'dropout rate': 0.5, 'learning rate': 0.0001}"
            ]
          },
          "metadata": {},
          "execution_count": 15
        }
      ]
    },
    {
      "cell_type": "code",
      "source": [
        "model = build_CNN(best_hp)\n",
        "history = model.fit(x_train, y_train,\n",
        "                    epochs=50, batch_size=64,\n",
        "                    validation_data=(x_val, y_val),\n",
        "                    callbacks=[early_stopping])\n",
        "model.summary()"
      ],
      "metadata": {
        "id": "veMkd7JZ1dMn",
        "colab": {
          "base_uri": "https://localhost:8080/"
        },
        "outputId": "23718e62-b08c-4eb5-ed36-177efc58a4b5"
      },
      "execution_count": null,
      "outputs": [
        {
          "output_type": "stream",
          "name": "stdout",
          "text": [
            "Epoch 1/50\n",
            "32/32 [==============================] - 5s 129ms/step - loss: 2.1654 - accuracy: 0.7517 - val_loss: 2.0693 - val_accuracy: 0.8000\n",
            "Epoch 2/50\n",
            "32/32 [==============================] - 2s 70ms/step - loss: 1.9622 - accuracy: 0.7995 - val_loss: 1.8675 - val_accuracy: 0.8000\n",
            "Epoch 3/50\n",
            "32/32 [==============================] - 2s 66ms/step - loss: 1.8093 - accuracy: 0.7995 - val_loss: 1.7608 - val_accuracy: 0.8000\n",
            "Epoch 4/50\n",
            "32/32 [==============================] - 2s 52ms/step - loss: 1.7129 - accuracy: 0.7995 - val_loss: 1.6686 - val_accuracy: 0.8000\n",
            "Epoch 5/50\n",
            "32/32 [==============================] - 1s 23ms/step - loss: 1.6244 - accuracy: 0.7995 - val_loss: 1.5828 - val_accuracy: 0.8000\n",
            "Epoch 6/50\n",
            "32/32 [==============================] - 2s 50ms/step - loss: 1.5399 - accuracy: 0.7995 - val_loss: 1.5007 - val_accuracy: 0.8000\n",
            "Epoch 7/50\n",
            "32/32 [==============================] - 1s 23ms/step - loss: 1.4585 - accuracy: 0.7995 - val_loss: 1.4218 - val_accuracy: 0.8000\n",
            "Epoch 8/50\n",
            "32/32 [==============================] - 0s 10ms/step - loss: 1.3799 - accuracy: 0.7995 - val_loss: 1.3446 - val_accuracy: 0.8000\n",
            "Epoch 9/50\n",
            "32/32 [==============================] - 1s 22ms/step - loss: 1.3021 - accuracy: 0.7995 - val_loss: 1.2675 - val_accuracy: 0.8000\n",
            "Epoch 10/50\n",
            "32/32 [==============================] - 1s 22ms/step - loss: 1.2243 - accuracy: 0.7995 - val_loss: 1.1902 - val_accuracy: 0.8000\n",
            "Epoch 11/50\n",
            "32/32 [==============================] - 1s 18ms/step - loss: 1.1449 - accuracy: 0.7995 - val_loss: 1.1117 - val_accuracy: 0.8000\n",
            "Epoch 12/50\n",
            "32/32 [==============================] - 1s 20ms/step - loss: 1.0629 - accuracy: 0.7995 - val_loss: 1.0343 - val_accuracy: 0.8023\n",
            "Epoch 13/50\n",
            "32/32 [==============================] - 1s 31ms/step - loss: 0.9791 - accuracy: 0.8310 - val_loss: 0.9568 - val_accuracy: 0.8460\n",
            "Epoch 14/50\n",
            "32/32 [==============================] - 1s 18ms/step - loss: 0.8996 - accuracy: 0.8867 - val_loss: 0.8851 - val_accuracy: 0.9080\n",
            "Epoch 15/50\n",
            "32/32 [==============================] - 0s 10ms/step - loss: 0.8265 - accuracy: 0.9187 - val_loss: 0.8242 - val_accuracy: 0.9126\n",
            "Epoch 16/50\n",
            "32/32 [==============================] - 0s 10ms/step - loss: 0.7597 - accuracy: 0.9340 - val_loss: 0.7712 - val_accuracy: 0.9126\n",
            "Epoch 17/50\n",
            "32/32 [==============================] - 0s 10ms/step - loss: 0.7069 - accuracy: 0.9384 - val_loss: 0.7276 - val_accuracy: 0.9080\n",
            "Epoch 18/50\n",
            "32/32 [==============================] - 0s 14ms/step - loss: 0.6545 - accuracy: 0.9458 - val_loss: 0.6887 - val_accuracy: 0.9195\n",
            "Epoch 19/50\n",
            "32/32 [==============================] - 1s 18ms/step - loss: 0.6088 - accuracy: 0.9478 - val_loss: 0.6573 - val_accuracy: 0.9080\n",
            "Epoch 20/50\n",
            "32/32 [==============================] - 0s 6ms/step - loss: 0.5696 - accuracy: 0.9507 - val_loss: 0.6251 - val_accuracy: 0.9149\n",
            "Epoch 21/50\n",
            "32/32 [==============================] - 0s 10ms/step - loss: 0.5309 - accuracy: 0.9532 - val_loss: 0.5972 - val_accuracy: 0.9172\n",
            "Epoch 22/50\n",
            "32/32 [==============================] - 0s 6ms/step - loss: 0.4968 - accuracy: 0.9601 - val_loss: 0.5768 - val_accuracy: 0.9103\n",
            "Epoch 23/50\n",
            "32/32 [==============================] - 0s 10ms/step - loss: 0.4648 - accuracy: 0.9616 - val_loss: 0.5502 - val_accuracy: 0.9149\n",
            "Epoch 24/50\n",
            "32/32 [==============================] - 0s 5ms/step - loss: 0.4375 - accuracy: 0.9616 - val_loss: 0.5350 - val_accuracy: 0.9149\n",
            "Epoch 25/50\n",
            "32/32 [==============================] - 0s 10ms/step - loss: 0.4097 - accuracy: 0.9645 - val_loss: 0.5116 - val_accuracy: 0.9103\n",
            "Epoch 26/50\n",
            "32/32 [==============================] - 0s 10ms/step - loss: 0.3855 - accuracy: 0.9640 - val_loss: 0.4951 - val_accuracy: 0.9149\n",
            "Epoch 27/50\n",
            "32/32 [==============================] - 0s 10ms/step - loss: 0.3640 - accuracy: 0.9675 - val_loss: 0.4794 - val_accuracy: 0.9126\n",
            "Epoch 28/50\n",
            "32/32 [==============================] - 0s 14ms/step - loss: 0.3393 - accuracy: 0.9719 - val_loss: 0.4674 - val_accuracy: 0.9126\n",
            "Epoch 29/50\n",
            "32/32 [==============================] - 0s 10ms/step - loss: 0.3230 - accuracy: 0.9690 - val_loss: 0.4582 - val_accuracy: 0.9126\n",
            "Epoch 30/50\n",
            "32/32 [==============================] - 0s 6ms/step - loss: 0.3071 - accuracy: 0.9685 - val_loss: 0.4429 - val_accuracy: 0.9126\n",
            "Epoch 31/50\n",
            "32/32 [==============================] - 0s 5ms/step - loss: 0.2848 - accuracy: 0.9724 - val_loss: 0.4315 - val_accuracy: 0.9126\n",
            "Epoch 32/50\n",
            "32/32 [==============================] - 0s 15ms/step - loss: 0.2698 - accuracy: 0.9759 - val_loss: 0.4227 - val_accuracy: 0.9126\n",
            "Epoch 33/50\n",
            "32/32 [==============================] - 0s 10ms/step - loss: 0.2536 - accuracy: 0.9768 - val_loss: 0.4169 - val_accuracy: 0.9126\n",
            "Epoch 34/50\n",
            "32/32 [==============================] - 0s 6ms/step - loss: 0.2387 - accuracy: 0.9759 - val_loss: 0.4088 - val_accuracy: 0.9103\n",
            "Epoch 35/50\n",
            "32/32 [==============================] - 0s 14ms/step - loss: 0.2280 - accuracy: 0.9764 - val_loss: 0.4024 - val_accuracy: 0.9103\n",
            "Epoch 36/50\n",
            "32/32 [==============================] - 0s 16ms/step - loss: 0.2134 - accuracy: 0.9773 - val_loss: 0.3962 - val_accuracy: 0.9080\n",
            "Epoch 37/50\n",
            "32/32 [==============================] - 0s 6ms/step - loss: 0.2013 - accuracy: 0.9783 - val_loss: 0.3924 - val_accuracy: 0.9080\n",
            "Epoch 38/50\n",
            "32/32 [==============================] - 0s 10ms/step - loss: 0.1927 - accuracy: 0.9778 - val_loss: 0.3888 - val_accuracy: 0.9080\n",
            "Epoch 39/50\n",
            "32/32 [==============================] - 0s 6ms/step - loss: 0.1830 - accuracy: 0.9813 - val_loss: 0.3860 - val_accuracy: 0.9057\n",
            "Epoch 40/50\n",
            "32/32 [==============================] - 0s 12ms/step - loss: 0.1732 - accuracy: 0.9808 - val_loss: 0.3806 - val_accuracy: 0.9034\n",
            "Epoch 41/50\n",
            "32/32 [==============================] - 0s 5ms/step - loss: 0.1620 - accuracy: 0.9833 - val_loss: 0.3800 - val_accuracy: 0.9011\n",
            "Epoch 42/50\n",
            "32/32 [==============================] - 0s 6ms/step - loss: 0.1569 - accuracy: 0.9837 - val_loss: 0.3848 - val_accuracy: 0.9057\n",
            "Epoch 43/50\n",
            "32/32 [==============================] - 0s 6ms/step - loss: 0.1476 - accuracy: 0.9857 - val_loss: 0.3747 - val_accuracy: 0.8989\n",
            "Model: \"sequential_1\"\n",
            "_________________________________________________________________\n",
            " Layer (type)                Output Shape              Param #   \n",
            "=================================================================\n",
            " embedding_1 (Embedding)     (None, 100, 300)          750000    \n",
            "                                                                 \n",
            " conv1d_3 (Conv1D)           (None, 99, 200)           120200    \n",
            "                                                                 \n",
            " max_pooling1d_1 (MaxPoolin  (None, 49, 200)           0         \n",
            " g1D)                                                            \n",
            "                                                                 \n",
            " dense_2 (Dense)             (None, 49, 128)           25728     \n",
            "                                                                 \n",
            " dropout_1 (Dropout)         (None, 49, 128)           0         \n",
            "                                                                 \n",
            " flatten_1 (Flatten)         (None, 6272)              0         \n",
            "                                                                 \n",
            " dense_3 (Dense)             (None, 1)                 6273      \n",
            "                                                                 \n",
            "=================================================================\n",
            "Total params: 902201 (3.44 MB)\n",
            "Trainable params: 902201 (3.44 MB)\n",
            "Non-trainable params: 0 (0.00 Byte)\n",
            "_________________________________________________________________\n"
          ]
        }
      ]
    },
    {
      "cell_type": "code",
      "source": [
        "import matplotlib.pyplot as plt\n",
        "\n",
        "fig, (ax1, ax2) = plt.subplots(1, 2, figsize=(10, 3))\n",
        "ax1.plot(history.history['accuracy'], label='Train')\n",
        "ax1.plot(history.history['val_accuracy'], label='Val')\n",
        "ax1.set_title('Model Accuracy')\n",
        "ax1.set_xlabel('Epoch')\n",
        "ax1.set_ylabel('Accuracy')\n",
        "ax1.legend(loc='upper left')\n",
        "\n",
        "ax2.plot(history.history['loss'], label='Train')\n",
        "ax2.plot(history.history['val_loss'], label='Val')\n",
        "ax2.set_title('Model Loss')\n",
        "ax2.set_xlabel('Epoch')\n",
        "ax2.set_ylabel('Loss')\n",
        "ax2.legend(loc='upper left')\n",
        "\n",
        "plt.show()"
      ],
      "metadata": {
        "id": "dRCxmCPuEQjo",
        "colab": {
          "base_uri": "https://localhost:8080/",
          "height": 333
        },
        "outputId": "783cf15a-47da-43dc-ea7c-2410e0b3c9d3"
      },
      "execution_count": null,
      "outputs": [
        {
          "output_type": "display_data",
          "data": {
            "text/plain": [
              "<Figure size 1000x300 with 2 Axes>"
            ],
            "image/png": "[encoded data removed]"
          },
          "metadata": {}
        }
      ]
    },
    {
      "cell_type": "code",
      "source": [
        "model.save('content_CNN.h5')"
      ],
      "metadata": {
        "id": "juQhPQtGzSCZ",
        "colab": {
          "base_uri": "https://localhost:8080/"
        },
        "outputId": "a37f4478-1b77-4136-b62a-e1b31ada0f47"
      },
      "execution_count": null,
      "outputs": [
        {
          "output_type": "stream",
          "name": "stderr",
          "text": [
            "/usr/local/lib/python3.10/dist-packages/keras/src/engine/training.py:3000: UserWarning: You are saving your model as an HDF5 file via `model.save()`. This file format is considered legacy. We recommend using instead the native Keras format, e.g. `model.save('my_model.keras')`.\n",
            "  saving_api.save_model(\n"
          ]
        }
      ]
    },
    {
      "cell_type": "code",
      "source": [
        "predictions = model.predict(x_test)"
      ],
      "metadata": {
        "id": "UKpiBmfiza6v",
        "colab": {
          "base_uri": "https://localhost:8080/"
        },
        "outputId": "b9ce39ac-7666-464b-bf5b-2f2b83bb9497"
      },
      "execution_count": null,
      "outputs": [
        {
          "output_type": "stream",
          "name": "stdout",
          "text": [
            "14/14 [==============================] - 0s 3ms/step\n"
          ]
        }
      ]
    },
    {
      "cell_type": "code",
      "source": [
        "y_pred = predictions >= 0.5"
      ],
      "metadata": {
        "id": "kUkEBEQPIGLu"
      },
      "execution_count": null,
      "outputs": []
    },
    {
      "cell_type": "code",
      "source": [
        "from sklearn.metrics import precision_score, recall_score, f1_score\n",
        "\n",
        "macro_precision = precision_score(y_test, y_pred, average='macro')\n",
        "macro_recall = recall_score(y_test, y_pred, average='macro')\n",
        "macro_f1 = f1_score(y_test, y_pred, average='macro')\n",
        "\n",
        "print(f\"Macro-Average Precision: {macro_precision}\")\n",
        "print(f\"Macro-Average Recall: {macro_recall}\")\n",
        "print(f\"Macro-Average F1 Score: {macro_f1}\")"
      ],
      "metadata": {
        "id": "vFWfbPqlIIAt",
        "colab": {
          "base_uri": "https://localhost:8080/"
        },
        "outputId": "9701c379-bcfc-46fa-b556-5623a478144b"
      },
      "execution_count": null,
      "outputs": [
        {
          "output_type": "stream",
          "name": "stdout",
          "text": [
            "Macro-Average Precision: 0.8418254871284312\n",
            "Macro-Average Recall: 0.8175287356321839\n",
            "Macro-Average F1 Score: 0.8287753285870756\n"
          ]
        }
      ]
    },
    {
      "cell_type": "code",
      "source": [
        "from sklearn.metrics import classification_report\n",
        "\n",
        "labels = [\"Negative\", \"Positive\"]\n",
        "report = classification_report(y_test, y_pred)\n",
        "print(report)"
      ],
      "metadata": {
        "id": "Q4tdr70Yzfi-",
        "colab": {
          "base_uri": "https://localhost:8080/"
        },
        "outputId": "76a06046-7ccd-4a01-b1f3-fdc0e1403291"
      },
      "execution_count": null,
      "outputs": [
        {
          "output_type": "stream",
          "name": "stdout",
          "text": [
            "              precision    recall  f1-score   support\n",
            "\n",
            "           0       0.92      0.95      0.93       348\n",
            "           1       0.76      0.69      0.72        87\n",
            "\n",
            "    accuracy                           0.89       435\n",
            "   macro avg       0.84      0.82      0.83       435\n",
            "weighted avg       0.89      0.89      0.89       435\n",
            "\n"
          ]
        }
      ]
    },
    {
      "cell_type": "code",
      "source": [
        "import seaborn as sns\n",
        "import matplotlib.pyplot as plt\n",
        "from sklearn.metrics import confusion_matrix\n",
        "\n",
        "cm = confusion_matrix(y_test, y_pred)\n",
        "\n",
        "plt.figure(figsize=(6, 4))\n",
        "ax = sns.heatmap(cm, annot=True, xticklabels=labels, yticklabels=labels, cmap='flare', fmt='d')\n",
        "plt.xlabel(\"Predicted label\")\n",
        "plt.ylabel(\"Actual label\")\n",
        "plt.show()"
      ],
      "metadata": {
        "id": "r0lKzWsqzhuW",
        "colab": {
          "base_uri": "https://localhost:8080/",
          "height": 388
        },
        "outputId": "a87a8ac9-6c53-48c1-ead6-5573f2f67497"
      },
      "execution_count": null,
      "outputs": [
        {
          "output_type": "display_data",
          "data": {
            "text/plain": [
              "<Figure size 600x400 with 2 Axes>"
            ],
            "image/png": "[encoded data removed]"
          },
          "metadata": {}
        }
      ]
    },
    {
      "cell_type": "markdown",
      "source": [
        "# **CNN-LSTM**"
      ],
      "metadata": {
        "id": "vXLkiM8MEpji"
      }
    },
    {
      "cell_type": "code",
      "source": [
        "from tensorflow.keras.models import Sequential\n",
        "from tensorflow.keras.layers import LSTM, Dense, Conv1D, Dropout, Activation, MaxPooling1D, Flatten, Embedding\n",
        "from tensorflow.keras import optimizers, regularizers\n",
        "\n",
        "def build_CNNLSTM(hp):\n",
        "  model = Sequential()\n",
        "  model.add(Embedding(input_dim=2500, output_dim=300,\n",
        "                      weights=[embedding_matrix], input_length=100))\n",
        "\n",
        "  filter_sizes = hp.Choice('filter size', values=['2', '2,3,4'])\n",
        "  filter_sizes_list = [int(x) for x in filter_sizes.split(',')]\n",
        "  dropout_rate = hp.Choice('dropout rate', values=[0.25, 0.5])\n",
        "  learn_rate = hp.Choice('learning rate', values=[0.001, 0.0001])\n",
        "\n",
        "  conv_layers = []\n",
        "  for filter_size in filter_sizes_list:\n",
        "    conv_layer = Conv1D(filters=200, kernel_size=filter_size,\n",
        "                        padding='valid', activation='relu', strides=1)\n",
        "    conv_layers.append(conv_layer)\n",
        "\n",
        "  for conv_layer in conv_layers:\n",
        "    model.add(conv_layer)\n",
        "\n",
        "  model.add(MaxPooling1D())\n",
        "  model.add(Dense(128, activation='relu', kernel_regularizer=regularizers.l2(0.01)))\n",
        "  model.add(Dropout(dropout_rate))\n",
        "  model.add(LSTM(64))\n",
        "  model.add(Dense(1, activation='sigmoid'))\n",
        "  model.compile(optimizer=optimizers.Adam(learning_rate=learn_rate), loss='binary_crossentropy', metrics=['accuracy'])\n",
        "  return model"
      ],
      "metadata": {
        "id": "vFcRCr9BEsa7"
      },
      "execution_count": null,
      "outputs": []
    },
    {
      "cell_type": "code",
      "source": [
        "from keras_tuner import GridSearch\n",
        "from kerastuner.engine.hyperparameters import HyperParameters\n",
        "\n",
        "tuner = GridSearch(\n",
        "    build_CNNLSTM,\n",
        "    objective='val_accuracy',\n",
        "    directory='content_CNNLSTM',\n",
        "    project_name='content'\n",
        ")\n",
        "\n",
        "tuner.search(x_train, y_train, epochs=50, batch_size=64, verbose=1, validation_data=(x_val,y_val), callbacks=[early_stopping])\n",
        "tuner.results_summary()"
      ],
      "metadata": {
        "colab": {
          "base_uri": "https://localhost:8080/"
        },
        "id": "5kduer4BEy6v",
        "outputId": "a423efca-9124-4241-85cf-4f62ac9a3c1d"
      },
      "execution_count": null,
      "outputs": [
        {
          "output_type": "stream",
          "name": "stdout",
          "text": [
            "Trial 8 Complete [00h 00m 37s]\n",
            "val_accuracy: 0.9264367818832397\n",
            "\n",
            "Best val_accuracy So Far: 0.931034505367279\n",
            "Total elapsed time: 00h 03m 37s\n",
            "Results summary\n",
            "Results in content_CNNLSTM/content\n",
            "Showing 10 best trials\n",
            "Objective(name=\"val_accuracy\", direction=\"max\")\n",
            "\n",
            "Trial 0003 summary\n",
            "Hyperparameters:\n",
            "filter size: 2\n",
            "dropout rate: 0.5\n",
            "learning rate: 0.0001\n",
            "Score: 0.931034505367279\n",
            "\n",
            "Trial 0001 summary\n",
            "Hyperparameters:\n",
            "filter size: 2\n",
            "dropout rate: 0.25\n",
            "learning rate: 0.0001\n",
            "Score: 0.928735613822937\n",
            "\n",
            "Trial 0002 summary\n",
            "Hyperparameters:\n",
            "filter size: 2\n",
            "dropout rate: 0.5\n",
            "learning rate: 0.001\n",
            "Score: 0.9264367818832397\n",
            "\n",
            "Trial 0007 summary\n",
            "Hyperparameters:\n",
            "filter size: 2,3,4\n",
            "dropout rate: 0.5\n",
            "learning rate: 0.0001\n",
            "Score: 0.9264367818832397\n",
            "\n",
            "Trial 0005 summary\n",
            "Hyperparameters:\n",
            "filter size: 2,3,4\n",
            "dropout rate: 0.25\n",
            "learning rate: 0.0001\n",
            "Score: 0.9218390583992004\n",
            "\n",
            "Trial 0004 summary\n",
            "Hyperparameters:\n",
            "filter size: 2,3,4\n",
            "dropout rate: 0.25\n",
            "learning rate: 0.001\n",
            "Score: 0.9195402264595032\n",
            "\n",
            "Trial 0000 summary\n",
            "Hyperparameters:\n",
            "filter size: 2\n",
            "dropout rate: 0.25\n",
            "learning rate: 0.001\n",
            "Score: 0.9172413945198059\n",
            "\n",
            "Trial 0006 summary\n",
            "Hyperparameters:\n",
            "filter size: 2,3,4\n",
            "dropout rate: 0.5\n",
            "learning rate: 0.001\n",
            "Score: 0.9126436710357666\n"
          ]
        }
      ]
    },
    {
      "cell_type": "code",
      "source": [
        "best_hp = tuner.get_best_hyperparameters(num_trials=1)[0]\n",
        "best_hp.values"
      ],
      "metadata": {
        "colab": {
          "base_uri": "https://localhost:8080/"
        },
        "id": "WAo0Y9VAEy9R",
        "outputId": "d187f068-2269-43d8-f3f3-7ee2d5667c96"
      },
      "execution_count": null,
      "outputs": [
        {
          "output_type": "execute_result",
          "data": {
            "text/plain": [
              "{'filter size': '2', 'dropout rate': 0.5, 'learning rate': 0.0001}"
            ]
          },
          "metadata": {},
          "execution_count": 26
        }
      ]
    },
    {
      "cell_type": "code",
      "source": [
        "model = build_CNNLSTM(best_hp)\n",
        "history = model.fit(x_train, y_train,\n",
        "                    epochs=50, batch_size=64,\n",
        "                    validation_data=(x_val, y_val),\n",
        "                    callbacks=[early_stopping])\n",
        "model.summary()"
      ],
      "metadata": {
        "colab": {
          "base_uri": "https://localhost:8080/"
        },
        "id": "vy-lj-OMEy_h",
        "outputId": "b041619e-86f3-49fd-abf1-45d15f4ae899"
      },
      "execution_count": null,
      "outputs": [
        {
          "output_type": "stream",
          "name": "stdout",
          "text": [
            "Epoch 1/50\n",
            "32/32 [==============================] - 7s 137ms/step - loss: 2.1516 - accuracy: 0.7438 - val_loss: 2.0377 - val_accuracy: 0.8000\n",
            "Epoch 2/50\n",
            "32/32 [==============================] - 4s 114ms/step - loss: 1.9404 - accuracy: 0.7995 - val_loss: 1.8629 - val_accuracy: 0.8000\n",
            "Epoch 3/50\n",
            "32/32 [==============================] - 2s 55ms/step - loss: 1.8081 - accuracy: 0.7995 - val_loss: 1.7526 - val_accuracy: 0.8000\n",
            "Epoch 4/50\n",
            "32/32 [==============================] - 2s 50ms/step - loss: 1.6999 - accuracy: 0.7995 - val_loss: 1.6468 - val_accuracy: 0.8000\n",
            "Epoch 5/50\n",
            "32/32 [==============================] - 2s 52ms/step - loss: 1.5931 - accuracy: 0.7995 - val_loss: 1.5355 - val_accuracy: 0.8000\n",
            "Epoch 6/50\n",
            "32/32 [==============================] - 1s 30ms/step - loss: 1.4794 - accuracy: 0.7995 - val_loss: 1.4169 - val_accuracy: 0.8000\n",
            "Epoch 7/50\n",
            "32/32 [==============================] - 1s 17ms/step - loss: 1.3559 - accuracy: 0.8005 - val_loss: 1.2974 - val_accuracy: 0.8161\n",
            "Epoch 8/50\n",
            "32/32 [==============================] - 1s 30ms/step - loss: 1.2399 - accuracy: 0.8424 - val_loss: 1.1903 - val_accuracy: 0.8736\n",
            "Epoch 9/50\n",
            "32/32 [==============================] - 1s 21ms/step - loss: 1.1269 - accuracy: 0.9074 - val_loss: 1.0948 - val_accuracy: 0.9103\n",
            "Epoch 10/50\n",
            "32/32 [==============================] - 1s 21ms/step - loss: 1.0350 - accuracy: 0.9350 - val_loss: 1.0234 - val_accuracy: 0.9195\n",
            "Epoch 11/50\n",
            "32/32 [==============================] - 1s 21ms/step - loss: 0.9568 - accuracy: 0.9404 - val_loss: 0.9630 - val_accuracy: 0.9172\n",
            "Epoch 12/50\n",
            "32/32 [==============================] - 1s 21ms/step - loss: 0.8863 - accuracy: 0.9453 - val_loss: 0.9130 - val_accuracy: 0.9241\n",
            "Epoch 13/50\n",
            "32/32 [==============================] - 1s 17ms/step - loss: 0.8253 - accuracy: 0.9537 - val_loss: 0.8702 - val_accuracy: 0.9241\n",
            "Epoch 14/50\n",
            "32/32 [==============================] - 1s 22ms/step - loss: 0.7686 - accuracy: 0.9586 - val_loss: 0.8356 - val_accuracy: 0.9172\n",
            "Epoch 15/50\n",
            "32/32 [==============================] - 1s 17ms/step - loss: 0.7261 - accuracy: 0.9606 - val_loss: 0.7966 - val_accuracy: 0.9218\n",
            "Epoch 16/50\n",
            "32/32 [==============================] - 1s 21ms/step - loss: 0.6757 - accuracy: 0.9640 - val_loss: 0.7593 - val_accuracy: 0.9287\n",
            "Epoch 17/50\n",
            "32/32 [==============================] - 1s 16ms/step - loss: 0.6297 - accuracy: 0.9665 - val_loss: 0.7331 - val_accuracy: 0.9241\n",
            "Epoch 18/50\n",
            "32/32 [==============================] - 1s 29ms/step - loss: 0.5967 - accuracy: 0.9685 - val_loss: 0.7098 - val_accuracy: 0.9218\n",
            "Epoch 19/50\n",
            "32/32 [==============================] - 1s 17ms/step - loss: 0.5549 - accuracy: 0.9724 - val_loss: 0.6769 - val_accuracy: 0.9287\n",
            "Epoch 20/50\n",
            "32/32 [==============================] - 0s 8ms/step - loss: 0.5207 - accuracy: 0.9754 - val_loss: 0.6692 - val_accuracy: 0.9149\n",
            "Epoch 21/50\n",
            "32/32 [==============================] - 0s 12ms/step - loss: 0.4877 - accuracy: 0.9764 - val_loss: 0.6365 - val_accuracy: 0.9310\n",
            "Epoch 22/50\n",
            "32/32 [==============================] - 0s 8ms/step - loss: 0.4678 - accuracy: 0.9803 - val_loss: 0.6277 - val_accuracy: 0.9195\n",
            "Epoch 23/50\n",
            "32/32 [==============================] - 0s 12ms/step - loss: 0.4368 - accuracy: 0.9813 - val_loss: 0.6037 - val_accuracy: 0.9195\n",
            "Epoch 24/50\n",
            "32/32 [==============================] - 0s 12ms/step - loss: 0.4094 - accuracy: 0.9842 - val_loss: 0.5865 - val_accuracy: 0.9264\n",
            "Epoch 25/50\n",
            "32/32 [==============================] - 0s 12ms/step - loss: 0.3850 - accuracy: 0.9842 - val_loss: 0.5683 - val_accuracy: 0.9310\n",
            "Epoch 26/50\n",
            "32/32 [==============================] - 0s 8ms/step - loss: 0.3634 - accuracy: 0.9857 - val_loss: 0.5526 - val_accuracy: 0.9310\n",
            "Epoch 27/50\n",
            "32/32 [==============================] - 0s 12ms/step - loss: 0.3457 - accuracy: 0.9833 - val_loss: 0.5530 - val_accuracy: 0.9172\n",
            "Epoch 28/50\n",
            "32/32 [==============================] - 0s 8ms/step - loss: 0.3263 - accuracy: 0.9857 - val_loss: 0.5272 - val_accuracy: 0.9287\n",
            "Epoch 29/50\n",
            "32/32 [==============================] - 0s 8ms/step - loss: 0.3108 - accuracy: 0.9842 - val_loss: 0.5176 - val_accuracy: 0.9333\n",
            "Epoch 30/50\n",
            "32/32 [==============================] - 0s 8ms/step - loss: 0.2932 - accuracy: 0.9877 - val_loss: 0.5079 - val_accuracy: 0.9310\n",
            "Epoch 31/50\n",
            "32/32 [==============================] - 0s 8ms/step - loss: 0.2795 - accuracy: 0.9862 - val_loss: 0.4997 - val_accuracy: 0.9264\n",
            "Epoch 32/50\n",
            "32/32 [==============================] - 0s 8ms/step - loss: 0.2595 - accuracy: 0.9931 - val_loss: 0.5007 - val_accuracy: 0.9149\n",
            "Epoch 33/50\n",
            "32/32 [==============================] - 0s 13ms/step - loss: 0.2469 - accuracy: 0.9926 - val_loss: 0.4834 - val_accuracy: 0.9218\n",
            "Epoch 34/50\n",
            "32/32 [==============================] - 0s 8ms/step - loss: 0.2346 - accuracy: 0.9911 - val_loss: 0.4749 - val_accuracy: 0.9218\n",
            "Epoch 35/50\n",
            "32/32 [==============================] - 0s 13ms/step - loss: 0.2243 - accuracy: 0.9936 - val_loss: 0.4605 - val_accuracy: 0.9310\n",
            "Epoch 36/50\n",
            "32/32 [==============================] - 0s 8ms/step - loss: 0.2096 - accuracy: 0.9931 - val_loss: 0.4561 - val_accuracy: 0.9241\n",
            "Epoch 37/50\n",
            "32/32 [==============================] - 0s 12ms/step - loss: 0.2035 - accuracy: 0.9926 - val_loss: 0.4551 - val_accuracy: 0.9218\n",
            "Epoch 38/50\n",
            "32/32 [==============================] - 0s 12ms/step - loss: 0.1899 - accuracy: 0.9936 - val_loss: 0.4467 - val_accuracy: 0.9264\n",
            "Epoch 39/50\n",
            "32/32 [==============================] - 0s 8ms/step - loss: 0.1814 - accuracy: 0.9936 - val_loss: 0.4485 - val_accuracy: 0.9195\n",
            "Epoch 40/50\n",
            "32/32 [==============================] - 0s 8ms/step - loss: 0.1749 - accuracy: 0.9926 - val_loss: 0.4315 - val_accuracy: 0.9264\n",
            "Epoch 41/50\n",
            "32/32 [==============================] - 0s 8ms/step - loss: 0.1671 - accuracy: 0.9931 - val_loss: 0.4528 - val_accuracy: 0.9103\n",
            "Epoch 42/50\n",
            "32/32 [==============================] - 1s 16ms/step - loss: 0.1632 - accuracy: 0.9931 - val_loss: 0.4313 - val_accuracy: 0.9195\n",
            "Epoch 43/50\n",
            "32/32 [==============================] - 0s 10ms/step - loss: 0.1542 - accuracy: 0.9921 - val_loss: 0.4195 - val_accuracy: 0.9264\n",
            "Epoch 44/50\n",
            "32/32 [==============================] - 0s 12ms/step - loss: 0.1464 - accuracy: 0.9926 - val_loss: 0.4273 - val_accuracy: 0.9172\n",
            "Epoch 45/50\n",
            "32/32 [==============================] - 1s 17ms/step - loss: 0.1394 - accuracy: 0.9946 - val_loss: 0.4340 - val_accuracy: 0.9103\n",
            "Epoch 46/50\n",
            "32/32 [==============================] - 0s 13ms/step - loss: 0.1333 - accuracy: 0.9941 - val_loss: 0.4076 - val_accuracy: 0.9264\n",
            "Epoch 47/50\n",
            "32/32 [==============================] - 0s 8ms/step - loss: 0.1270 - accuracy: 0.9941 - val_loss: 0.4411 - val_accuracy: 0.9057\n",
            "Epoch 48/50\n",
            "32/32 [==============================] - 0s 8ms/step - loss: 0.1224 - accuracy: 0.9946 - val_loss: 0.4082 - val_accuracy: 0.9241\n",
            "Epoch 49/50\n",
            "32/32 [==============================] - 0s 9ms/step - loss: 0.1134 - accuracy: 0.9956 - val_loss: 0.4155 - val_accuracy: 0.9172\n",
            "Model: \"sequential_2\"\n",
            "_________________________________________________________________\n",
            " Layer (type)                Output Shape              Param #   \n",
            "=================================================================\n",
            " embedding_2 (Embedding)     (None, 100, 300)          750000    \n",
            "                                                                 \n",
            " conv1d_4 (Conv1D)           (None, 99, 200)           120200    \n",
            "                                                                 \n",
            " max_pooling1d_2 (MaxPoolin  (None, 49, 200)           0         \n",
            " g1D)                                                            \n",
            "                                                                 \n",
            " dense_4 (Dense)             (None, 49, 128)           25728     \n",
            "                                                                 \n",
            " dropout_2 (Dropout)         (None, 49, 128)           0         \n",
            "                                                                 \n",
            " lstm_2 (LSTM)               (None, 64)                49408     \n",
            "                                                                 \n",
            " dense_5 (Dense)             (None, 1)                 65        \n",
            "                                                                 \n",
            "=================================================================\n",
            "Total params: 945401 (3.61 MB)\n",
            "Trainable params: 945401 (3.61 MB)\n",
            "Non-trainable params: 0 (0.00 Byte)\n",
            "_________________________________________________________________\n"
          ]
        }
      ]
    },
    {
      "cell_type": "code",
      "source": [
        "import matplotlib.pyplot as plt\n",
        "\n",
        "fig, (ax1, ax2) = plt.subplots(1, 2, figsize=(10, 3))\n",
        "ax1.plot(history.history['accuracy'], label='Train')\n",
        "ax1.plot(history.history['val_accuracy'], label='Val')\n",
        "ax1.set_title('Model Accuracy')\n",
        "ax1.set_xlabel('Epoch')\n",
        "ax1.set_ylabel('Accuracy')\n",
        "ax1.legend(loc='upper left')\n",
        "\n",
        "ax2.plot(history.history['loss'], label='Train')\n",
        "ax2.plot(history.history['val_loss'], label='Val')\n",
        "ax2.set_title('Model Loss')\n",
        "ax2.set_xlabel('Epoch')\n",
        "ax2.set_ylabel('Loss')\n",
        "ax2.legend(loc='upper left')\n",
        "\n",
        "plt.show()"
      ],
      "metadata": {
        "colab": {
          "base_uri": "https://localhost:8080/",
          "height": 333
        },
        "id": "58b8VosoHZqW",
        "outputId": "343699a4-f81e-4152-eca7-e77ec575977c"
      },
      "execution_count": null,
      "outputs": [
        {
          "output_type": "display_data",
          "data": {
            "text/plain": [
              "<Figure size 1000x300 with 2 Axes>"
            ],
            "image/png": "[encoded data removed]"
          },
          "metadata": {}
        }
      ]
    },
    {
      "cell_type": "code",
      "source": [
        "model.save('content_CNNLSTM.h5')"
      ],
      "metadata": {
        "id": "hfMalbeREzCF",
        "colab": {
          "base_uri": "https://localhost:8080/"
        },
        "outputId": "04b173f6-2080-4150-e59b-d52efd253903"
      },
      "execution_count": null,
      "outputs": [
        {
          "output_type": "stream",
          "name": "stderr",
          "text": [
            "/usr/local/lib/python3.10/dist-packages/keras/src/engine/training.py:3000: UserWarning: You are saving your model as an HDF5 file via `model.save()`. This file format is considered legacy. We recommend using instead the native Keras format, e.g. `model.save('my_model.keras')`.\n",
            "  saving_api.save_model(\n"
          ]
        }
      ]
    },
    {
      "cell_type": "code",
      "source": [
        "predictions = model.predict(x_test)"
      ],
      "metadata": {
        "colab": {
          "base_uri": "https://localhost:8080/"
        },
        "id": "7Ptrx1aPEzEg",
        "outputId": "f4ba959c-8240-40b0-8c4f-e7160e1e0c09"
      },
      "execution_count": null,
      "outputs": [
        {
          "output_type": "stream",
          "name": "stdout",
          "text": [
            "14/14 [==============================] - 0s 3ms/step\n"
          ]
        }
      ]
    },
    {
      "cell_type": "code",
      "source": [
        "y_pred = predictions >= 0.5"
      ],
      "metadata": {
        "id": "eHWTJ2XvILJ-"
      },
      "execution_count": null,
      "outputs": []
    },
    {
      "cell_type": "code",
      "source": [
        "from sklearn.metrics import precision_score, recall_score, f1_score\n",
        "\n",
        "macro_precision = precision_score(y_test, y_pred, average='macro')\n",
        "macro_recall = recall_score(y_test, y_pred, average='macro')\n",
        "macro_f1 = f1_score(y_test, y_pred, average='macro')\n",
        "\n",
        "print(f\"Macro-Average Precision: {macro_precision}\")\n",
        "print(f\"Macro-Average Recall: {macro_recall}\")\n",
        "print(f\"Macro-Average F1 Score: {macro_f1}\")"
      ],
      "metadata": {
        "id": "v9-MUH2cIJ9g",
        "colab": {
          "base_uri": "https://localhost:8080/"
        },
        "outputId": "46c01364-4c13-4c52-c830-a972dd8bd790"
      },
      "execution_count": null,
      "outputs": [
        {
          "output_type": "stream",
          "name": "stdout",
          "text": [
            "Macro-Average Precision: 0.8495590954345044\n",
            "Macro-Average Recall: 0.8247126436781609\n",
            "Macro-Average F1 Score: 0.8362198795180723\n"
          ]
        }
      ]
    },
    {
      "cell_type": "code",
      "source": [
        "from sklearn.metrics import classification_report\n",
        "\n",
        "labels = [\"Negative\", \"Positive\"]\n",
        "report = classification_report(y_test, y_pred)\n",
        "print(report)"
      ],
      "metadata": {
        "colab": {
          "base_uri": "https://localhost:8080/"
        },
        "id": "gtvGrqSkEzGv",
        "outputId": "e322f92c-b8e8-4165-9510-48b13a457ef3"
      },
      "execution_count": null,
      "outputs": [
        {
          "output_type": "stream",
          "name": "stdout",
          "text": [
            "              precision    recall  f1-score   support\n",
            "\n",
            "           0       0.93      0.95      0.94       348\n",
            "           1       0.77      0.70      0.73        87\n",
            "\n",
            "    accuracy                           0.90       435\n",
            "   macro avg       0.85      0.82      0.84       435\n",
            "weighted avg       0.90      0.90      0.90       435\n",
            "\n"
          ]
        }
      ]
    },
    {
      "cell_type": "code",
      "source": [
        "import seaborn as sns\n",
        "import matplotlib.pyplot as plt\n",
        "from sklearn.metrics import confusion_matrix\n",
        "\n",
        "cm = confusion_matrix(y_test, y_pred)\n",
        "\n",
        "plt.figure(figsize=(6, 4))\n",
        "ax = sns.heatmap(cm, annot=True, xticklabels=labels, yticklabels=labels, cmap='flare', fmt='d')\n",
        "plt.xlabel(\"Predicted label\")\n",
        "plt.ylabel(\"Actual label\")\n",
        "plt.show()"
      ],
      "metadata": {
        "colab": {
          "base_uri": "https://localhost:8080/",
          "height": 388
        },
        "id": "gRCSHhP_EzJd",
        "outputId": "d470a7d4-82c2-477f-9ba3-ceb270b59fdf"
      },
      "execution_count": null,
      "outputs": [
        {
          "output_type": "display_data",
          "data": {
            "text/plain": [
              "<Figure size 600x400 with 2 Axes>"
            ],
            "image/png": "[encoded data removed]"
          },
          "metadata": {}
        }
      ]
    }
  ],
  "metadata": {
    "colab": {
      "provenance": [],
      "gpuClass": "premium",
      "machine_shape": "hm",
      "gpuType": "V100"
    },
    "kernelspec": {
      "display_name": "Python 3",
      "name": "python3"
    },
    "language_info": {
      "name": "python"
    },
    "accelerator": "GPU"
  },
  "nbformat": 4,
  "nbformat_minor": 0
}