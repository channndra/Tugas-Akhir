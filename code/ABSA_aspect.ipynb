{
 "cells": [
  {
   "cell_type": "code",
   "execution_count": null,
   "metadata": {
    "colab": {
     "base_uri": "https://localhost:8080/"
    },
    "id": "_BBW-nJeEMNK",
    "outputId": "8538d557-fd6e-4418-ef86-9f11a547eb98"
   },
   "outputs": [
    {
     "name": "stdout",
     "output_type": "stream",
     "text": [
      "Mounted at /content/gdrive\n"
     ]
    }
   ],
   "source": [
    "from google.colab import drive\n",
    "drive.mount('/content/gdrive')"
   ]
  },
  {
   "cell_type": "markdown",
   "metadata": {
    "id": "RmMRW-PwDQsY"
   },
   "source": [
    "## **Data Initializing**"
   ]
  },
  {
   "cell_type": "code",
   "execution_count": null,
   "metadata": {
    "colab": {
     "base_uri": "https://localhost:8080/",
     "height": 206
    },
    "id": "i1h8MzCQcVMk",
    "outputId": "3e7ea34d-36b8-483c-d8df-b42829b7812d"
   },
   "outputs": [
    {
     "data": {
      "text/html": [
       "\n",
       "  <div id=\"df-dc7294fe-7402-4fea-a77e-7056e0fa2e51\" class=\"colab-df-container\">\n",
       "    <div>\n",
       "<style scoped>\n",
       "    .dataframe tbody tr th:only-of-type {\n",
       "        vertical-align: middle;\n",
       "    }\n",
       "\n",
       "    .dataframe tbody tr th {\n",
       "        vertical-align: top;\n",
       "    }\n",
       "\n",
       "    .dataframe thead th {\n",
       "        text-align: right;\n",
       "    }\n",
       "</style>\n",
       "<table border=\"1\" class=\"dataframe\">\n",
       "  <thead>\n",
       "    <tr style=\"text-align: right;\">\n",
       "      <th></th>\n",
       "      <th>review_token</th>\n",
       "      <th>aspects</th>\n",
       "    </tr>\n",
       "  </thead>\n",
       "  <tbody>\n",
       "    <tr>\n",
       "      <th>0</th>\n",
       "      <td>[7, 36, 62, 27, 269, 26, 6, 97, 334, 7, 288, 2...</td>\n",
       "      <td>[1, 0, 1, 1]</td>\n",
       "    </tr>\n",
       "    <tr>\n",
       "      <th>1</th>\n",
       "      <td>[293, 74, 1, 913, 107, 80, 4, 19, 186, 15, 198...</td>\n",
       "      <td>[1, 0, 1, 1]</td>\n",
       "    </tr>\n",
       "    <tr>\n",
       "      <th>2</th>\n",
       "      <td>[2, 87, 17, 107, 137, 213, 89, 2, 82, 6, 53, 3...</td>\n",
       "      <td>[1, 0, 0, 1]</td>\n",
       "    </tr>\n",
       "    <tr>\n",
       "      <th>3</th>\n",
       "      <td>[328, 32, 186, 329, 820, 1178, 2402, 326, 2403...</td>\n",
       "      <td>[1, 0, 0, 0]</td>\n",
       "    </tr>\n",
       "    <tr>\n",
       "      <th>4</th>\n",
       "      <td>[2, 14, 12, 33, 519, 41, 4, 50, 25, 19, 68, 68...</td>\n",
       "      <td>[1, 0, 0, 1]</td>\n",
       "    </tr>\n",
       "  </tbody>\n",
       "</table>\n",
       "</div>\n",
       "    <div class=\"colab-df-buttons\">\n",
       "\n",
       "  <div class=\"colab-df-container\">\n",
       "    <button class=\"colab-df-convert\" onclick=\"convertToInteractive('df-dc7294fe-7402-4fea-a77e-7056e0fa2e51')\"\n",
       "            title=\"Convert this dataframe to an interactive table.\"\n",
       "            style=\"display:none;\">\n",
       "\n",
       "  <svg xmlns=\"http://www.w3.org/2000/svg\" height=\"24px\" viewBox=\"0 -960 960 960\">\n",
       "    <path d=\"M120-120v-720h720v720H120Zm60-500h600v-160H180v160Zm220 220h160v-160H400v160Zm0 220h160v-160H400v160ZM180-400h160v-160H180v160Zm440 0h160v-160H620v160ZM180-180h160v-160H180v160Zm440 0h160v-160H620v160Z\"/>\n",
       "  </svg>\n",
       "    </button>\n",
       "\n",
       "  <style>\n",
       "    .colab-df-container {\n",
       "      display:flex;\n",
       "      gap: 12px;\n",
       "    }\n",
       "\n",
       "    .colab-df-convert {\n",
       "      background-color: #E8F0FE;\n",
       "      border: none;\n",
       "      border-radius: 50%;\n",
       "      cursor: pointer;\n",
       "      display: none;\n",
       "      fill: #1967D2;\n",
       "      height: 32px;\n",
       "      padding: 0 0 0 0;\n",
       "      width: 32px;\n",
       "    }\n",
       "\n",
       "    .colab-df-convert:hover {\n",
       "      background-color: #E2EBFA;\n",
       "      box-shadow: 0px 1px 2px rgba(60, 64, 67, 0.3), 0px 1px 3px 1px rgba(60, 64, 67, 0.15);\n",
       "      fill: #174EA6;\n",
       "    }\n",
       "\n",
       "    .colab-df-buttons div {\n",
       "      margin-bottom: 4px;\n",
       "    }\n",
       "\n",
       "    [theme=dark] .colab-df-convert {\n",
       "      background-color: #3B4455;\n",
       "      fill: #D2E3FC;\n",
       "    }\n",
       "\n",
       "    [theme=dark] .colab-df-convert:hover {\n",
       "      background-color: #434B5C;\n",
       "      box-shadow: 0px 1px 3px 1px rgba(0, 0, 0, 0.15);\n",
       "      filter: drop-shadow(0px 1px 2px rgba(0, 0, 0, 0.3));\n",
       "      fill: #FFFFFF;\n",
       "    }\n",
       "  </style>\n",
       "\n",
       "    <script>\n",
       "      const buttonEl =\n",
       "        document.querySelector('#df-dc7294fe-7402-4fea-a77e-7056e0fa2e51 button.colab-df-convert');\n",
       "      buttonEl.style.display =\n",
       "        google.colab.kernel.accessAllowed ? 'block' : 'none';\n",
       "\n",
       "      async function convertToInteractive(key) {\n",
       "        const element = document.querySelector('#df-dc7294fe-7402-4fea-a77e-7056e0fa2e51');\n",
       "        const dataTable =\n",
       "          await google.colab.kernel.invokeFunction('convertToInteractive',\n",
       "                                                    [key], {});\n",
       "        if (!dataTable) return;\n",
       "\n",
       "        const docLinkHtml = 'Like what you see? Visit the ' +\n",
       "          '<a target=\"_blank\" href=https://colab.research.google.com/notebooks/data_table.ipynb>data table notebook</a>'\n",
       "          + ' to learn more about interactive tables.';\n",
       "        element.innerHTML = '';\n",
       "        dataTable['output_type'] = 'display_data';\n",
       "        await google.colab.output.renderOutput(dataTable, element);\n",
       "        const docLink = document.createElement('div');\n",
       "        docLink.innerHTML = docLinkHtml;\n",
       "        element.appendChild(docLink);\n",
       "      }\n",
       "    </script>\n",
       "  </div>\n",
       "\n",
       "\n",
       "<div id=\"df-733593c3-6d49-466b-b4eb-a55d24e3c279\">\n",
       "  <button class=\"colab-df-quickchart\" onclick=\"quickchart('df-733593c3-6d49-466b-b4eb-a55d24e3c279')\"\n",
       "            title=\"Suggest charts.\"\n",
       "            style=\"display:none;\">\n",
       "\n",
       "<svg xmlns=\"http://www.w3.org/2000/svg\" height=\"24px\"viewBox=\"0 0 24 24\"\n",
       "     width=\"24px\">\n",
       "    <g>\n",
       "        <path d=\"M19 3H5c-1.1 0-2 .9-2 2v14c0 1.1.9 2 2 2h14c1.1 0 2-.9 2-2V5c0-1.1-.9-2-2-2zM9 17H7v-7h2v7zm4 0h-2V7h2v10zm4 0h-2v-4h2v4z\"/>\n",
       "    </g>\n",
       "</svg>\n",
       "  </button>\n",
       "\n",
       "<style>\n",
       "  .colab-df-quickchart {\n",
       "      --bg-color: #E8F0FE;\n",
       "      --fill-color: #1967D2;\n",
       "      --hover-bg-color: #E2EBFA;\n",
       "      --hover-fill-color: #174EA6;\n",
       "      --disabled-fill-color: #AAA;\n",
       "      --disabled-bg-color: #DDD;\n",
       "  }\n",
       "\n",
       "  [theme=dark] .colab-df-quickchart {\n",
       "      --bg-color: #3B4455;\n",
       "      --fill-color: #D2E3FC;\n",
       "      --hover-bg-color: #434B5C;\n",
       "      --hover-fill-color: #FFFFFF;\n",
       "      --disabled-bg-color: #3B4455;\n",
       "      --disabled-fill-color: #666;\n",
       "  }\n",
       "\n",
       "  .colab-df-quickchart {\n",
       "    background-color: var(--bg-color);\n",
       "    border: none;\n",
       "    border-radius: 50%;\n",
       "    cursor: pointer;\n",
       "    display: none;\n",
       "    fill: var(--fill-color);\n",
       "    height: 32px;\n",
       "    padding: 0;\n",
       "    width: 32px;\n",
       "  }\n",
       "\n",
       "  .colab-df-quickchart:hover {\n",
       "    background-color: var(--hover-bg-color);\n",
       "    box-shadow: 0 1px 2px rgba(60, 64, 67, 0.3), 0 1px 3px 1px rgba(60, 64, 67, 0.15);\n",
       "    fill: var(--button-hover-fill-color);\n",
       "  }\n",
       "\n",
       "  .colab-df-quickchart-complete:disabled,\n",
       "  .colab-df-quickchart-complete:disabled:hover {\n",
       "    background-color: var(--disabled-bg-color);\n",
       "    fill: var(--disabled-fill-color);\n",
       "    box-shadow: none;\n",
       "  }\n",
       "\n",
       "  .colab-df-spinner {\n",
       "    border: 2px solid var(--fill-color);\n",
       "    border-color: transparent;\n",
       "    border-bottom-color: var(--fill-color);\n",
       "    animation:\n",
       "      spin 1s steps(1) infinite;\n",
       "  }\n",
       "\n",
       "  @keyframes spin {\n",
       "    0% {\n",
       "      border-color: transparent;\n",
       "      border-bottom-color: var(--fill-color);\n",
       "      border-left-color: var(--fill-color);\n",
       "    }\n",
       "    20% {\n",
       "      border-color: transparent;\n",
       "      border-left-color: var(--fill-color);\n",
       "      border-top-color: var(--fill-color);\n",
       "    }\n",
       "    30% {\n",
       "      border-color: transparent;\n",
       "      border-left-color: var(--fill-color);\n",
       "      border-top-color: var(--fill-color);\n",
       "      border-right-color: var(--fill-color);\n",
       "    }\n",
       "    40% {\n",
       "      border-color: transparent;\n",
       "      border-right-color: var(--fill-color);\n",
       "      border-top-color: var(--fill-color);\n",
       "    }\n",
       "    60% {\n",
       "      border-color: transparent;\n",
       "      border-right-color: var(--fill-color);\n",
       "    }\n",
       "    80% {\n",
       "      border-color: transparent;\n",
       "      border-right-color: var(--fill-color);\n",
       "      border-bottom-color: var(--fill-color);\n",
       "    }\n",
       "    90% {\n",
       "      border-color: transparent;\n",
       "      border-bottom-color: var(--fill-color);\n",
       "    }\n",
       "  }\n",
       "</style>\n",
       "\n",
       "  <script>\n",
       "    async function quickchart(key) {\n",
       "      const quickchartButtonEl =\n",
       "        document.querySelector('#' + key + ' button');\n",
       "      quickchartButtonEl.disabled = true;  // To prevent multiple clicks.\n",
       "      quickchartButtonEl.classList.add('colab-df-spinner');\n",
       "      try {\n",
       "        const charts = await google.colab.kernel.invokeFunction(\n",
       "            'suggestCharts', [key], {});\n",
       "      } catch (error) {\n",
       "        console.error('Error during call to suggestCharts:', error);\n",
       "      }\n",
       "      quickchartButtonEl.classList.remove('colab-df-spinner');\n",
       "      quickchartButtonEl.classList.add('colab-df-quickchart-complete');\n",
       "    }\n",
       "    (() => {\n",
       "      let quickchartButtonEl =\n",
       "        document.querySelector('#df-733593c3-6d49-466b-b4eb-a55d24e3c279 button');\n",
       "      quickchartButtonEl.style.display =\n",
       "        google.colab.kernel.accessAllowed ? 'block' : 'none';\n",
       "    })();\n",
       "  </script>\n",
       "</div>\n",
       "    </div>\n",
       "  </div>\n"
      ],
      "text/plain": [
       "                                        review_token       aspects\n",
       "0  [7, 36, 62, 27, 269, 26, 6, 97, 334, 7, 288, 2...  [1, 0, 1, 1]\n",
       "1  [293, 74, 1, 913, 107, 80, 4, 19, 186, 15, 198...  [1, 0, 1, 1]\n",
       "2  [2, 87, 17, 107, 137, 213, 89, 2, 82, 6, 53, 3...  [1, 0, 0, 1]\n",
       "3  [328, 32, 186, 329, 820, 1178, 2402, 326, 2403...  [1, 0, 0, 0]\n",
       "4  [2, 14, 12, 33, 519, 41, 4, 50, 25, 19, 68, 68...  [1, 0, 0, 1]"
      ]
     },
     "execution_count": 2,
     "metadata": {},
     "output_type": "execute_result"
    }
   ],
   "source": [
    "import pandas as pd\n",
    "\n",
    "df = pd.read_csv('/content/gdrive/MyDrive/skripsi_chandra/ABSA_aspect.csv')\n",
    "df.head()"
   ]
  },
  {
   "cell_type": "code",
   "execution_count": null,
   "metadata": {
    "colab": {
     "base_uri": "https://localhost:8080/"
    },
    "id": "rKgWCTqH1RGB",
    "outputId": "eec4cd02-de25-410a-ebcd-1b93f5cab4fd"
   },
   "outputs": [
    {
     "name": "stdout",
     "output_type": "stream",
     "text": [
      "<class 'str'>\n",
      "<class 'str'>\n"
     ]
    }
   ],
   "source": [
    "print(type(df['aspects'][0]))\n",
    "print(type(df['review_token'][0]))"
   ]
  },
  {
   "cell_type": "code",
   "execution_count": null,
   "metadata": {
    "id": "DiLw6n3b10EJ"
   },
   "outputs": [],
   "source": [
    "import ast\n",
    "\n",
    "df['aspects'] = df['aspects'].apply(lambda x:ast.literal_eval(x))\n",
    "df['review_token'] = df['review_token'].map(lambda x: list(map(int, x[1:-1].split(', '))))"
   ]
  },
  {
   "cell_type": "code",
   "execution_count": null,
   "metadata": {
    "colab": {
     "base_uri": "https://localhost:8080/"
    },
    "id": "5FxxiPotEyyu",
    "outputId": "d34fb42f-9391-4bf4-bde1-352a2c93e623"
   },
   "outputs": [
    {
     "name": "stdout",
     "output_type": "stream",
     "text": [
      "<class 'list'>\n",
      "<class 'list'>\n"
     ]
    }
   ],
   "source": [
    "print(type(df['aspects'][0]))\n",
    "print(type(df['review_token'][0]))"
   ]
  },
  {
   "cell_type": "code",
   "execution_count": null,
   "metadata": {
    "id": "5_-E0-F6JmOr"
   },
   "outputs": [],
   "source": [
    "import numpy as np\n",
    "\n",
    "reviews = df[['review_token']]\n",
    "labels = np.array(df['aspects'].tolist())"
   ]
  },
  {
   "cell_type": "markdown",
   "metadata": {
    "id": "6TdmSEMdGXqy"
   },
   "source": [
    "## **Splitting Data and Applying Padding**"
   ]
  },
  {
   "cell_type": "code",
   "execution_count": null,
   "metadata": {
    "colab": {
     "base_uri": "https://localhost:8080/"
    },
    "id": "e_Nyqm1c7mhu",
    "outputId": "3c67edec-9803-4e65-b6c5-94d07043f0b7"
   },
   "outputs": [
    {
     "name": "stdout",
     "output_type": "stream",
     "text": [
      "(7471, 1) (1601, 1) (1601, 1) (7471, 4) (1601, 4) (1601, 4)\n"
     ]
    }
   ],
   "source": [
    "from sklearn.model_selection import train_test_split\n",
    "\n",
    "x_train, x_temp, y_train, y_temp = train_test_split(reviews, labels, test_size=0.3, random_state=42)\n",
    "x_val, x_test, y_val, y_test = train_test_split(x_temp, y_temp, test_size=0.5, random_state=42)\n",
    "\n",
    "print(x_train.shape, x_val.shape, x_test.shape, y_train.shape, y_val.shape, y_test.shape)"
   ]
  },
  {
   "cell_type": "code",
   "execution_count": null,
   "metadata": {
    "id": "VLbuZdw7h_n5"
   },
   "outputs": [],
   "source": [
    "x_train_pad = x_train['review_token']\n",
    "x_val_pad = x_val['review_token']\n",
    "x_test_pad = x_test['review_token']"
   ]
  },
  {
   "cell_type": "code",
   "execution_count": null,
   "metadata": {
    "id": "QkM6T_FHrmga"
   },
   "outputs": [],
   "source": [
    "from keras.preprocessing import sequence\n",
    "from keras.utils import pad_sequences\n",
    "\n",
    "x_train = pad_sequences(x_train_pad, maxlen=100)\n",
    "x_val = pad_sequences(x_val_pad, maxlen=100)\n",
    "x_test = pad_sequences(x_test_pad, maxlen=100)"
   ]
  },
  {
   "cell_type": "markdown",
   "metadata": {
    "id": "M7re-QixGAIk"
   },
   "source": [
    "## **Modeling Initialization**"
   ]
  },
  {
   "cell_type": "code",
   "execution_count": null,
   "metadata": {
    "colab": {
     "base_uri": "https://localhost:8080/"
    },
    "id": "siZKHKdg5CjJ",
    "outputId": "10a4ff0b-5a05-4fa7-c140-50594538c67b"
   },
   "outputs": [
    {
     "name": "stdout",
     "output_type": "stream",
     "text": [
      "Collecting keras-tuner\n",
      "  Downloading keras_tuner-1.3.5-py3-none-any.whl (176 kB)\n",
      "\u001b[?25l     \u001b[90m━━━━━━━━━━━━━━━━━━━━━━━━━━━━━━━━━━━━━━━━\u001b[0m \u001b[32m0.0/176.1 kB\u001b[0m \u001b[31m?\u001b[0m eta \u001b[36m-:--:--\u001b[0m\r",
      "\u001b[2K     \u001b[91m━━━━━━━━━━━━━━━━━━━━━━━━━━━━━━━━━━━━━━\u001b[0m\u001b[91m╸\u001b[0m \u001b[32m174.1/176.1 kB\u001b[0m \u001b[31m6.4 MB/s\u001b[0m eta \u001b[36m0:00:01\u001b[0m\r",
      "\u001b[2K     \u001b[90m━━━━━━━━━━━━━━━━━━━━━━━━━━━━━━━━━━━━━━━\u001b[0m \u001b[32m176.1/176.1 kB\u001b[0m \u001b[31m5.0 MB/s\u001b[0m eta \u001b[36m0:00:00\u001b[0m\n",
      "\u001b[?25hRequirement already satisfied: packaging in /usr/local/lib/python3.10/dist-packages (from keras-tuner) (23.1)\n",
      "Requirement already satisfied: requests in /usr/local/lib/python3.10/dist-packages (from keras-tuner) (2.31.0)\n",
      "Collecting kt-legacy (from keras-tuner)\n",
      "  Downloading kt_legacy-1.0.5-py3-none-any.whl (9.6 kB)\n",
      "Requirement already satisfied: charset-normalizer<4,>=2 in /usr/local/lib/python3.10/dist-packages (from requests->keras-tuner) (3.2.0)\n",
      "Requirement already satisfied: idna<4,>=2.5 in /usr/local/lib/python3.10/dist-packages (from requests->keras-tuner) (3.4)\n",
      "Requirement already satisfied: urllib3<3,>=1.21.1 in /usr/local/lib/python3.10/dist-packages (from requests->keras-tuner) (2.0.4)\n",
      "Requirement already satisfied: certifi>=2017.4.17 in /usr/local/lib/python3.10/dist-packages (from requests->keras-tuner) (2023.7.22)\n",
      "Installing collected packages: kt-legacy, keras-tuner\n",
      "Successfully installed keras-tuner-1.3.5 kt-legacy-1.0.5\n"
     ]
    }
   ],
   "source": [
    "pip install keras-tuner"
   ]
  },
  {
   "cell_type": "code",
   "execution_count": null,
   "metadata": {
    "id": "bRqcTRY2eYSs"
   },
   "outputs": [],
   "source": [
    "import numpy as np\n",
    "\n",
    "embedding_matrix = np.load('/content/gdrive/MyDrive/skripsi_chandra/embedding_matrix.npy')"
   ]
  },
  {
   "cell_type": "code",
   "execution_count": null,
   "metadata": {
    "id": "sopVXijz6igS"
   },
   "outputs": [],
   "source": [
    "from tensorflow.keras.callbacks import EarlyStopping\n",
    "\n",
    "early_stopping = EarlyStopping(restore_best_weights=True, patience=3,\n",
    "                               min_delta=0.01, monitor='val_loss')"
   ]
  },
  {
   "cell_type": "markdown",
   "metadata": {
    "id": "NVOPkfGPITO9"
   },
   "source": [
    "**Hyperparameter tuning**\n",
    "1. Filter Size [2], [2,3,4]\n",
    "3. Dropout Rate [0.25, 0.5]\n",
    "4. Learning Rate [0.001, 0.0001]"
   ]
  },
  {
   "cell_type": "markdown",
   "metadata": {
    "id": "_uxLmezcdG9w"
   },
   "source": [
    "## **CNN**"
   ]
  },
  {
   "cell_type": "code",
   "execution_count": null,
   "metadata": {
    "id": "vQerBsBydLFj"
   },
   "outputs": [],
   "source": [
    "from tensorflow.keras.models import Sequential\n",
    "from tensorflow.keras.layers import Dense, Conv1D, Dropout, Activation, MaxPooling1D, Flatten, Embedding\n",
    "from tensorflow.keras import optimizers, regularizers\n",
    "\n",
    "def build_CNN(hp):\n",
    "  model = Sequential()\n",
    "  model.add(Embedding(input_dim=2500, output_dim=300,\n",
    "                      weights=[embedding_matrix], input_length=100))\n",
    "\n",
    "  filter_sizes = hp.Choice('filter size', values=['2', '2,3,4'])\n",
    "  filter_sizes_list = [int(x) for x in filter_sizes.split(',')]\n",
    "  dropout_rate = hp.Choice('dropout rate', values=[0.25, 0.5])\n",
    "  learn_rate = hp.Choice('learning rate', values=[0.001, 0.0001])\n",
    "\n",
    "  conv_layers = []\n",
    "  for filter_size in filter_sizes_list:\n",
    "    conv_layer = Conv1D(filters=200, kernel_size=filter_size,\n",
    "                        padding='valid', activation='relu', strides=1)\n",
    "    conv_layers.append(conv_layer)\n",
    "\n",
    "  for conv_layer in conv_layers:\n",
    "    model.add(conv_layer)\n",
    "\n",
    "  model.add(MaxPooling1D())\n",
    "  model.add(Dense(128, activation='relu', kernel_regularizer=regularizers.l2(0.01)))\n",
    "  model.add(Dropout(dropout_rate))\n",
    "  model.add(Flatten())\n",
    "  model.add(Dense(4, activation='sigmoid'))\n",
    "  model.compile(optimizer=optimizers.Adam(learning_rate=learn_rate), loss='binary_crossentropy', metrics=['accuracy'])\n",
    "  return model"
   ]
  },
  {
   "cell_type": "code",
   "execution_count": null,
   "metadata": {
    "colab": {
     "base_uri": "https://localhost:8080/"
    },
    "id": "tQKZPXIU3wSB",
    "outputId": "98c25401-22f4-40c9-da09-91bb0dce53b1"
   },
   "outputs": [
    {
     "name": "stdout",
     "output_type": "stream",
     "text": [
      "Trial 8 Complete [00h 00m 39s]\n",
      "val_accuracy: 0.7595252990722656\n",
      "\n",
      "Best val_accuracy So Far: 0.7657713890075684\n",
      "Total elapsed time: 00h 04m 29s\n",
      "Results summary\n",
      "Results in aspect_CNN/aspect\n",
      "Showing 10 best trials\n",
      "Objective(name=\"val_accuracy\", direction=\"max\")\n",
      "\n",
      "Trial 0005 summary\n",
      "Hyperparameters:\n",
      "filter size: 2,3,4\n",
      "dropout rate: 0.25\n",
      "learning rate: 0.0001\n",
      "Score: 0.7657713890075684\n",
      "\n",
      "Trial 0007 summary\n",
      "Hyperparameters:\n",
      "filter size: 2,3,4\n",
      "dropout rate: 0.5\n",
      "learning rate: 0.0001\n",
      "Score: 0.7595252990722656\n",
      "\n",
      "Trial 0000 summary\n",
      "Hyperparameters:\n",
      "filter size: 2\n",
      "dropout rate: 0.25\n",
      "learning rate: 0.001\n",
      "Score: 0.7589007019996643\n",
      "\n",
      "Trial 0006 summary\n",
      "Hyperparameters:\n",
      "filter size: 2,3,4\n",
      "dropout rate: 0.5\n",
      "learning rate: 0.001\n",
      "Score: 0.7557776570320129\n",
      "\n",
      "Trial 0003 summary\n",
      "Hyperparameters:\n",
      "filter size: 2\n",
      "dropout rate: 0.5\n",
      "learning rate: 0.0001\n",
      "Score: 0.7464085221290588\n",
      "\n",
      "Trial 0001 summary\n",
      "Hyperparameters:\n",
      "filter size: 2\n",
      "dropout rate: 0.25\n",
      "learning rate: 0.0001\n",
      "Score: 0.7345409393310547\n",
      "\n",
      "Trial 0002 summary\n",
      "Hyperparameters:\n",
      "filter size: 2\n",
      "dropout rate: 0.5\n",
      "learning rate: 0.001\n",
      "Score: 0.7345409393310547\n",
      "\n",
      "Trial 0004 summary\n",
      "Hyperparameters:\n",
      "filter size: 2,3,4\n",
      "dropout rate: 0.25\n",
      "learning rate: 0.001\n",
      "Score: 0.7289194464683533\n"
     ]
    }
   ],
   "source": [
    "from keras_tuner import GridSearch\n",
    "from kerastuner.engine.hyperparameters import HyperParameters\n",
    "\n",
    "tuner = GridSearch(\n",
    "    build_CNN,\n",
    "    objective='val_accuracy',\n",
    "    directory='aspect_CNN',\n",
    "    project_name='aspect'\n",
    ")\n",
    "\n",
    "tuner.search(x_train, y_train, epochs=50, batch_size=64, verbose=1, validation_data=(x_val,y_val), callbacks=[early_stopping])\n",
    "tuner.results_summary()"
   ]
  },
  {
   "cell_type": "code",
   "execution_count": null,
   "metadata": {
    "colab": {
     "base_uri": "https://localhost:8080/"
    },
    "id": "CGkeZnTd8-qG",
    "outputId": "d8996f0b-fb0d-4211-df86-79c246685b4e"
   },
   "outputs": [
    {
     "data": {
      "text/plain": [
       "{'filter size': '2,3,4', 'dropout rate': 0.25, 'learning rate': 0.0001}"
      ]
     },
     "execution_count": 16,
     "metadata": {},
     "output_type": "execute_result"
    }
   ],
   "source": [
    "best_hp = tuner.get_best_hyperparameters(num_trials=1)[0]\n",
    "best_hp.values"
   ]
  },
  {
   "cell_type": "code",
   "execution_count": null,
   "metadata": {
    "colab": {
     "base_uri": "https://localhost:8080/"
    },
    "id": "veMkd7JZ1dMn",
    "outputId": "7f0d3394-3d19-4bc5-f282-ec27ea0c9bbb"
   },
   "outputs": [
    {
     "name": "stdout",
     "output_type": "stream",
     "text": [
      "Epoch 1/50\n",
      "117/117 [==============================] - 12s 89ms/step - loss: 2.0103 - accuracy: 0.1616 - val_loss: 1.8210 - val_accuracy: 0.1474\n",
      "Epoch 2/50\n",
      "117/117 [==============================] - 4s 33ms/step - loss: 1.6514 - accuracy: 0.1761 - val_loss: 1.4467 - val_accuracy: 0.2861\n",
      "Epoch 3/50\n",
      "117/117 [==============================] - 3s 23ms/step - loss: 1.2932 - accuracy: 0.4081 - val_loss: 1.1660 - val_accuracy: 0.4797\n",
      "Epoch 4/50\n",
      "117/117 [==============================] - 2s 20ms/step - loss: 1.0486 - accuracy: 0.5493 - val_loss: 0.9657 - val_accuracy: 0.5978\n",
      "Epoch 5/50\n",
      "117/117 [==============================] - 1s 11ms/step - loss: 0.8627 - accuracy: 0.6193 - val_loss: 0.8097 - val_accuracy: 0.6277\n",
      "Epoch 6/50\n",
      "117/117 [==============================] - 2s 13ms/step - loss: 0.7134 - accuracy: 0.6697 - val_loss: 0.6853 - val_accuracy: 0.6814\n",
      "Epoch 7/50\n",
      "117/117 [==============================] - 1s 12ms/step - loss: 0.6019 - accuracy: 0.7034 - val_loss: 0.6048 - val_accuracy: 0.7227\n",
      "Epoch 8/50\n",
      "117/117 [==============================] - 1s 10ms/step - loss: 0.5224 - accuracy: 0.7176 - val_loss: 0.5433 - val_accuracy: 0.7258\n",
      "Epoch 9/50\n",
      "117/117 [==============================] - 1s 8ms/step - loss: 0.4601 - accuracy: 0.7302 - val_loss: 0.4950 - val_accuracy: 0.7220\n",
      "Epoch 10/50\n",
      "117/117 [==============================] - 1s 10ms/step - loss: 0.4089 - accuracy: 0.7391 - val_loss: 0.4597 - val_accuracy: 0.7146\n",
      "Epoch 11/50\n",
      "117/117 [==============================] - 1s 11ms/step - loss: 0.3701 - accuracy: 0.7426 - val_loss: 0.4417 - val_accuracy: 0.7139\n",
      "Epoch 12/50\n",
      "117/117 [==============================] - 1s 12ms/step - loss: 0.3393 - accuracy: 0.7486 - val_loss: 0.4144 - val_accuracy: 0.7114\n",
      "Epoch 13/50\n",
      "117/117 [==============================] - 1s 8ms/step - loss: 0.3115 - accuracy: 0.7481 - val_loss: 0.4004 - val_accuracy: 0.7345\n",
      "Epoch 14/50\n",
      "117/117 [==============================] - 1s 7ms/step - loss: 0.2919 - accuracy: 0.7555 - val_loss: 0.3857 - val_accuracy: 0.7383\n",
      "Epoch 15/50\n",
      "117/117 [==============================] - 1s 9ms/step - loss: 0.2701 - accuracy: 0.7553 - val_loss: 0.3810 - val_accuracy: 0.7164\n",
      "Epoch 16/50\n",
      "117/117 [==============================] - 1s 8ms/step - loss: 0.2564 - accuracy: 0.7572 - val_loss: 0.3825 - val_accuracy: 0.7445\n",
      "Epoch 17/50\n",
      "117/117 [==============================] - 1s 10ms/step - loss: 0.2458 - accuracy: 0.7549 - val_loss: 0.3651 - val_accuracy: 0.7339\n",
      "Epoch 18/50\n",
      "117/117 [==============================] - 1s 11ms/step - loss: 0.2338 - accuracy: 0.7658 - val_loss: 0.3642 - val_accuracy: 0.7208\n",
      "Epoch 19/50\n",
      "117/117 [==============================] - 1s 7ms/step - loss: 0.2247 - accuracy: 0.7591 - val_loss: 0.3767 - val_accuracy: 0.7389\n",
      "Epoch 20/50\n",
      "117/117 [==============================] - 1s 7ms/step - loss: 0.2168 - accuracy: 0.7593 - val_loss: 0.3627 - val_accuracy: 0.7214\n",
      "Model: \"sequential_4\"\n",
      "_________________________________________________________________\n",
      " Layer (type)                Output Shape              Param #   \n",
      "=================================================================\n",
      " embedding_4 (Embedding)     (None, 100, 300)          750000    \n",
      "                                                                 \n",
      " conv1d_12 (Conv1D)          (None, 99, 200)           120200    \n",
      "                                                                 \n",
      " conv1d_13 (Conv1D)          (None, 97, 200)           120200    \n",
      "                                                                 \n",
      " conv1d_14 (Conv1D)          (None, 94, 200)           160200    \n",
      "                                                                 \n",
      " max_pooling1d_4 (MaxPoolin  (None, 47, 200)           0         \n",
      " g1D)                                                            \n",
      "                                                                 \n",
      " dense_8 (Dense)             (None, 47, 128)           25728     \n",
      "                                                                 \n",
      " dropout_4 (Dropout)         (None, 47, 128)           0         \n",
      "                                                                 \n",
      " flatten_4 (Flatten)         (None, 6016)              0         \n",
      "                                                                 \n",
      " dense_9 (Dense)             (None, 4)                 24068     \n",
      "                                                                 \n",
      "=================================================================\n",
      "Total params: 1200396 (4.58 MB)\n",
      "Trainable params: 1200396 (4.58 MB)\n",
      "Non-trainable params: 0 (0.00 Byte)\n",
      "_________________________________________________________________\n"
     ]
    }
   ],
   "source": [
    "model = build_CNN(best_hp)\n",
    "history = model.fit(x_train, y_train,\n",
    "                    epochs=50, batch_size=64,\n",
    "                    validation_data=(x_val, y_val), callbacks=[early_stopping])\n",
    "model.summary()"
   ]
  },
  {
   "cell_type": "code",
   "execution_count": null,
   "metadata": {
    "colab": {
     "base_uri": "https://localhost:8080/",
     "height": 321
    },
    "id": "dRCxmCPuEQjo",
    "outputId": "ad1c8abe-1806-4386-adae-a6d8601e495b"
   },
   "outputs": [
    {
     "data": {
      "image/png": "[encoded data removed]",
      "text/plain": [
       "<Figure size 1000x300 with 2 Axes>"
      ]
     },
     "metadata": {},
     "output_type": "display_data"
    }
   ],
   "source": [
    "import matplotlib.pyplot as plt\n",
    "\n",
    "fig, (ax1, ax2) = plt.subplots(1, 2, figsize=(10, 3))\n",
    "ax1.plot(history.history['accuracy'], label='Train')\n",
    "ax1.plot(history.history['val_accuracy'], label='Val')\n",
    "ax1.set_title('Model Accuracy')\n",
    "ax1.set_xlabel('Epoch')\n",
    "ax1.set_ylabel('Accuracy')\n",
    "ax1.legend(loc='upper left')\n",
    "\n",
    "ax2.plot(history.history['loss'], label='Train')\n",
    "ax2.plot(history.history['val_loss'], label='Val')\n",
    "ax2.set_title('Model Loss')\n",
    "ax2.set_xlabel('Epoch')\n",
    "ax2.set_ylabel('Loss')\n",
    "ax2.legend(loc='upper left')\n",
    "\n",
    "plt.show()"
   ]
  },
  {
   "cell_type": "code",
   "execution_count": null,
   "metadata": {
    "colab": {
     "base_uri": "https://localhost:8080/"
    },
    "id": "juQhPQtGzSCZ",
    "outputId": "e9f06d0a-358d-4536-8e95-6fa8a9d435ce"
   },
   "outputs": [
    {
     "name": "stderr",
     "output_type": "stream",
     "text": [
      "/usr/local/lib/python3.10/dist-packages/keras/src/engine/training.py:3000: UserWarning: You are saving your model as an HDF5 file via `model.save()`. This file format is considered legacy. We recommend using instead the native Keras format, e.g. `model.save('my_model.keras')`.\n",
      "  saving_api.save_model(\n"
     ]
    }
   ],
   "source": [
    "model.save('aspect_CNN.h5')"
   ]
  },
  {
   "cell_type": "code",
   "execution_count": null,
   "metadata": {
    "colab": {
     "base_uri": "https://localhost:8080/"
    },
    "id": "UKpiBmfiza6v",
    "outputId": "7ebaf1f7-4db3-4b7a-d9c8-37bef41d7190"
   },
   "outputs": [
    {
     "name": "stdout",
     "output_type": "stream",
     "text": [
      "51/51 [==============================] - 0s 2ms/step\n"
     ]
    }
   ],
   "source": [
    "predictions = model.predict(x_test)"
   ]
  },
  {
   "cell_type": "code",
   "execution_count": null,
   "metadata": {
    "id": "Zs8kfXcX3M6b"
   },
   "outputs": [],
   "source": [
    "y_pred = predictions >= 0.5"
   ]
  },
  {
   "cell_type": "code",
   "execution_count": null,
   "metadata": {
    "colab": {
     "base_uri": "https://localhost:8080/"
    },
    "id": "RR4iGwZH0mjA",
    "outputId": "b86f92c6-d3b9-48fe-ead7-20db73f93639"
   },
   "outputs": [
    {
     "name": "stdout",
     "output_type": "stream",
     "text": [
      "Macro-Average Precision: 0.8614421028002788\n",
      "Macro-Average Recall: 0.8341916036086559\n",
      "Macro-Average F1 Score: 0.8467177822636485\n"
     ]
    }
   ],
   "source": [
    "from sklearn.metrics import precision_score, recall_score, f1_score\n",
    "\n",
    "macro_precision = precision_score(y_test, y_pred, average='macro')\n",
    "macro_recall = recall_score(y_test, y_pred, average='macro')\n",
    "macro_f1 = f1_score(y_test, y_pred, average='macro')\n",
    "\n",
    "print(f\"Macro-Average Precision: {macro_precision}\")\n",
    "print(f\"Macro-Average Recall: {macro_recall}\")\n",
    "print(f\"Macro-Average F1 Score: {macro_f1}\")"
   ]
  },
  {
   "cell_type": "code",
   "execution_count": null,
   "metadata": {
    "colab": {
     "base_uri": "https://localhost:8080/"
    },
    "id": "Q4tdr70Yzfi-",
    "outputId": "4cdbd40d-4385-4475-978a-3edb201bb19e"
   },
   "outputs": [
    {
     "name": "stdout",
     "output_type": "stream",
     "text": [
      "              precision    recall  f1-score   support\n",
      "\n",
      " Performance       0.89      0.78      0.84       584\n",
      "     Payment       0.88      0.85      0.86       465\n",
      "     Content       0.81      0.85      0.83       424\n",
      "Satisfaction       0.86      0.85      0.86       976\n",
      "\n",
      "   micro avg       0.86      0.84      0.85      2449\n",
      "   macro avg       0.86      0.83      0.85      2449\n",
      "weighted avg       0.86      0.84      0.85      2449\n",
      " samples avg       0.87      0.85      0.84      2449\n",
      "\n"
     ]
    },
    {
     "name": "stderr",
     "output_type": "stream",
     "text": [
      "/usr/local/lib/python3.10/dist-packages/sklearn/metrics/_classification.py:1344: UndefinedMetricWarning: Precision and F-score are ill-defined and being set to 0.0 in samples with no predicted labels. Use `zero_division` parameter to control this behavior.\n",
      "  _warn_prf(average, modifier, msg_start, len(result))\n",
      "/usr/local/lib/python3.10/dist-packages/sklearn/metrics/_classification.py:1344: UndefinedMetricWarning: Recall and F-score are ill-defined and being set to 0.0 in samples with no true labels. Use `zero_division` parameter to control this behavior.\n",
      "  _warn_prf(average, modifier, msg_start, len(result))\n"
     ]
    }
   ],
   "source": [
    "from sklearn.metrics import classification_report\n",
    "\n",
    "labels = ['Performance', 'Payment', 'Content', 'Satisfaction']\n",
    "report = classification_report(y_test, y_pred, target_names=labels)\n",
    "print(report)"
   ]
  },
  {
   "cell_type": "code",
   "execution_count": null,
   "metadata": {
    "colab": {
     "base_uri": "https://localhost:8080/",
     "height": 607
    },
    "id": "r0lKzWsqzhuW",
    "outputId": "e725bd19-eb90-47fb-ee4a-e4bacdb168f3"
   },
   "outputs": [
    {
     "data": {
      "image/png": "[encoded data removed]",
      "text/plain": [
       "<Figure size 800x600 with 4 Axes>"
      ]
     },
     "metadata": {},
     "output_type": "display_data"
    }
   ],
   "source": [
    "import seaborn as sns\n",
    "import matplotlib.pyplot as plt\n",
    "from sklearn.metrics import multilabel_confusion_matrix\n",
    "\n",
    "mcm = multilabel_confusion_matrix(y_test, y_pred)\n",
    "\n",
    "plt.figure(figsize=(8, 6))\n",
    "for i, label in enumerate(labels):\n",
    "    plt.subplot(2, 2, i + 1)\n",
    "    sns.heatmap(mcm[i], annot=True, cmap='flare', fmt='d', cbar=False,\n",
    "                xticklabels=['Negative', 'Positive'], yticklabels=['Negative', 'Positive'])\n",
    "    plt.title(f'{label}')\n",
    "    plt.xlabel(\"Predicted label\")\n",
    "    plt.ylabel(\"Actual label\")\n",
    "\n",
    "plt.tight_layout()\n",
    "plt.show()"
   ]
  },
  {
   "cell_type": "markdown",
   "metadata": {
    "id": "vXLkiM8MEpji"
   },
   "source": [
    "# **CNN-LSTM**"
   ]
  },
  {
   "cell_type": "code",
   "execution_count": null,
   "metadata": {
    "id": "vFcRCr9BEsa7"
   },
   "outputs": [],
   "source": [
    "from tensorflow.keras.models import Sequential\n",
    "from tensorflow.keras.layers import LSTM, Dense, Conv1D, Dropout, Activation, MaxPooling1D, Embedding\n",
    "from tensorflow.keras import optimizers, regularizers\n",
    "\n",
    "def build_CNNLSTM(hp):\n",
    "  model = Sequential()\n",
    "  model.add(Embedding(input_dim=2500, output_dim=300,\n",
    "                      weights=[embedding_matrix], input_length=100))\n",
    "\n",
    "  filter_sizes = hp.Choice('filter size', values=['2', '2,3,4'])\n",
    "  filter_sizes_list = [int(x) for x in filter_sizes.split(',')]\n",
    "  dropout_rate = hp.Choice('dropout rate', values=[0.25, 0.5])\n",
    "  learn_rate = hp.Choice('learning rate', values=[0.001, 0.0001])\n",
    "\n",
    "  conv_layers = []\n",
    "  for filter_size in filter_sizes_list:\n",
    "    conv_layer = Conv1D(filters=200, kernel_size=filter_size,\n",
    "                        padding='valid', activation='relu', strides=1)\n",
    "    conv_layers.append(conv_layer)\n",
    "\n",
    "  for conv_layer in conv_layers:\n",
    "    model.add(conv_layer)\n",
    "\n",
    "  model.add(MaxPooling1D())\n",
    "  model.add(Dense(128, activation='relu', kernel_regularizer=regularizers.l2(0.01)))\n",
    "  model.add(Dropout(dropout_rate))\n",
    "  model.add(LSTM(64))\n",
    "  model.add(Dense(4, activation='sigmoid'))\n",
    "  model.compile(optimizer=optimizers.Adam(learning_rate=learn_rate), loss='binary_crossentropy', metrics=['accuracy'])\n",
    "  return model"
   ]
  },
  {
   "cell_type": "code",
   "execution_count": null,
   "metadata": {
    "colab": {
     "base_uri": "https://localhost:8080/"
    },
    "id": "5kduer4BEy6v",
    "outputId": "5fa750bf-7b73-42a6-ff41-57616a9dc122"
   },
   "outputs": [
    {
     "name": "stdout",
     "output_type": "stream",
     "text": [
      "Trial 8 Complete [00h 00m 53s]\n",
      "val_accuracy: 0.7738913297653198\n",
      "\n",
      "Best val_accuracy So Far: 0.7895065546035767\n",
      "Total elapsed time: 00h 05m 17s\n",
      "Results summary\n",
      "Results in aspect_CNNLSTM/aspect\n",
      "Showing 10 best trials\n",
      "Objective(name=\"val_accuracy\", direction=\"max\")\n",
      "\n",
      "Trial 0004 summary\n",
      "Hyperparameters:\n",
      "filter size: 2,3,4\n",
      "dropout rate: 0.25\n",
      "learning rate: 0.001\n",
      "Score: 0.7895065546035767\n",
      "\n",
      "Trial 0002 summary\n",
      "Hyperparameters:\n",
      "filter size: 2\n",
      "dropout rate: 0.5\n",
      "learning rate: 0.001\n",
      "Score: 0.7838850617408752\n",
      "\n",
      "Trial 0005 summary\n",
      "Hyperparameters:\n",
      "filter size: 2,3,4\n",
      "dropout rate: 0.25\n",
      "learning rate: 0.0001\n",
      "Score: 0.7757651209831238\n",
      "\n",
      "Trial 0007 summary\n",
      "Hyperparameters:\n",
      "filter size: 2,3,4\n",
      "dropout rate: 0.5\n",
      "learning rate: 0.0001\n",
      "Score: 0.7738913297653198\n",
      "\n",
      "Trial 0003 summary\n",
      "Hyperparameters:\n",
      "filter size: 2\n",
      "dropout rate: 0.5\n",
      "learning rate: 0.0001\n",
      "Score: 0.7682698369026184\n",
      "\n",
      "Trial 0000 summary\n",
      "Hyperparameters:\n",
      "filter size: 2\n",
      "dropout rate: 0.25\n",
      "learning rate: 0.001\n",
      "Score: 0.767020583152771\n",
      "\n",
      "Trial 0006 summary\n",
      "Hyperparameters:\n",
      "filter size: 2,3,4\n",
      "dropout rate: 0.5\n",
      "learning rate: 0.001\n",
      "Score: 0.767020583152771\n",
      "\n",
      "Trial 0001 summary\n",
      "Hyperparameters:\n",
      "filter size: 2\n",
      "dropout rate: 0.25\n",
      "learning rate: 0.0001\n",
      "Score: 0.7595252990722656\n"
     ]
    }
   ],
   "source": [
    "from keras_tuner import GridSearch\n",
    "from kerastuner.engine.hyperparameters import HyperParameters\n",
    "\n",
    "tuner = GridSearch(\n",
    "    build_CNNLSTM,\n",
    "    objective='val_accuracy',\n",
    "    directory='aspect_CNNLSTM',\n",
    "    project_name='aspect'\n",
    ")\n",
    "\n",
    "tuner.search(x_train, y_train, epochs=50, batch_size=64, verbose=1, validation_data=(x_val,y_val), callbacks=[early_stopping])\n",
    "tuner.results_summary()"
   ]
  },
  {
   "cell_type": "code",
   "execution_count": null,
   "metadata": {
    "colab": {
     "base_uri": "https://localhost:8080/"
    },
    "id": "WAo0Y9VAEy9R",
    "outputId": "2e2d6384-8452-48c1-b30d-7acc442db9ee"
   },
   "outputs": [
    {
     "data": {
      "text/plain": [
       "{'filter size': '2,3,4', 'dropout rate': 0.25, 'learning rate': 0.001}"
      ]
     },
     "execution_count": 15,
     "metadata": {},
     "output_type": "execute_result"
    }
   ],
   "source": [
    "best_hp = tuner.get_best_hyperparameters(num_trials=1)[0]\n",
    "best_hp.values"
   ]
  },
  {
   "cell_type": "code",
   "execution_count": null,
   "metadata": {
    "colab": {
     "base_uri": "https://localhost:8080/"
    },
    "id": "vy-lj-OMEy_h",
    "outputId": "e80df4ac-143a-4eb2-9369-71e300bb398e"
   },
   "outputs": [
    {
     "name": "stdout",
     "output_type": "stream",
     "text": [
      "Epoch 1/50\n",
      "117/117 [==============================] - 13s 82ms/step - loss: 1.0262 - accuracy: 0.4088 - val_loss: 0.4206 - val_accuracy: 0.6996\n",
      "Epoch 2/50\n",
      "117/117 [==============================] - 4s 35ms/step - loss: 0.3274 - accuracy: 0.7387 - val_loss: 0.2912 - val_accuracy: 0.7683\n",
      "Epoch 3/50\n",
      "117/117 [==============================] - 3s 23ms/step - loss: 0.2343 - accuracy: 0.7599 - val_loss: 0.2620 - val_accuracy: 0.7533\n",
      "Epoch 4/50\n",
      "117/117 [==============================] - 3s 23ms/step - loss: 0.1988 - accuracy: 0.7576 - val_loss: 0.2734 - val_accuracy: 0.7908\n",
      "Epoch 5/50\n",
      "117/117 [==============================] - 2s 18ms/step - loss: 0.1766 - accuracy: 0.7670 - val_loss: 0.2656 - val_accuracy: 0.7152\n",
      "Epoch 6/50\n",
      "117/117 [==============================] - 2s 17ms/step - loss: 0.1593 - accuracy: 0.7794 - val_loss: 0.2729 - val_accuracy: 0.7527\n",
      "Model: \"sequential_2\"\n",
      "_________________________________________________________________\n",
      " Layer (type)                Output Shape              Param #   \n",
      "=================================================================\n",
      " embedding_2 (Embedding)     (None, 100, 300)          750000    \n",
      "                                                                 \n",
      " conv1d_6 (Conv1D)           (None, 99, 200)           120200    \n",
      "                                                                 \n",
      " conv1d_7 (Conv1D)           (None, 97, 200)           120200    \n",
      "                                                                 \n",
      " conv1d_8 (Conv1D)           (None, 94, 200)           160200    \n",
      "                                                                 \n",
      " max_pooling1d_2 (MaxPoolin  (None, 47, 200)           0         \n",
      " g1D)                                                            \n",
      "                                                                 \n",
      " dense_4 (Dense)             (None, 47, 128)           25728     \n",
      "                                                                 \n",
      " dropout_2 (Dropout)         (None, 47, 128)           0         \n",
      "                                                                 \n",
      " lstm_2 (LSTM)               (None, 64)                49408     \n",
      "                                                                 \n",
      " dense_5 (Dense)             (None, 4)                 260       \n",
      "                                                                 \n",
      "=================================================================\n",
      "Total params: 1225996 (4.68 MB)\n",
      "Trainable params: 1225996 (4.68 MB)\n",
      "Non-trainable params: 0 (0.00 Byte)\n",
      "_________________________________________________________________\n"
     ]
    }
   ],
   "source": [
    "model = build_CNNLSTM(best_hp)\n",
    "history = model.fit(x_train, y_train,\n",
    "                    epochs=50, batch_size=64,\n",
    "                    validation_data=(x_val, y_val), callbacks=[early_stopping])\n",
    "model.summary()"
   ]
  },
  {
   "cell_type": "code",
   "execution_count": null,
   "metadata": {
    "colab": {
     "base_uri": "https://localhost:8080/",
     "height": 333
    },
    "id": "58b8VosoHZqW",
    "outputId": "41232547-b1ac-47f5-d7a3-9088dd88ef4d"
   },
   "outputs": [
    {
     "data": {
      "image/png": "[encoded data removed]",
      "text/plain": [
       "<Figure size 1000x300 with 2 Axes>"
      ]
     },
     "metadata": {},
     "output_type": "display_data"
    }
   ],
   "source": [
    "import matplotlib.pyplot as plt\n",
    "\n",
    "fig, (ax1, ax2) = plt.subplots(1, 2, figsize=(10, 3))\n",
    "ax1.plot(history.history['accuracy'], label='Train')\n",
    "ax1.plot(history.history['val_accuracy'], label='Val')\n",
    "ax1.set_title('Model Accuracy')\n",
    "ax1.set_xlabel('Epoch')\n",
    "ax1.set_ylabel('Accuracy')\n",
    "ax1.legend(loc='upper left')\n",
    "\n",
    "ax2.plot(history.history['loss'], label='Train')\n",
    "ax2.plot(history.history['val_loss'], label='Val')\n",
    "ax2.set_title('Model Loss')\n",
    "ax2.set_xlabel('Epoch')\n",
    "ax2.set_ylabel('Loss')\n",
    "ax2.legend(loc='upper left')\n",
    "\n",
    "plt.show()"
   ]
  },
  {
   "cell_type": "code",
   "execution_count": null,
   "metadata": {
    "colab": {
     "base_uri": "https://localhost:8080/"
    },
    "id": "hfMalbeREzCF",
    "outputId": "cd06d326-d88b-48c5-fad0-36df5eff7352"
   },
   "outputs": [
    {
     "name": "stderr",
     "output_type": "stream",
     "text": [
      "/usr/local/lib/python3.10/dist-packages/keras/src/engine/training.py:3000: UserWarning: You are saving your model as an HDF5 file via `model.save()`. This file format is considered legacy. We recommend using instead the native Keras format, e.g. `model.save('my_model.keras')`.\n",
      "  saving_api.save_model(\n"
     ]
    }
   ],
   "source": [
    "model.save('aspect_CNNLSTM.h5')"
   ]
  },
  {
   "cell_type": "code",
   "execution_count": null,
   "metadata": {
    "colab": {
     "base_uri": "https://localhost:8080/"
    },
    "id": "7Ptrx1aPEzEg",
    "outputId": "49f2e8ba-bb0e-4fb2-9312-a7f995bed14f"
   },
   "outputs": [
    {
     "name": "stdout",
     "output_type": "stream",
     "text": [
      "51/51 [==============================] - 1s 3ms/step\n"
     ]
    }
   ],
   "source": [
    "predictions = model.predict(x_test)"
   ]
  },
  {
   "cell_type": "code",
   "execution_count": null,
   "metadata": {
    "id": "hSOCcbpq7BcM"
   },
   "outputs": [],
   "source": [
    "y_pred = predictions > 0.5"
   ]
  },
  {
   "cell_type": "code",
   "execution_count": null,
   "metadata": {
    "colab": {
     "base_uri": "https://localhost:8080/"
    },
    "id": "Aej6dx9A67Zt",
    "outputId": "8c207ff6-cbe8-45bf-a3e7-9b9f281b4118"
   },
   "outputs": [
    {
     "name": "stdout",
     "output_type": "stream",
     "text": [
      "Macro-Average Precision: 0.8722881070276971\n",
      "Macro-Average Recall: 0.8558052324139087\n",
      "Macro-Average F1 Score: 0.8625602361315912\n"
     ]
    }
   ],
   "source": [
    "from sklearn.metrics import precision_score, recall_score, f1_score\n",
    "\n",
    "macro_precision = precision_score(y_test, y_pred, average='macro')\n",
    "macro_recall = recall_score(y_test, y_pred, average='macro')\n",
    "macro_f1 = f1_score(y_test, y_pred, average='macro')\n",
    "\n",
    "print(f\"Macro-Average Precision: {macro_precision}\")\n",
    "print(f\"Macro-Average Recall: {macro_recall}\")\n",
    "print(f\"Macro-Average F1 Score: {macro_f1}\")"
   ]
  },
  {
   "cell_type": "code",
   "execution_count": null,
   "metadata": {
    "colab": {
     "base_uri": "https://localhost:8080/"
    },
    "id": "gtvGrqSkEzGv",
    "outputId": "10836d9b-59c8-4dd1-a350-9fb232f57bd8"
   },
   "outputs": [
    {
     "name": "stdout",
     "output_type": "stream",
     "text": [
      "              precision    recall  f1-score   support\n",
      "\n",
      " Performance       0.91      0.80      0.85       584\n",
      "     Payment       0.90      0.86      0.88       465\n",
      "     Content       0.80      0.89      0.85       424\n",
      "Satisfaction       0.88      0.87      0.87       976\n",
      "\n",
      "   micro avg       0.87      0.86      0.86      2449\n",
      "   macro avg       0.87      0.86      0.86      2449\n",
      "weighted avg       0.88      0.86      0.86      2449\n",
      " samples avg       0.88      0.87      0.86      2449\n",
      "\n"
     ]
    },
    {
     "name": "stderr",
     "output_type": "stream",
     "text": [
      "/usr/local/lib/python3.10/dist-packages/sklearn/metrics/_classification.py:1344: UndefinedMetricWarning: Precision and F-score are ill-defined and being set to 0.0 in samples with no predicted labels. Use `zero_division` parameter to control this behavior.\n",
      "  _warn_prf(average, modifier, msg_start, len(result))\n",
      "/usr/local/lib/python3.10/dist-packages/sklearn/metrics/_classification.py:1344: UndefinedMetricWarning: Recall and F-score are ill-defined and being set to 0.0 in samples with no true labels. Use `zero_division` parameter to control this behavior.\n",
      "  _warn_prf(average, modifier, msg_start, len(result))\n"
     ]
    }
   ],
   "source": [
    "from sklearn.metrics import classification_report\n",
    "\n",
    "labels = ['Performance', 'Payment', 'Content', 'Satisfaction']\n",
    "report = classification_report(y_test, y_pred, target_names=labels)\n",
    "print(report)"
   ]
  },
  {
   "cell_type": "code",
   "execution_count": null,
   "metadata": {
    "colab": {
     "base_uri": "https://localhost:8080/",
     "height": 607
    },
    "id": "gRCSHhP_EzJd",
    "outputId": "25cafc5f-c9b4-4306-978f-eb80bdba61fd"
   },
   "outputs": [
    {
     "data": {
      "image/png": "[encoded data removed]",
      "text/plain": [
       "<Figure size 800x600 with 4 Axes>"
      ]
     },
     "metadata": {},
     "output_type": "display_data"
    }
   ],
   "source": [
    "import seaborn as sns\n",
    "import matplotlib.pyplot as plt\n",
    "from sklearn.metrics import multilabel_confusion_matrix\n",
    "\n",
    "mcm = multilabel_confusion_matrix(y_test, y_pred)\n",
    "\n",
    "plt.figure(figsize=(8, 6))\n",
    "for i, label in enumerate(labels):\n",
    "    plt.subplot(2, 2, i + 1)\n",
    "    sns.heatmap(mcm[i], annot=True, cmap='flare', fmt='d', cbar=False,\n",
    "                xticklabels=['Negative', 'Positive'], yticklabels=['Negative', 'Positive'])\n",
    "    plt.title(f'{label}')\n",
    "    plt.xlabel(\"Predicted label\")\n",
    "    plt.ylabel(\"Actual label\")\n",
    "\n",
    "plt.tight_layout()\n",
    "plt.show()"
   ]
  }
 ],
 "metadata": {
  "accelerator": "GPU",
  "colab": {
   "gpuClass": "premium",
   "gpuType": "V100",
   "machine_shape": "hm",
   "provenance": []
  },
  "kernelspec": {
   "display_name": "Python 3 (ipykernel)",
   "language": "python",
   "name": "python3"
  },
  "language_info": {
   "codemirror_mode": {
    "name": "ipython",
    "version": 3
   },
   "file_extension": ".py",
   "mimetype": "text/x-python",
   "name": "python",
   "nbconvert_exporter": "python",
   "pygments_lexer": "ipython3",
   "version": "3.11.5"
  }
 },
 "nbformat": 4,
 "nbformat_minor": 1
}
