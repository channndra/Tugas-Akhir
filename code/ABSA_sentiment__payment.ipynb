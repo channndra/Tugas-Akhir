{
  "cells": [
    {
      "cell_type": "code",
      "execution_count": null,
      "metadata": {
        "colab": {
          "base_uri": "https://localhost:8080/"
        },
        "id": "_BBW-nJeEMNK",
        "outputId": "bdef057d-e7d1-41a6-8352-8b00e7d95747"
      },
      "outputs": [
        {
          "output_type": "stream",
          "name": "stdout",
          "text": [
            "Mounted at /content/gdrive\n"
          ]
        }
      ],
      "source": [
        "from google.colab import drive\n",
        "drive.mount('/content/gdrive')"
      ]
    },
    {
      "cell_type": "markdown",
      "metadata": {
        "id": "RmMRW-PwDQsY"
      },
      "source": [
        "## **Data Initializing**"
      ]
    },
    {
      "cell_type": "code",
      "execution_count": null,
      "metadata": {
        "id": "i1h8MzCQcVMk",
        "colab": {
          "base_uri": "https://localhost:8080/",
          "height": 206
        },
        "outputId": "ef70ebb6-5e55-4914-9d80-0eed8e6f24e9"
      },
      "outputs": [
        {
          "output_type": "execute_result",
          "data": {
            "text/plain": [
              "                                        review_token  Payment\n",
              "0  [7, 6, 2406, 19, 31, 34, 2407, 633, 5, 2, 361,...        0\n",
              "1  [7, 6, 70, 16, 73, 80, 13, 74, 6, 11, 88, 9, 1...        0\n",
              "2  [2, 1, 83, 6, 799, 18, 16, 9, 1, 3, 34, 5, 341...        0\n",
              "3  [1461, 688, 91, 821, 865, 68, 33, 74, 113, 315...        0\n",
              "4  [49, 46, 45, 41, 31, 18, 268, 37, 113, 65, 31,...        0"
            ],
            "text/html": [
              "\n",
              "  <div id=\"df-61ec0934-07bd-4f52-9159-593aab08108c\" class=\"colab-df-container\">\n",
              "    <div>\n",
              "<style scoped>\n",
              "    .dataframe tbody tr th:only-of-type {\n",
              "        vertical-align: middle;\n",
              "    }\n",
              "\n",
              "    .dataframe tbody tr th {\n",
              "        vertical-align: top;\n",
              "    }\n",
              "\n",
              "    .dataframe thead th {\n",
              "        text-align: right;\n",
              "    }\n",
              "</style>\n",
              "<table border=\"1\" class=\"dataframe\">\n",
              "  <thead>\n",
              "    <tr style=\"text-align: right;\">\n",
              "      <th></th>\n",
              "      <th>review_token</th>\n",
              "      <th>Payment</th>\n",
              "    </tr>\n",
              "  </thead>\n",
              "  <tbody>\n",
              "    <tr>\n",
              "      <th>0</th>\n",
              "      <td>[7, 6, 2406, 19, 31, 34, 2407, 633, 5, 2, 361,...</td>\n",
              "      <td>0</td>\n",
              "    </tr>\n",
              "    <tr>\n",
              "      <th>1</th>\n",
              "      <td>[7, 6, 70, 16, 73, 80, 13, 74, 6, 11, 88, 9, 1...</td>\n",
              "      <td>0</td>\n",
              "    </tr>\n",
              "    <tr>\n",
              "      <th>2</th>\n",
              "      <td>[2, 1, 83, 6, 799, 18, 16, 9, 1, 3, 34, 5, 341...</td>\n",
              "      <td>0</td>\n",
              "    </tr>\n",
              "    <tr>\n",
              "      <th>3</th>\n",
              "      <td>[1461, 688, 91, 821, 865, 68, 33, 74, 113, 315...</td>\n",
              "      <td>0</td>\n",
              "    </tr>\n",
              "    <tr>\n",
              "      <th>4</th>\n",
              "      <td>[49, 46, 45, 41, 31, 18, 268, 37, 113, 65, 31,...</td>\n",
              "      <td>0</td>\n",
              "    </tr>\n",
              "  </tbody>\n",
              "</table>\n",
              "</div>\n",
              "    <div class=\"colab-df-buttons\">\n",
              "\n",
              "  <div class=\"colab-df-container\">\n",
              "    <button class=\"colab-df-convert\" onclick=\"convertToInteractive('df-61ec0934-07bd-4f52-9159-593aab08108c')\"\n",
              "            title=\"Convert this dataframe to an interactive table.\"\n",
              "            style=\"display:none;\">\n",
              "\n",
              "  <svg xmlns=\"http://www.w3.org/2000/svg\" height=\"24px\" viewBox=\"0 -960 960 960\">\n",
              "    <path d=\"M120-120v-720h720v720H120Zm60-500h600v-160H180v160Zm220 220h160v-160H400v160Zm0 220h160v-160H400v160ZM180-400h160v-160H180v160Zm440 0h160v-160H620v160ZM180-180h160v-160H180v160Zm440 0h160v-160H620v160Z\"/>\n",
              "  </svg>\n",
              "    </button>\n",
              "\n",
              "  <style>\n",
              "    .colab-df-container {\n",
              "      display:flex;\n",
              "      gap: 12px;\n",
              "    }\n",
              "\n",
              "    .colab-df-convert {\n",
              "      background-color: #E8F0FE;\n",
              "      border: none;\n",
              "      border-radius: 50%;\n",
              "      cursor: pointer;\n",
              "      display: none;\n",
              "      fill: #1967D2;\n",
              "      height: 32px;\n",
              "      padding: 0 0 0 0;\n",
              "      width: 32px;\n",
              "    }\n",
              "\n",
              "    .colab-df-convert:hover {\n",
              "      background-color: #E2EBFA;\n",
              "      box-shadow: 0px 1px 2px rgba(60, 64, 67, 0.3), 0px 1px 3px 1px rgba(60, 64, 67, 0.15);\n",
              "      fill: #174EA6;\n",
              "    }\n",
              "\n",
              "    .colab-df-buttons div {\n",
              "      margin-bottom: 4px;\n",
              "    }\n",
              "\n",
              "    [theme=dark] .colab-df-convert {\n",
              "      background-color: #3B4455;\n",
              "      fill: #D2E3FC;\n",
              "    }\n",
              "\n",
              "    [theme=dark] .colab-df-convert:hover {\n",
              "      background-color: #434B5C;\n",
              "      box-shadow: 0px 1px 3px 1px rgba(0, 0, 0, 0.15);\n",
              "      filter: drop-shadow(0px 1px 2px rgba(0, 0, 0, 0.3));\n",
              "      fill: #FFFFFF;\n",
              "    }\n",
              "  </style>\n",
              "\n",
              "    <script>\n",
              "      const buttonEl =\n",
              "        document.querySelector('#df-61ec0934-07bd-4f52-9159-593aab08108c button.colab-df-convert');\n",
              "      buttonEl.style.display =\n",
              "        google.colab.kernel.accessAllowed ? 'block' : 'none';\n",
              "\n",
              "      async function convertToInteractive(key) {\n",
              "        const element = document.querySelector('#df-61ec0934-07bd-4f52-9159-593aab08108c');\n",
              "        const dataTable =\n",
              "          await google.colab.kernel.invokeFunction('convertToInteractive',\n",
              "                                                    [key], {});\n",
              "        if (!dataTable) return;\n",
              "\n",
              "        const docLinkHtml = 'Like what you see? Visit the ' +\n",
              "          '<a target=\"_blank\" href=https://colab.research.google.com/notebooks/data_table.ipynb>data table notebook</a>'\n",
              "          + ' to learn more about interactive tables.';\n",
              "        element.innerHTML = '';\n",
              "        dataTable['output_type'] = 'display_data';\n",
              "        await google.colab.output.renderOutput(dataTable, element);\n",
              "        const docLink = document.createElement('div');\n",
              "        docLink.innerHTML = docLinkHtml;\n",
              "        element.appendChild(docLink);\n",
              "      }\n",
              "    </script>\n",
              "  </div>\n",
              "\n",
              "\n",
              "<div id=\"df-f0d02930-1cea-4c7c-bedb-7dd4e4be0eae\">\n",
              "  <button class=\"colab-df-quickchart\" onclick=\"quickchart('df-f0d02930-1cea-4c7c-bedb-7dd4e4be0eae')\"\n",
              "            title=\"Suggest charts.\"\n",
              "            style=\"display:none;\">\n",
              "\n",
              "<svg xmlns=\"http://www.w3.org/2000/svg\" height=\"24px\"viewBox=\"0 0 24 24\"\n",
              "     width=\"24px\">\n",
              "    <g>\n",
              "        <path d=\"M19 3H5c-1.1 0-2 .9-2 2v14c0 1.1.9 2 2 2h14c1.1 0 2-.9 2-2V5c0-1.1-.9-2-2-2zM9 17H7v-7h2v7zm4 0h-2V7h2v10zm4 0h-2v-4h2v4z\"/>\n",
              "    </g>\n",
              "</svg>\n",
              "  </button>\n",
              "\n",
              "<style>\n",
              "  .colab-df-quickchart {\n",
              "      --bg-color: #E8F0FE;\n",
              "      --fill-color: #1967D2;\n",
              "      --hover-bg-color: #E2EBFA;\n",
              "      --hover-fill-color: #174EA6;\n",
              "      --disabled-fill-color: #AAA;\n",
              "      --disabled-bg-color: #DDD;\n",
              "  }\n",
              "\n",
              "  [theme=dark] .colab-df-quickchart {\n",
              "      --bg-color: #3B4455;\n",
              "      --fill-color: #D2E3FC;\n",
              "      --hover-bg-color: #434B5C;\n",
              "      --hover-fill-color: #FFFFFF;\n",
              "      --disabled-bg-color: #3B4455;\n",
              "      --disabled-fill-color: #666;\n",
              "  }\n",
              "\n",
              "  .colab-df-quickchart {\n",
              "    background-color: var(--bg-color);\n",
              "    border: none;\n",
              "    border-radius: 50%;\n",
              "    cursor: pointer;\n",
              "    display: none;\n",
              "    fill: var(--fill-color);\n",
              "    height: 32px;\n",
              "    padding: 0;\n",
              "    width: 32px;\n",
              "  }\n",
              "\n",
              "  .colab-df-quickchart:hover {\n",
              "    background-color: var(--hover-bg-color);\n",
              "    box-shadow: 0 1px 2px rgba(60, 64, 67, 0.3), 0 1px 3px 1px rgba(60, 64, 67, 0.15);\n",
              "    fill: var(--button-hover-fill-color);\n",
              "  }\n",
              "\n",
              "  .colab-df-quickchart-complete:disabled,\n",
              "  .colab-df-quickchart-complete:disabled:hover {\n",
              "    background-color: var(--disabled-bg-color);\n",
              "    fill: var(--disabled-fill-color);\n",
              "    box-shadow: none;\n",
              "  }\n",
              "\n",
              "  .colab-df-spinner {\n",
              "    border: 2px solid var(--fill-color);\n",
              "    border-color: transparent;\n",
              "    border-bottom-color: var(--fill-color);\n",
              "    animation:\n",
              "      spin 1s steps(1) infinite;\n",
              "  }\n",
              "\n",
              "  @keyframes spin {\n",
              "    0% {\n",
              "      border-color: transparent;\n",
              "      border-bottom-color: var(--fill-color);\n",
              "      border-left-color: var(--fill-color);\n",
              "    }\n",
              "    20% {\n",
              "      border-color: transparent;\n",
              "      border-left-color: var(--fill-color);\n",
              "      border-top-color: var(--fill-color);\n",
              "    }\n",
              "    30% {\n",
              "      border-color: transparent;\n",
              "      border-left-color: var(--fill-color);\n",
              "      border-top-color: var(--fill-color);\n",
              "      border-right-color: var(--fill-color);\n",
              "    }\n",
              "    40% {\n",
              "      border-color: transparent;\n",
              "      border-right-color: var(--fill-color);\n",
              "      border-top-color: var(--fill-color);\n",
              "    }\n",
              "    60% {\n",
              "      border-color: transparent;\n",
              "      border-right-color: var(--fill-color);\n",
              "    }\n",
              "    80% {\n",
              "      border-color: transparent;\n",
              "      border-right-color: var(--fill-color);\n",
              "      border-bottom-color: var(--fill-color);\n",
              "    }\n",
              "    90% {\n",
              "      border-color: transparent;\n",
              "      border-bottom-color: var(--fill-color);\n",
              "    }\n",
              "  }\n",
              "</style>\n",
              "\n",
              "  <script>\n",
              "    async function quickchart(key) {\n",
              "      const quickchartButtonEl =\n",
              "        document.querySelector('#' + key + ' button');\n",
              "      quickchartButtonEl.disabled = true;  // To prevent multiple clicks.\n",
              "      quickchartButtonEl.classList.add('colab-df-spinner');\n",
              "      try {\n",
              "        const charts = await google.colab.kernel.invokeFunction(\n",
              "            'suggestCharts', [key], {});\n",
              "      } catch (error) {\n",
              "        console.error('Error during call to suggestCharts:', error);\n",
              "      }\n",
              "      quickchartButtonEl.classList.remove('colab-df-spinner');\n",
              "      quickchartButtonEl.classList.add('colab-df-quickchart-complete');\n",
              "    }\n",
              "    (() => {\n",
              "      let quickchartButtonEl =\n",
              "        document.querySelector('#df-f0d02930-1cea-4c7c-bedb-7dd4e4be0eae button');\n",
              "      quickchartButtonEl.style.display =\n",
              "        google.colab.kernel.accessAllowed ? 'block' : 'none';\n",
              "    })();\n",
              "  </script>\n",
              "</div>\n",
              "    </div>\n",
              "  </div>\n"
            ]
          },
          "metadata": {},
          "execution_count": 2
        }
      ],
      "source": [
        "import pandas as pd\n",
        "\n",
        "df = pd.read_csv('/content/gdrive/MyDrive/skripsi_chandra/ABSA_payment.csv')\n",
        "df.head()"
      ]
    },
    {
      "cell_type": "code",
      "execution_count": null,
      "metadata": {
        "id": "rKgWCTqH1RGB",
        "colab": {
          "base_uri": "https://localhost:8080/"
        },
        "outputId": "5c80d596-24ec-4b21-913b-d09e3f24ea7a"
      },
      "outputs": [
        {
          "output_type": "stream",
          "name": "stdout",
          "text": [
            "<class 'numpy.int64'>\n",
            "<class 'str'>\n"
          ]
        }
      ],
      "source": [
        "print(type(df['Payment'][0]))\n",
        "print(type(df['review_token'][0]))"
      ]
    },
    {
      "cell_type": "code",
      "execution_count": null,
      "metadata": {
        "id": "DiLw6n3b10EJ"
      },
      "outputs": [],
      "source": [
        "df['review_token'] = df['review_token'].map(lambda x: list(map(int, x[1:-1].split(', '))))"
      ]
    },
    {
      "cell_type": "code",
      "source": [
        "print(type(df['Payment'][0]))\n",
        "print(type(df['review_token'][0]))"
      ],
      "metadata": {
        "id": "5FxxiPotEyyu",
        "colab": {
          "base_uri": "https://localhost:8080/"
        },
        "outputId": "85715cb9-7c5b-42b8-eb7e-2e3bbb5388d9"
      },
      "execution_count": null,
      "outputs": [
        {
          "output_type": "stream",
          "name": "stdout",
          "text": [
            "<class 'numpy.int64'>\n",
            "<class 'list'>\n"
          ]
        }
      ]
    },
    {
      "cell_type": "code",
      "execution_count": null,
      "metadata": {
        "id": "5_-E0-F6JmOr"
      },
      "outputs": [],
      "source": [
        "reviews = df[['review_token']]\n",
        "labels = df['Payment']"
      ]
    },
    {
      "cell_type": "markdown",
      "metadata": {
        "id": "6TdmSEMdGXqy"
      },
      "source": [
        "## **Splitting Data and Applying Padding**"
      ]
    },
    {
      "cell_type": "code",
      "source": [
        "from sklearn.model_selection import train_test_split\n",
        "\n",
        "x_train, x_temp, y_train, y_temp = train_test_split(reviews, labels, test_size=0.3, random_state=42, stratify=labels)\n",
        "x_val, x_test, y_val, y_test = train_test_split(x_temp, y_temp, test_size=0.5, random_state=42, stratify=y_temp)\n",
        "\n",
        "print(x_train.shape, x_val.shape, x_test.shape, y_train.shape, y_val.shape, y_test.shape)"
      ],
      "metadata": {
        "id": "e_Nyqm1c7mhu",
        "colab": {
          "base_uri": "https://localhost:8080/"
        },
        "outputId": "6235f525-c1bb-4af4-d226-18e231526a9b"
      },
      "execution_count": null,
      "outputs": [
        {
          "output_type": "stream",
          "name": "stdout",
          "text": [
            "(2275, 1) (487, 1) (488, 1) (2275,) (487,) (488,)\n"
          ]
        }
      ]
    },
    {
      "cell_type": "code",
      "execution_count": null,
      "metadata": {
        "id": "VLbuZdw7h_n5"
      },
      "outputs": [],
      "source": [
        "x_train_pad = x_train['review_token']\n",
        "x_val_pad = x_val['review_token']\n",
        "x_test_pad = x_test['review_token']"
      ]
    },
    {
      "cell_type": "code",
      "execution_count": null,
      "metadata": {
        "id": "QkM6T_FHrmga"
      },
      "outputs": [],
      "source": [
        "from keras.preprocessing import sequence\n",
        "from keras.utils import pad_sequences\n",
        "\n",
        "x_train = pad_sequences(x_train_pad, maxlen=100)\n",
        "x_val = pad_sequences(x_val_pad, maxlen=100)\n",
        "x_test = pad_sequences(x_test_pad, maxlen=100)"
      ]
    },
    {
      "cell_type": "markdown",
      "metadata": {
        "id": "M7re-QixGAIk"
      },
      "source": [
        "## **Modeling Initialization**"
      ]
    },
    {
      "cell_type": "code",
      "source": [
        "pip install keras-tuner"
      ],
      "metadata": {
        "id": "siZKHKdg5CjJ",
        "colab": {
          "base_uri": "https://localhost:8080/"
        },
        "outputId": "b6e344ba-7976-447b-873c-e8e49ed027f9"
      },
      "execution_count": null,
      "outputs": [
        {
          "output_type": "stream",
          "name": "stdout",
          "text": [
            "Collecting keras-tuner\n",
            "  Downloading keras_tuner-1.3.5-py3-none-any.whl (176 kB)\n",
            "\u001b[?25l     \u001b[90m━━━━━━━━━━━━━━━━━━━━━━━━━━━━━━━━━━━━━━━━\u001b[0m \u001b[32m0.0/176.1 kB\u001b[0m \u001b[31m?\u001b[0m eta \u001b[36m-:--:--\u001b[0m\r\u001b[2K     \u001b[91m━━━━━━━━━━━━━━━━━━━━━━━━\u001b[0m\u001b[91m╸\u001b[0m\u001b[90m━━━━━━━━━━━━━━\u001b[0m \u001b[32m112.6/176.1 kB\u001b[0m \u001b[31m3.5 MB/s\u001b[0m eta \u001b[36m0:00:01\u001b[0m\r\u001b[2K     \u001b[90m━━━━━━━━━━━━━━━━━━━━━━━━━━━━━━━━━━━━━━━\u001b[0m \u001b[32m176.1/176.1 kB\u001b[0m \u001b[31m3.7 MB/s\u001b[0m eta \u001b[36m0:00:00\u001b[0m\n",
            "\u001b[?25hRequirement already satisfied: packaging in /usr/local/lib/python3.10/dist-packages (from keras-tuner) (23.1)\n",
            "Requirement already satisfied: requests in /usr/local/lib/python3.10/dist-packages (from keras-tuner) (2.31.0)\n",
            "Collecting kt-legacy (from keras-tuner)\n",
            "  Downloading kt_legacy-1.0.5-py3-none-any.whl (9.6 kB)\n",
            "Requirement already satisfied: charset-normalizer<4,>=2 in /usr/local/lib/python3.10/dist-packages (from requests->keras-tuner) (3.2.0)\n",
            "Requirement already satisfied: idna<4,>=2.5 in /usr/local/lib/python3.10/dist-packages (from requests->keras-tuner) (3.4)\n",
            "Requirement already satisfied: urllib3<3,>=1.21.1 in /usr/local/lib/python3.10/dist-packages (from requests->keras-tuner) (2.0.4)\n",
            "Requirement already satisfied: certifi>=2017.4.17 in /usr/local/lib/python3.10/dist-packages (from requests->keras-tuner) (2023.7.22)\n",
            "Installing collected packages: kt-legacy, keras-tuner\n",
            "Successfully installed keras-tuner-1.3.5 kt-legacy-1.0.5\n"
          ]
        }
      ]
    },
    {
      "cell_type": "code",
      "source": [
        "import numpy as np\n",
        "\n",
        "embedding_matrix = np.load('/content/gdrive/MyDrive/skripsi_chandra/embedding_matrix.npy')"
      ],
      "metadata": {
        "id": "bRqcTRY2eYSs"
      },
      "execution_count": null,
      "outputs": []
    },
    {
      "cell_type": "code",
      "execution_count": null,
      "metadata": {
        "id": "sopVXijz6igS"
      },
      "outputs": [],
      "source": [
        "from tensorflow.keras.callbacks import EarlyStopping\n",
        "\n",
        "early_stopping = EarlyStopping(restore_best_weights=True, patience=3,\n",
        "                               min_delta=0.01, monitor='val_loss')"
      ]
    },
    {
      "cell_type": "markdown",
      "source": [
        "**Hyperparameter tuning**\n",
        "1. Filter Size [2], [2,3,4]\n",
        "3. Dropout Rate [0.25, 0.5]\n",
        "4. Learning Rate [0.001, 0.0001]"
      ],
      "metadata": {
        "id": "NVOPkfGPITO9"
      }
    },
    {
      "cell_type": "markdown",
      "metadata": {
        "id": "_uxLmezcdG9w"
      },
      "source": [
        "## **CNN**"
      ]
    },
    {
      "cell_type": "code",
      "execution_count": null,
      "metadata": {
        "id": "vQerBsBydLFj"
      },
      "outputs": [],
      "source": [
        "from tensorflow.keras.models import Sequential\n",
        "from tensorflow.keras.layers import Dense, Conv1D, Dropout, Activation, MaxPooling1D, Flatten, Embedding\n",
        "from tensorflow.keras import optimizers, regularizers\n",
        "\n",
        "def build_CNN(hp):\n",
        "  model = Sequential()\n",
        "  model.add(Embedding(input_dim=2500, output_dim=300,\n",
        "                      weights=[embedding_matrix], input_length=100))\n",
        "\n",
        "  filter_sizes = hp.Choice('filter size', values=['2', '2,3,4'])\n",
        "  filter_sizes_list = [int(x) for x in filter_sizes.split(',')]\n",
        "  dropout_rate = hp.Choice('dropout rate', values=[0.25, 0.5])\n",
        "  learn_rate = hp.Choice('learning rate', values=[0.001, 0.0001])\n",
        "\n",
        "  conv_layers = []\n",
        "  for filter_size in filter_sizes_list:\n",
        "    conv_layer = Conv1D(filters=200, kernel_size=filter_size,\n",
        "                        padding='valid', activation='relu', strides=1)\n",
        "    conv_layers.append(conv_layer)\n",
        "\n",
        "  for conv_layer in conv_layers:\n",
        "    model.add(conv_layer)\n",
        "\n",
        "  model.add(MaxPooling1D())\n",
        "  model.add(Dense(128, activation='relu', kernel_regularizer=regularizers.l2(0.01)))\n",
        "  model.add(Dropout(dropout_rate))\n",
        "  model.add(Flatten())\n",
        "  model.add(Dense(1, activation='sigmoid'))\n",
        "  model.compile(optimizer=optimizers.Adam(learning_rate=learn_rate), loss='binary_crossentropy', metrics=['accuracy'])\n",
        "  return model"
      ]
    },
    {
      "cell_type": "code",
      "source": [
        "from keras_tuner import GridSearch\n",
        "from kerastuner.engine.hyperparameters import HyperParameters\n",
        "\n",
        "tuner = GridSearch(\n",
        "    build_CNN,\n",
        "    objective='val_accuracy',\n",
        "    directory='payment_CNN',\n",
        "    project_name='payment'\n",
        ")\n",
        "\n",
        "tuner.search(x_train, y_train, epochs=50, batch_size=64, verbose=1, validation_data=(x_val,y_val), callbacks=[early_stopping])\n",
        "tuner.results_summary()"
      ],
      "metadata": {
        "id": "tQKZPXIU3wSB",
        "colab": {
          "base_uri": "https://localhost:8080/"
        },
        "outputId": "6abc7a9f-f035-40bc-df7d-ac02e372c571"
      },
      "execution_count": null,
      "outputs": [
        {
          "output_type": "stream",
          "name": "stdout",
          "text": [
            "Trial 8 Complete [00h 00m 35s]\n",
            "val_accuracy: 0.977412760257721\n",
            "\n",
            "Best val_accuracy So Far: 0.9794661402702332\n",
            "Total elapsed time: 00h 03m 54s\n",
            "Results summary\n",
            "Results in payment_CNN/payment\n",
            "Showing 10 best trials\n",
            "Objective(name=\"val_accuracy\", direction=\"max\")\n",
            "\n",
            "Trial 0005 summary\n",
            "Hyperparameters:\n",
            "filter size: 2,3,4\n",
            "dropout rate: 0.25\n",
            "learning rate: 0.0001\n",
            "Score: 0.9794661402702332\n",
            "\n",
            "Trial 0007 summary\n",
            "Hyperparameters:\n",
            "filter size: 2,3,4\n",
            "dropout rate: 0.5\n",
            "learning rate: 0.0001\n",
            "Score: 0.977412760257721\n",
            "\n",
            "Trial 0001 summary\n",
            "Hyperparameters:\n",
            "filter size: 2\n",
            "dropout rate: 0.25\n",
            "learning rate: 0.0001\n",
            "Score: 0.975359320640564\n",
            "\n",
            "Trial 0000 summary\n",
            "Hyperparameters:\n",
            "filter size: 2\n",
            "dropout rate: 0.25\n",
            "learning rate: 0.001\n",
            "Score: 0.9733059406280518\n",
            "\n",
            "Trial 0002 summary\n",
            "Hyperparameters:\n",
            "filter size: 2\n",
            "dropout rate: 0.5\n",
            "learning rate: 0.001\n",
            "Score: 0.9733059406280518\n",
            "\n",
            "Trial 0003 summary\n",
            "Hyperparameters:\n",
            "filter size: 2\n",
            "dropout rate: 0.5\n",
            "learning rate: 0.0001\n",
            "Score: 0.9733059406280518\n",
            "\n",
            "Trial 0006 summary\n",
            "Hyperparameters:\n",
            "filter size: 2,3,4\n",
            "dropout rate: 0.5\n",
            "learning rate: 0.001\n",
            "Score: 0.9733059406280518\n",
            "\n",
            "Trial 0004 summary\n",
            "Hyperparameters:\n",
            "filter size: 2,3,4\n",
            "dropout rate: 0.25\n",
            "learning rate: 0.001\n",
            "Score: 0.9671458005905151\n"
          ]
        }
      ]
    },
    {
      "cell_type": "code",
      "source": [
        "best_hp = tuner.get_best_hyperparameters(num_trials=1)[0]\n",
        "best_hp.values"
      ],
      "metadata": {
        "colab": {
          "base_uri": "https://localhost:8080/"
        },
        "id": "CGkeZnTd8-qG",
        "outputId": "d4c429e8-6a64-403b-f63f-f24b1d03189a"
      },
      "execution_count": null,
      "outputs": [
        {
          "output_type": "execute_result",
          "data": {
            "text/plain": [
              "{'filter size': '2,3,4', 'dropout rate': 0.25, 'learning rate': 0.0001}"
            ]
          },
          "metadata": {},
          "execution_count": 15
        }
      ]
    },
    {
      "cell_type": "code",
      "source": [
        "model = build_CNN(best_hp)\n",
        "history = model.fit(x_train, y_train,\n",
        "                    epochs=50, batch_size=64,\n",
        "                    validation_data=(x_val, y_val),\n",
        "                    callbacks=[early_stopping])\n",
        "model.summary()"
      ],
      "metadata": {
        "id": "veMkd7JZ1dMn",
        "colab": {
          "base_uri": "https://localhost:8080/"
        },
        "outputId": "9df48f6b-438b-46f8-862a-8fd82e72b5a3"
      },
      "execution_count": null,
      "outputs": [
        {
          "output_type": "stream",
          "name": "stdout",
          "text": [
            "Epoch 1/50\n",
            "36/36 [==============================] - 7s 140ms/step - loss: 2.0289 - accuracy: 0.9644 - val_loss: 1.6579 - val_accuracy: 0.9651\n",
            "Epoch 2/50\n",
            "36/36 [==============================] - 3s 85ms/step - loss: 1.5650 - accuracy: 0.9657 - val_loss: 1.5026 - val_accuracy: 0.9651\n",
            "Epoch 3/50\n",
            "36/36 [==============================] - 2s 55ms/step - loss: 1.4448 - accuracy: 0.9657 - val_loss: 1.3943 - val_accuracy: 0.9651\n",
            "Epoch 4/50\n",
            "36/36 [==============================] - 2s 64ms/step - loss: 1.3415 - accuracy: 0.9657 - val_loss: 1.2950 - val_accuracy: 0.9651\n",
            "Epoch 5/50\n",
            "36/36 [==============================] - 2s 40ms/step - loss: 1.2487 - accuracy: 0.9657 - val_loss: 1.2023 - val_accuracy: 0.9651\n",
            "Epoch 6/50\n",
            "36/36 [==============================] - 1s 23ms/step - loss: 1.1559 - accuracy: 0.9657 - val_loss: 1.1158 - val_accuracy: 0.9651\n",
            "Epoch 7/50\n",
            "36/36 [==============================] - 1s 27ms/step - loss: 1.0697 - accuracy: 0.9657 - val_loss: 1.0330 - val_accuracy: 0.9651\n",
            "Epoch 8/50\n",
            "36/36 [==============================] - 1s 19ms/step - loss: 0.9889 - accuracy: 0.9657 - val_loss: 0.9503 - val_accuracy: 0.9651\n",
            "Epoch 9/50\n",
            "36/36 [==============================] - 1s 28ms/step - loss: 0.9052 - accuracy: 0.9653 - val_loss: 0.8761 - val_accuracy: 0.9651\n",
            "Epoch 10/50\n",
            "36/36 [==============================] - 1s 23ms/step - loss: 0.8265 - accuracy: 0.9662 - val_loss: 0.8046 - val_accuracy: 0.9651\n",
            "Epoch 11/50\n",
            "36/36 [==============================] - 1s 32ms/step - loss: 0.7570 - accuracy: 0.9723 - val_loss: 0.7449 - val_accuracy: 0.9651\n",
            "Epoch 12/50\n",
            "36/36 [==============================] - 1s 24ms/step - loss: 0.6896 - accuracy: 0.9758 - val_loss: 0.6852 - val_accuracy: 0.9671\n",
            "Epoch 13/50\n",
            "36/36 [==============================] - 1s 21ms/step - loss: 0.6318 - accuracy: 0.9837 - val_loss: 0.6426 - val_accuracy: 0.9713\n",
            "Epoch 14/50\n",
            "36/36 [==============================] - 0s 12ms/step - loss: 0.5767 - accuracy: 0.9868 - val_loss: 0.6145 - val_accuracy: 0.9692\n",
            "Epoch 15/50\n",
            "36/36 [==============================] - 1s 15ms/step - loss: 0.5286 - accuracy: 0.9873 - val_loss: 0.5764 - val_accuracy: 0.9713\n",
            "Epoch 16/50\n",
            "36/36 [==============================] - 0s 8ms/step - loss: 0.4825 - accuracy: 0.9912 - val_loss: 0.5443 - val_accuracy: 0.9733\n",
            "Epoch 17/50\n",
            "36/36 [==============================] - 1s 16ms/step - loss: 0.4443 - accuracy: 0.9912 - val_loss: 0.4882 - val_accuracy: 0.9713\n",
            "Epoch 18/50\n",
            "36/36 [==============================] - 1s 15ms/step - loss: 0.4067 - accuracy: 0.9925 - val_loss: 0.4790 - val_accuracy: 0.9733\n",
            "Epoch 19/50\n",
            "36/36 [==============================] - 1s 15ms/step - loss: 0.3711 - accuracy: 0.9943 - val_loss: 0.4553 - val_accuracy: 0.9733\n",
            "Epoch 20/50\n",
            "36/36 [==============================] - 0s 12ms/step - loss: 0.3406 - accuracy: 0.9947 - val_loss: 0.4311 - val_accuracy: 0.9754\n",
            "Epoch 21/50\n",
            "36/36 [==============================] - 1s 18ms/step - loss: 0.3125 - accuracy: 0.9960 - val_loss: 0.3936 - val_accuracy: 0.9713\n",
            "Epoch 22/50\n",
            "36/36 [==============================] - 0s 12ms/step - loss: 0.2871 - accuracy: 0.9965 - val_loss: 0.3747 - val_accuracy: 0.9713\n",
            "Epoch 23/50\n",
            "36/36 [==============================] - 0s 12ms/step - loss: 0.2606 - accuracy: 0.9982 - val_loss: 0.3747 - val_accuracy: 0.9754\n",
            "Epoch 24/50\n",
            "36/36 [==============================] - 1s 16ms/step - loss: 0.2393 - accuracy: 0.9978 - val_loss: 0.3526 - val_accuracy: 0.9754\n",
            "Epoch 25/50\n",
            "36/36 [==============================] - 0s 11ms/step - loss: 0.2170 - accuracy: 0.9987 - val_loss: 0.3370 - val_accuracy: 0.9754\n",
            "Epoch 26/50\n",
            "36/36 [==============================] - 0s 7ms/step - loss: 0.1982 - accuracy: 0.9991 - val_loss: 0.3127 - val_accuracy: 0.9671\n",
            "Epoch 27/50\n",
            "36/36 [==============================] - 1s 15ms/step - loss: 0.1808 - accuracy: 0.9982 - val_loss: 0.3148 - val_accuracy: 0.9713\n",
            "Epoch 28/50\n",
            "36/36 [==============================] - 0s 11ms/step - loss: 0.1645 - accuracy: 0.9991 - val_loss: 0.2916 - val_accuracy: 0.9713\n",
            "Epoch 29/50\n",
            "36/36 [==============================] - 0s 11ms/step - loss: 0.1490 - accuracy: 0.9996 - val_loss: 0.2843 - val_accuracy: 0.9671\n",
            "Epoch 30/50\n",
            "36/36 [==============================] - 0s 7ms/step - loss: 0.1362 - accuracy: 0.9991 - val_loss: 0.2933 - val_accuracy: 0.9733\n",
            "Epoch 31/50\n",
            "36/36 [==============================] - 0s 11ms/step - loss: 0.1240 - accuracy: 0.9991 - val_loss: 0.2714 - val_accuracy: 0.9692\n",
            "Epoch 32/50\n",
            "36/36 [==============================] - 1s 15ms/step - loss: 0.1132 - accuracy: 0.9996 - val_loss: 0.2490 - val_accuracy: 0.9713\n",
            "Epoch 33/50\n",
            "36/36 [==============================] - 0s 7ms/step - loss: 0.1018 - accuracy: 0.9996 - val_loss: 0.2467 - val_accuracy: 0.9692\n",
            "Epoch 34/50\n",
            "36/36 [==============================] - 0s 7ms/step - loss: 0.0926 - accuracy: 0.9996 - val_loss: 0.2594 - val_accuracy: 0.9671\n",
            "Epoch 35/50\n",
            "36/36 [==============================] - 1s 16ms/step - loss: 0.0842 - accuracy: 0.9996 - val_loss: 0.2745 - val_accuracy: 0.9733\n",
            "Model: \"sequential_1\"\n",
            "_________________________________________________________________\n",
            " Layer (type)                Output Shape              Param #   \n",
            "=================================================================\n",
            " embedding_1 (Embedding)     (None, 100, 300)          750000    \n",
            "                                                                 \n",
            " conv1d_3 (Conv1D)           (None, 99, 200)           120200    \n",
            "                                                                 \n",
            " conv1d_4 (Conv1D)           (None, 97, 200)           120200    \n",
            "                                                                 \n",
            " conv1d_5 (Conv1D)           (None, 94, 200)           160200    \n",
            "                                                                 \n",
            " max_pooling1d_1 (MaxPoolin  (None, 47, 200)           0         \n",
            " g1D)                                                            \n",
            "                                                                 \n",
            " dense_2 (Dense)             (None, 47, 128)           25728     \n",
            "                                                                 \n",
            " dropout_1 (Dropout)         (None, 47, 128)           0         \n",
            "                                                                 \n",
            " flatten_1 (Flatten)         (None, 6016)              0         \n",
            "                                                                 \n",
            " dense_3 (Dense)             (None, 1)                 6017      \n",
            "                                                                 \n",
            "=================================================================\n",
            "Total params: 1182345 (4.51 MB)\n",
            "Trainable params: 1182345 (4.51 MB)\n",
            "Non-trainable params: 0 (0.00 Byte)\n",
            "_________________________________________________________________\n"
          ]
        }
      ]
    },
    {
      "cell_type": "code",
      "source": [
        "import matplotlib.pyplot as plt\n",
        "\n",
        "fig, (ax1, ax2) = plt.subplots(1, 2, figsize=(10, 3))\n",
        "ax1.plot(history.history['accuracy'], label='Train')\n",
        "ax1.plot(history.history['val_accuracy'], label='Val')\n",
        "ax1.set_title('Model Accuracy')\n",
        "ax1.set_xlabel('Epoch')\n",
        "ax1.set_ylabel('Accuracy')\n",
        "ax1.legend(loc='upper left')\n",
        "\n",
        "ax2.plot(history.history['loss'], label='Train')\n",
        "ax2.plot(history.history['val_loss'], label='Val')\n",
        "ax2.set_title('Model Loss')\n",
        "ax2.set_xlabel('Epoch')\n",
        "ax2.set_ylabel('Loss')\n",
        "ax2.legend(loc='upper left')\n",
        "\n",
        "plt.show()"
      ],
      "metadata": {
        "id": "dRCxmCPuEQjo",
        "colab": {
          "base_uri": "https://localhost:8080/",
          "height": 333
        },
        "outputId": "ceb916ec-4d3a-46bb-da99-52951a8fe201"
      },
      "execution_count": null,
      "outputs": [
        {
          "output_type": "display_data",
          "data": {
            "text/plain": [
              "<Figure size 1000x300 with 2 Axes>"
            ],
            "image/png": "[encoded data removed]"
          },
          "metadata": {}
        }
      ]
    },
    {
      "cell_type": "code",
      "source": [
        "model.save('payment_CNN.h5')"
      ],
      "metadata": {
        "id": "juQhPQtGzSCZ",
        "colab": {
          "base_uri": "https://localhost:8080/"
        },
        "outputId": "e6a7d337-6316-4451-8602-a3055e87fea0"
      },
      "execution_count": null,
      "outputs": [
        {
          "output_type": "stream",
          "name": "stderr",
          "text": [
            "/usr/local/lib/python3.10/dist-packages/keras/src/engine/training.py:3000: UserWarning: You are saving your model as an HDF5 file via `model.save()`. This file format is considered legacy. We recommend using instead the native Keras format, e.g. `model.save('my_model.keras')`.\n",
            "  saving_api.save_model(\n"
          ]
        }
      ]
    },
    {
      "cell_type": "code",
      "source": [
        "predictions = model.predict(x_test)"
      ],
      "metadata": {
        "id": "UKpiBmfiza6v",
        "colab": {
          "base_uri": "https://localhost:8080/"
        },
        "outputId": "4b686332-009d-4977-875c-366f3a0af429"
      },
      "execution_count": null,
      "outputs": [
        {
          "output_type": "stream",
          "name": "stdout",
          "text": [
            "16/16 [==============================] - 0s 2ms/step\n"
          ]
        }
      ]
    },
    {
      "cell_type": "code",
      "source": [
        "y_pred = predictions >= 0.5"
      ],
      "metadata": {
        "id": "yQ1OTxQFGaLa"
      },
      "execution_count": null,
      "outputs": []
    },
    {
      "cell_type": "code",
      "source": [
        "from sklearn.metrics import precision_score, recall_score, f1_score\n",
        "\n",
        "macro_precision = precision_score(y_test, y_pred, average='macro')\n",
        "macro_recall = recall_score(y_test, y_pred, average='macro')\n",
        "macro_f1 = f1_score(y_test, y_pred, average='macro')\n",
        "\n",
        "print(f\"Macro-Average Precision: {macro_precision}\")\n",
        "print(f\"Macro-Average Recall: {macro_recall}\")\n",
        "print(f\"Macro-Average F1 Score: {macro_f1}\")"
      ],
      "metadata": {
        "colab": {
          "base_uri": "https://localhost:8080/"
        },
        "id": "r4XoomGsGZN-",
        "outputId": "32bdf018-48ee-4507-db1b-b066c1d47763"
      },
      "execution_count": null,
      "outputs": [
        {
          "output_type": "stream",
          "name": "stdout",
          "text": [
            "Macro-Average Precision: 0.8050847457627119\n",
            "Macro-Average Recall: 0.7877482203072312\n",
            "Macro-Average F1 Score: 0.7961374080143964\n"
          ]
        }
      ]
    },
    {
      "cell_type": "code",
      "source": [
        "from sklearn.metrics import classification_report\n",
        "\n",
        "labels = [\"Negative\", \"Positive\"]\n",
        "report = classification_report(y_test, y_pred)\n",
        "print(report)"
      ],
      "metadata": {
        "id": "Q4tdr70Yzfi-",
        "colab": {
          "base_uri": "https://localhost:8080/"
        },
        "outputId": "ca5a0f3b-cad9-4ee0-cdc6-15d667d34f7f"
      },
      "execution_count": null,
      "outputs": [
        {
          "output_type": "stream",
          "name": "stdout",
          "text": [
            "              precision    recall  f1-score   support\n",
            "\n",
            "           0       0.99      0.99      0.99       471\n",
            "           1       0.62      0.59      0.61        17\n",
            "\n",
            "    accuracy                           0.97       488\n",
            "   macro avg       0.81      0.79      0.80       488\n",
            "weighted avg       0.97      0.97      0.97       488\n",
            "\n"
          ]
        }
      ]
    },
    {
      "cell_type": "code",
      "source": [
        "import seaborn as sns\n",
        "import matplotlib.pyplot as plt\n",
        "from sklearn.metrics import confusion_matrix\n",
        "\n",
        "cm = confusion_matrix(y_test, y_pred)\n",
        "\n",
        "plt.figure(figsize=(6, 4))\n",
        "ax = sns.heatmap(cm, annot=True, xticklabels=labels, yticklabels=labels, cmap='flare', fmt='d')\n",
        "plt.xlabel(\"Predicted label\")\n",
        "plt.ylabel(\"Actual label\")\n",
        "plt.show()"
      ],
      "metadata": {
        "id": "r0lKzWsqzhuW",
        "colab": {
          "base_uri": "https://localhost:8080/",
          "height": 388
        },
        "outputId": "cbab6c0c-8258-4567-c24b-221d7384bd8a"
      },
      "execution_count": null,
      "outputs": [
        {
          "output_type": "display_data",
          "data": {
            "text/plain": [
              "<Figure size 600x400 with 2 Axes>"
            ],
            "image/png": "[encoded data removed]"
          },
          "metadata": {}
        }
      ]
    },
    {
      "cell_type": "markdown",
      "source": [
        "# **CNN-LSTM**"
      ],
      "metadata": {
        "id": "vXLkiM8MEpji"
      }
    },
    {
      "cell_type": "code",
      "source": [
        "from tensorflow.keras.models import Sequential\n",
        "from tensorflow.keras.layers import LSTM, Dense, Conv1D, Dropout, Activation, MaxPooling1D, Flatten, Embedding\n",
        "from tensorflow.keras import optimizers, regularizers\n",
        "\n",
        "def build_CNNLSTM(hp):\n",
        "  model = Sequential()\n",
        "  model.add(Embedding(input_dim=2500, output_dim=300,\n",
        "                      weights=[embedding_matrix], input_length=100))\n",
        "\n",
        "  filter_sizes = hp.Choice('filter size', values=['2', '2,3,4'])\n",
        "  filter_sizes_list = [int(x) for x in filter_sizes.split(',')]\n",
        "  dropout_rate = hp.Choice('dropout rate', values=[0.25, 0.5])\n",
        "  learn_rate = hp.Choice('learning rate', values=[0.001, 0.0001])\n",
        "\n",
        "  conv_layers = []\n",
        "  for filter_size in filter_sizes_list:\n",
        "    conv_layer = Conv1D(filters=200, kernel_size=filter_size,\n",
        "                        padding='valid', activation='relu', strides=1)\n",
        "    conv_layers.append(conv_layer)\n",
        "\n",
        "  for conv_layer in conv_layers:\n",
        "    model.add(conv_layer)\n",
        "\n",
        "  model.add(MaxPooling1D())\n",
        "  model.add(Dense(128, activation='relu', kernel_regularizer=regularizers.l2(0.01)))\n",
        "  model.add(Dropout(dropout_rate))\n",
        "  model.add(LSTM(64))\n",
        "  model.add(Dense(1, activation='sigmoid'))\n",
        "  model.compile(optimizer=optimizers.Adam(learning_rate=learn_rate), loss='binary_crossentropy', metrics=['accuracy'])\n",
        "  return model"
      ],
      "metadata": {
        "id": "vFcRCr9BEsa7"
      },
      "execution_count": null,
      "outputs": []
    },
    {
      "cell_type": "code",
      "source": [
        "from keras_tuner import GridSearch\n",
        "from kerastuner.engine.hyperparameters import HyperParameters\n",
        "\n",
        "tuner = GridSearch(\n",
        "    build_CNNLSTM,\n",
        "    objective='val_accuracy',\n",
        "    directory='payment_CNNLSTM',\n",
        "    project_name='payment'\n",
        ")\n",
        "\n",
        "tuner.search(x_train, y_train, epochs=50, batch_size=64, verbose=1, validation_data=(x_val,y_val), callbacks=[early_stopping])\n",
        "tuner.results_summary()"
      ],
      "metadata": {
        "colab": {
          "base_uri": "https://localhost:8080/"
        },
        "id": "5kduer4BEy6v",
        "outputId": "36dc0e95-4fd5-4550-869d-b954f4d24664"
      },
      "execution_count": null,
      "outputs": [
        {
          "output_type": "stream",
          "name": "stdout",
          "text": [
            "Trial 8 Complete [00h 00m 37s]\n",
            "val_accuracy: 0.9794661402702332\n",
            "\n",
            "Best val_accuracy So Far: 0.9815195202827454\n",
            "Total elapsed time: 00h 04m 07s\n",
            "Results summary\n",
            "Results in payment_CNNLSTM/payment\n",
            "Showing 10 best trials\n",
            "Objective(name=\"val_accuracy\", direction=\"max\")\n",
            "\n",
            "Trial 0001 summary\n",
            "Hyperparameters:\n",
            "filter size: 2\n",
            "dropout rate: 0.25\n",
            "learning rate: 0.0001\n",
            "Score: 0.9815195202827454\n",
            "\n",
            "Trial 0003 summary\n",
            "Hyperparameters:\n",
            "filter size: 2\n",
            "dropout rate: 0.5\n",
            "learning rate: 0.0001\n",
            "Score: 0.9794661402702332\n",
            "\n",
            "Trial 0005 summary\n",
            "Hyperparameters:\n",
            "filter size: 2,3,4\n",
            "dropout rate: 0.25\n",
            "learning rate: 0.0001\n",
            "Score: 0.9794661402702332\n",
            "\n",
            "Trial 0007 summary\n",
            "Hyperparameters:\n",
            "filter size: 2,3,4\n",
            "dropout rate: 0.5\n",
            "learning rate: 0.0001\n",
            "Score: 0.9794661402702332\n",
            "\n",
            "Trial 0000 summary\n",
            "Hyperparameters:\n",
            "filter size: 2\n",
            "dropout rate: 0.25\n",
            "learning rate: 0.001\n",
            "Score: 0.977412760257721\n",
            "\n",
            "Trial 0006 summary\n",
            "Hyperparameters:\n",
            "filter size: 2,3,4\n",
            "dropout rate: 0.5\n",
            "learning rate: 0.001\n",
            "Score: 0.975359320640564\n",
            "\n",
            "Trial 0002 summary\n",
            "Hyperparameters:\n",
            "filter size: 2\n",
            "dropout rate: 0.5\n",
            "learning rate: 0.001\n",
            "Score: 0.9733059406280518\n",
            "\n",
            "Trial 0004 summary\n",
            "Hyperparameters:\n",
            "filter size: 2,3,4\n",
            "dropout rate: 0.25\n",
            "learning rate: 0.001\n",
            "Score: 0.9671458005905151\n"
          ]
        }
      ]
    },
    {
      "cell_type": "code",
      "source": [
        "best_hp = tuner.get_best_hyperparameters(num_trials=1)[0]\n",
        "best_hp.values"
      ],
      "metadata": {
        "colab": {
          "base_uri": "https://localhost:8080/"
        },
        "id": "WAo0Y9VAEy9R",
        "outputId": "855ccc43-1b58-4bc9-a506-dc6fbf937d9a"
      },
      "execution_count": null,
      "outputs": [
        {
          "output_type": "execute_result",
          "data": {
            "text/plain": [
              "{'filter size': '2', 'dropout rate': 0.25, 'learning rate': 0.0001}"
            ]
          },
          "metadata": {},
          "execution_count": 15
        }
      ]
    },
    {
      "cell_type": "code",
      "source": [
        "model = build_CNNLSTM(best_hp)\n",
        "history = model.fit(x_train, y_train,\n",
        "                    epochs=50, batch_size=64,\n",
        "                    validation_data=(x_val, y_val),\n",
        "                    callbacks=[early_stopping])\n",
        "model.summary()"
      ],
      "metadata": {
        "colab": {
          "base_uri": "https://localhost:8080/"
        },
        "id": "vy-lj-OMEy_h",
        "outputId": "5a6c3b08-d4ea-4446-b380-14ea7313efa9"
      },
      "execution_count": null,
      "outputs": [
        {
          "output_type": "stream",
          "name": "stdout",
          "text": [
            "Epoch 1/50\n",
            "36/36 [==============================] - 7s 125ms/step - loss: 2.0905 - accuracy: 0.9657 - val_loss: 1.8752 - val_accuracy: 0.9651\n",
            "Epoch 2/50\n",
            "36/36 [==============================] - 3s 68ms/step - loss: 1.6768 - accuracy: 0.9657 - val_loss: 1.5376 - val_accuracy: 0.9651\n",
            "Epoch 3/50\n",
            "36/36 [==============================] - 3s 87ms/step - loss: 1.4782 - accuracy: 0.9657 - val_loss: 1.4260 - val_accuracy: 0.9651\n",
            "Epoch 4/50\n",
            "36/36 [==============================] - 2s 58ms/step - loss: 1.3745 - accuracy: 0.9657 - val_loss: 1.3262 - val_accuracy: 0.9651\n",
            "Epoch 5/50\n",
            "36/36 [==============================] - 1s 35ms/step - loss: 1.2781 - accuracy: 0.9657 - val_loss: 1.2337 - val_accuracy: 0.9651\n",
            "Epoch 6/50\n",
            "36/36 [==============================] - 1s 23ms/step - loss: 1.1889 - accuracy: 0.9657 - val_loss: 1.1473 - val_accuracy: 0.9651\n",
            "Epoch 7/50\n",
            "36/36 [==============================] - 1s 30ms/step - loss: 1.1049 - accuracy: 0.9657 - val_loss: 1.0660 - val_accuracy: 0.9651\n",
            "Epoch 8/50\n",
            "36/36 [==============================] - 0s 12ms/step - loss: 1.0254 - accuracy: 0.9657 - val_loss: 0.9882 - val_accuracy: 0.9651\n",
            "Epoch 9/50\n",
            "36/36 [==============================] - 1s 27ms/step - loss: 0.9491 - accuracy: 0.9657 - val_loss: 0.9144 - val_accuracy: 0.9651\n",
            "Epoch 10/50\n",
            "36/36 [==============================] - 1s 19ms/step - loss: 0.8761 - accuracy: 0.9657 - val_loss: 0.8426 - val_accuracy: 0.9651\n",
            "Epoch 11/50\n",
            "36/36 [==============================] - 1s 19ms/step - loss: 0.8041 - accuracy: 0.9657 - val_loss: 0.7732 - val_accuracy: 0.9651\n",
            "Epoch 12/50\n",
            "36/36 [==============================] - 1s 33ms/step - loss: 0.7353 - accuracy: 0.9657 - val_loss: 0.7082 - val_accuracy: 0.9651\n",
            "Epoch 13/50\n",
            "36/36 [==============================] - 1s 16ms/step - loss: 0.6706 - accuracy: 0.9670 - val_loss: 0.6550 - val_accuracy: 0.9671\n",
            "Epoch 14/50\n",
            "36/36 [==============================] - 1s 20ms/step - loss: 0.6130 - accuracy: 0.9723 - val_loss: 0.6007 - val_accuracy: 0.9733\n",
            "Epoch 15/50\n",
            "36/36 [==============================] - 1s 16ms/step - loss: 0.5621 - accuracy: 0.9749 - val_loss: 0.5571 - val_accuracy: 0.9733\n",
            "Epoch 16/50\n",
            "36/36 [==============================] - 1s 15ms/step - loss: 0.5164 - accuracy: 0.9807 - val_loss: 0.5213 - val_accuracy: 0.9713\n",
            "Epoch 17/50\n",
            "36/36 [==============================] - 1s 20ms/step - loss: 0.4715 - accuracy: 0.9824 - val_loss: 0.4856 - val_accuracy: 0.9733\n",
            "Epoch 18/50\n",
            "36/36 [==============================] - 0s 12ms/step - loss: 0.4326 - accuracy: 0.9855 - val_loss: 0.4515 - val_accuracy: 0.9713\n",
            "Epoch 19/50\n",
            "36/36 [==============================] - 1s 28ms/step - loss: 0.3964 - accuracy: 0.9873 - val_loss: 0.4233 - val_accuracy: 0.9713\n",
            "Epoch 20/50\n",
            "36/36 [==============================] - 0s 12ms/step - loss: 0.3650 - accuracy: 0.9873 - val_loss: 0.3882 - val_accuracy: 0.9754\n",
            "Epoch 21/50\n",
            "36/36 [==============================] - 1s 15ms/step - loss: 0.3346 - accuracy: 0.9912 - val_loss: 0.3724 - val_accuracy: 0.9713\n",
            "Epoch 22/50\n",
            "36/36 [==============================] - 1s 19ms/step - loss: 0.3061 - accuracy: 0.9934 - val_loss: 0.3505 - val_accuracy: 0.9733\n",
            "Epoch 23/50\n",
            "36/36 [==============================] - 0s 11ms/step - loss: 0.2800 - accuracy: 0.9930 - val_loss: 0.3279 - val_accuracy: 0.9774\n",
            "Epoch 24/50\n",
            "36/36 [==============================] - 0s 13ms/step - loss: 0.2565 - accuracy: 0.9938 - val_loss: 0.3122 - val_accuracy: 0.9774\n",
            "Epoch 25/50\n",
            "36/36 [==============================] - 0s 12ms/step - loss: 0.2349 - accuracy: 0.9952 - val_loss: 0.2862 - val_accuracy: 0.9774\n",
            "Epoch 26/50\n",
            "36/36 [==============================] - 0s 12ms/step - loss: 0.2154 - accuracy: 0.9956 - val_loss: 0.2682 - val_accuracy: 0.9795\n",
            "Epoch 27/50\n",
            "36/36 [==============================] - 0s 11ms/step - loss: 0.1973 - accuracy: 0.9956 - val_loss: 0.2598 - val_accuracy: 0.9774\n",
            "Epoch 28/50\n",
            "36/36 [==============================] - 0s 11ms/step - loss: 0.1792 - accuracy: 0.9978 - val_loss: 0.2492 - val_accuracy: 0.9774\n",
            "Epoch 29/50\n",
            "36/36 [==============================] - 0s 8ms/step - loss: 0.1642 - accuracy: 0.9978 - val_loss: 0.2329 - val_accuracy: 0.9795\n",
            "Epoch 30/50\n",
            "36/36 [==============================] - 0s 13ms/step - loss: 0.1498 - accuracy: 0.9974 - val_loss: 0.2235 - val_accuracy: 0.9795\n",
            "Epoch 31/50\n",
            "36/36 [==============================] - 0s 12ms/step - loss: 0.1377 - accuracy: 0.9974 - val_loss: 0.2108 - val_accuracy: 0.9795\n",
            "Epoch 32/50\n",
            "36/36 [==============================] - 0s 11ms/step - loss: 0.1247 - accuracy: 0.9987 - val_loss: 0.1987 - val_accuracy: 0.9795\n",
            "Epoch 33/50\n",
            "36/36 [==============================] - 0s 12ms/step - loss: 0.1142 - accuracy: 0.9987 - val_loss: 0.1964 - val_accuracy: 0.9795\n",
            "Epoch 34/50\n",
            "36/36 [==============================] - 1s 12ms/step - loss: 0.1041 - accuracy: 0.9987 - val_loss: 0.1878 - val_accuracy: 0.9795\n",
            "Epoch 35/50\n",
            "36/36 [==============================] - 0s 11ms/step - loss: 0.0942 - accuracy: 0.9991 - val_loss: 0.1808 - val_accuracy: 0.9795\n",
            "Epoch 36/50\n",
            "36/36 [==============================] - 1s 19ms/step - loss: 0.0861 - accuracy: 0.9987 - val_loss: 0.1801 - val_accuracy: 0.9774\n",
            "Epoch 37/50\n",
            "36/36 [==============================] - 1s 15ms/step - loss: 0.0788 - accuracy: 0.9982 - val_loss: 0.1648 - val_accuracy: 0.9795\n",
            "Epoch 38/50\n",
            "36/36 [==============================] - 0s 11ms/step - loss: 0.0713 - accuracy: 0.9996 - val_loss: 0.1510 - val_accuracy: 0.9815\n",
            "Epoch 39/50\n",
            "36/36 [==============================] - 0s 8ms/step - loss: 0.0653 - accuracy: 0.9991 - val_loss: 0.1542 - val_accuracy: 0.9795\n",
            "Epoch 40/50\n",
            "36/36 [==============================] - 0s 11ms/step - loss: 0.0590 - accuracy: 0.9996 - val_loss: 0.1518 - val_accuracy: 0.9795\n",
            "Epoch 41/50\n",
            "36/36 [==============================] - 1s 15ms/step - loss: 0.0535 - accuracy: 0.9996 - val_loss: 0.1532 - val_accuracy: 0.9774\n",
            "Model: \"sequential_5\"\n",
            "_________________________________________________________________\n",
            " Layer (type)                Output Shape              Param #   \n",
            "=================================================================\n",
            " embedding_5 (Embedding)     (None, 100, 300)          750000    \n",
            "                                                                 \n",
            " conv1d_7 (Conv1D)           (None, 99, 200)           120200    \n",
            "                                                                 \n",
            " max_pooling1d_5 (MaxPoolin  (None, 49, 200)           0         \n",
            " g1D)                                                            \n",
            "                                                                 \n",
            " dense_10 (Dense)            (None, 49, 128)           25728     \n",
            "                                                                 \n",
            " dropout_5 (Dropout)         (None, 49, 128)           0         \n",
            "                                                                 \n",
            " lstm_5 (LSTM)               (None, 64)                49408     \n",
            "                                                                 \n",
            " dense_11 (Dense)            (None, 1)                 65        \n",
            "                                                                 \n",
            "=================================================================\n",
            "Total params: 945401 (3.61 MB)\n",
            "Trainable params: 945401 (3.61 MB)\n",
            "Non-trainable params: 0 (0.00 Byte)\n",
            "_________________________________________________________________\n"
          ]
        }
      ]
    },
    {
      "cell_type": "code",
      "source": [
        "import matplotlib.pyplot as plt\n",
        "\n",
        "fig, (ax1, ax2) = plt.subplots(1, 2, figsize=(10, 3))\n",
        "ax1.plot(history.history['accuracy'], label='Train')\n",
        "ax1.plot(history.history['val_accuracy'], label='Val')\n",
        "ax1.set_title('Model Accuracy')\n",
        "ax1.set_xlabel('Epoch')\n",
        "ax1.set_ylabel('Accuracy')\n",
        "ax1.legend(loc='upper left')\n",
        "\n",
        "ax2.plot(history.history['loss'], label='Train')\n",
        "ax2.plot(history.history['val_loss'], label='Val')\n",
        "ax2.set_title('Model Loss')\n",
        "ax2.set_xlabel('Epoch')\n",
        "ax2.set_ylabel('Loss')\n",
        "ax2.legend(loc='upper left')\n",
        "\n",
        "plt.show()"
      ],
      "metadata": {
        "colab": {
          "base_uri": "https://localhost:8080/",
          "height": 333
        },
        "id": "58b8VosoHZqW",
        "outputId": "e120563b-42b8-442b-bd8a-fef69b770f1a"
      },
      "execution_count": null,
      "outputs": [
        {
          "output_type": "display_data",
          "data": {
            "text/plain": [
              "<Figure size 1000x300 with 2 Axes>"
            ],
            "image/png": "[encoded data removed]"
          },
          "metadata": {}
        }
      ]
    },
    {
      "cell_type": "code",
      "source": [
        "model.save('payment_CNNLSTM.h5')"
      ],
      "metadata": {
        "id": "hfMalbeREzCF",
        "colab": {
          "base_uri": "https://localhost:8080/"
        },
        "outputId": "0babe4ae-8104-4341-c1fe-7d489e6b507b"
      },
      "execution_count": null,
      "outputs": [
        {
          "output_type": "stream",
          "name": "stderr",
          "text": [
            "/usr/local/lib/python3.10/dist-packages/keras/src/engine/training.py:3000: UserWarning: You are saving your model as an HDF5 file via `model.save()`. This file format is considered legacy. We recommend using instead the native Keras format, e.g. `model.save('my_model.keras')`.\n",
            "  saving_api.save_model(\n"
          ]
        }
      ]
    },
    {
      "cell_type": "code",
      "source": [
        "predictions = model.predict(x_test)"
      ],
      "metadata": {
        "colab": {
          "base_uri": "https://localhost:8080/"
        },
        "id": "7Ptrx1aPEzEg",
        "outputId": "9cdaf483-c7ca-4ceb-a0ea-3ada59e34e05"
      },
      "execution_count": null,
      "outputs": [
        {
          "output_type": "stream",
          "name": "stdout",
          "text": [
            "16/16 [==============================] - 0s 3ms/step\n"
          ]
        }
      ]
    },
    {
      "cell_type": "code",
      "source": [
        "y_pred = predictions >= 0.5"
      ],
      "metadata": {
        "id": "bRc-w_RQGnIn"
      },
      "execution_count": null,
      "outputs": []
    },
    {
      "cell_type": "code",
      "source": [
        "from sklearn.metrics import precision_score, recall_score, f1_score\n",
        "\n",
        "macro_precision = precision_score(y_test, y_pred, average='macro')\n",
        "macro_recall = recall_score(y_test, y_pred, average='macro')\n",
        "macro_f1 = f1_score(y_test, y_pred, average='macro')\n",
        "\n",
        "print(f\"Macro-Average Precision: {macro_precision}\")\n",
        "print(f\"Macro-Average Recall: {macro_recall}\")\n",
        "print(f\"Macro-Average F1 Score: {macro_f1}\")"
      ],
      "metadata": {
        "colab": {
          "base_uri": "https://localhost:8080/"
        },
        "id": "NUZPj7AfGlyr",
        "outputId": "0ed8fcf2-3061-4d6c-ff7c-ddf9732e5d20"
      },
      "execution_count": null,
      "outputs": [
        {
          "output_type": "stream",
          "name": "stdout",
          "text": [
            "Macro-Average Precision: 0.8603241719520789\n",
            "Macro-Average Recall: 0.8192831272636443\n",
            "Macro-Average F1 Score: 0.8384533898305084\n"
          ]
        }
      ]
    },
    {
      "cell_type": "code",
      "source": [
        "from sklearn.metrics import classification_report\n",
        "\n",
        "labels = [\"Negative\", \"Positive\"]\n",
        "report = classification_report(y_test, y_pred)\n",
        "print(report)"
      ],
      "metadata": {
        "colab": {
          "base_uri": "https://localhost:8080/"
        },
        "id": "gtvGrqSkEzGv",
        "outputId": "a51a3bf2-b6b3-43a8-eee3-df3eb7bc836d"
      },
      "execution_count": null,
      "outputs": [
        {
          "output_type": "stream",
          "name": "stdout",
          "text": [
            "              precision    recall  f1-score   support\n",
            "\n",
            "           0       0.99      0.99      0.99       471\n",
            "           1       0.73      0.65      0.69        17\n",
            "\n",
            "    accuracy                           0.98       488\n",
            "   macro avg       0.86      0.82      0.84       488\n",
            "weighted avg       0.98      0.98      0.98       488\n",
            "\n"
          ]
        }
      ]
    },
    {
      "cell_type": "code",
      "source": [
        "import seaborn as sns\n",
        "import matplotlib.pyplot as plt\n",
        "from sklearn.metrics import confusion_matrix\n",
        "\n",
        "cm = confusion_matrix(y_test, y_pred)\n",
        "\n",
        "plt.figure(figsize=(6, 4))\n",
        "ax = sns.heatmap(cm, annot=True, xticklabels=labels, yticklabels=labels, cmap='flare', fmt='d')\n",
        "plt.xlabel(\"Predicted label\")\n",
        "plt.ylabel(\"Actual label\")\n",
        "plt.show()"
      ],
      "metadata": {
        "colab": {
          "base_uri": "https://localhost:8080/",
          "height": 388
        },
        "id": "gRCSHhP_EzJd",
        "outputId": "1476f1b9-7673-4a98-baf5-821997bd0bde"
      },
      "execution_count": null,
      "outputs": [
        {
          "output_type": "display_data",
          "data": {
            "text/plain": [
              "<Figure size 600x400 with 2 Axes>"
            ],
            "image/png": "[encoded data removed]"
          },
          "metadata": {}
        }
      ]
    }
  ],
  "metadata": {
    "colab": {
      "provenance": [],
      "gpuClass": "premium",
      "machine_shape": "hm",
      "gpuType": "V100"
    },
    "kernelspec": {
      "display_name": "Python 3",
      "name": "python3"
    },
    "language_info": {
      "name": "python"
    },
    "accelerator": "GPU"
  },
  "nbformat": 4,
  "nbformat_minor": 0
}